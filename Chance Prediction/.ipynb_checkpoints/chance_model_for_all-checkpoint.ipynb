{
 "cells": [
  {
   "cell_type": "code",
   "execution_count": 1,
   "id": "6bd0737a",
   "metadata": {
    "execution": {
     "iopub.execute_input": "2022-08-12T16:01:26.020142Z",
     "iopub.status.busy": "2022-08-12T16:01:26.019567Z",
     "iopub.status.idle": "2022-08-12T16:01:26.027491Z",
     "shell.execute_reply": "2022-08-12T16:01:26.026916Z"
    },
    "papermill": {
     "duration": 0.027864,
     "end_time": "2022-08-12T16:01:26.030495",
     "exception": false,
     "start_time": "2022-08-12T16:01:26.002631",
     "status": "completed"
    },
    "tags": [
     "parameters"
    ]
   },
   "outputs": [],
   "source": [
    "model = \"lstm\"\n",
    "card_type = \"Diamonds\""
   ]
  },
  {
   "cell_type": "code",
   "execution_count": 2,
   "id": "e2ff36fb",
   "metadata": {
    "execution": {
     "iopub.execute_input": "2022-08-12T16:01:26.104478Z",
     "iopub.status.busy": "2022-08-12T16:01:26.104182Z",
     "iopub.status.idle": "2022-08-12T16:01:26.566995Z",
     "shell.execute_reply": "2022-08-12T16:01:26.566341Z"
    },
    "papermill": {
     "duration": 0.481453,
     "end_time": "2022-08-12T16:01:26.568895",
     "exception": false,
     "start_time": "2022-08-12T16:01:26.087442",
     "status": "completed"
    },
    "tags": []
   },
   "outputs": [],
   "source": [
    "import pandas as pd\n",
    "import numpy as np\n",
    "from chance_utils import compute_statistics\n",
    "from matplotlib import pyplot as plt"
   ]
  },
  {
   "cell_type": "code",
   "execution_count": 3,
   "id": "e9cc50ef",
   "metadata": {
    "execution": {
     "iopub.execute_input": "2022-08-12T16:01:26.599748Z",
     "iopub.status.busy": "2022-08-12T16:01:26.599481Z",
     "iopub.status.idle": "2022-08-12T16:01:26.602752Z",
     "shell.execute_reply": "2022-08-12T16:01:26.602138Z"
    },
    "papermill": {
     "duration": 0.021195,
     "end_time": "2022-08-12T16:01:26.604782",
     "exception": false,
     "start_time": "2022-08-12T16:01:26.583587",
     "status": "completed"
    },
    "tags": []
   },
   "outputs": [],
   "source": [
    "possible_result = [\"7\",\"8\",\"9\",\"10\",\"J\",\"Q\",\"K\",\"A\"]\n",
    "all_cards = ['Spades','Diamonds','Hearts','Clubs']\n",
    "n_outputs = 8\n",
    "n_features = 8*4\n",
    "sample_length = 240*5"
   ]
  },
  {
   "cell_type": "code",
   "execution_count": 4,
   "id": "bcf642f0",
   "metadata": {
    "execution": {
     "iopub.execute_input": "2022-08-12T16:01:26.634711Z",
     "iopub.status.busy": "2022-08-12T16:01:26.634501Z",
     "iopub.status.idle": "2022-08-12T16:01:26.650469Z",
     "shell.execute_reply": "2022-08-12T16:01:26.649913Z"
    },
    "papermill": {
     "duration": 0.033064,
     "end_time": "2022-08-12T16:01:26.652286",
     "exception": false,
     "start_time": "2022-08-12T16:01:26.619222",
     "status": "completed"
    },
    "tags": []
   },
   "outputs": [
    {
     "data": {
      "text/html": [
       "<div>\n",
       "<style scoped>\n",
       "    .dataframe tbody tr th:only-of-type {\n",
       "        vertical-align: middle;\n",
       "    }\n",
       "\n",
       "    .dataframe tbody tr th {\n",
       "        vertical-align: top;\n",
       "    }\n",
       "\n",
       "    .dataframe thead th {\n",
       "        text-align: right;\n",
       "    }\n",
       "</style>\n",
       "<table border=\"1\" class=\"dataframe\">\n",
       "  <thead>\n",
       "    <tr style=\"text-align: right;\">\n",
       "      <th></th>\n",
       "      <th>index</th>\n",
       "      <th>0</th>\n",
       "      <th>1</th>\n",
       "      <th>2</th>\n",
       "      <th>3</th>\n",
       "      <th>4</th>\n",
       "      <th>5</th>\n",
       "      <th>6</th>\n",
       "      <th>7</th>\n",
       "    </tr>\n",
       "  </thead>\n",
       "  <tbody>\n",
       "    <tr>\n",
       "      <th>0</th>\n",
       "      <td>7</td>\n",
       "      <td>1</td>\n",
       "      <td>0</td>\n",
       "      <td>0</td>\n",
       "      <td>0</td>\n",
       "      <td>0</td>\n",
       "      <td>0</td>\n",
       "      <td>0</td>\n",
       "      <td>0</td>\n",
       "    </tr>\n",
       "    <tr>\n",
       "      <th>1</th>\n",
       "      <td>8</td>\n",
       "      <td>0</td>\n",
       "      <td>1</td>\n",
       "      <td>0</td>\n",
       "      <td>0</td>\n",
       "      <td>0</td>\n",
       "      <td>0</td>\n",
       "      <td>0</td>\n",
       "      <td>0</td>\n",
       "    </tr>\n",
       "    <tr>\n",
       "      <th>2</th>\n",
       "      <td>9</td>\n",
       "      <td>0</td>\n",
       "      <td>0</td>\n",
       "      <td>1</td>\n",
       "      <td>0</td>\n",
       "      <td>0</td>\n",
       "      <td>0</td>\n",
       "      <td>0</td>\n",
       "      <td>0</td>\n",
       "    </tr>\n",
       "    <tr>\n",
       "      <th>3</th>\n",
       "      <td>10</td>\n",
       "      <td>0</td>\n",
       "      <td>0</td>\n",
       "      <td>0</td>\n",
       "      <td>1</td>\n",
       "      <td>0</td>\n",
       "      <td>0</td>\n",
       "      <td>0</td>\n",
       "      <td>0</td>\n",
       "    </tr>\n",
       "    <tr>\n",
       "      <th>4</th>\n",
       "      <td>J</td>\n",
       "      <td>0</td>\n",
       "      <td>0</td>\n",
       "      <td>0</td>\n",
       "      <td>0</td>\n",
       "      <td>1</td>\n",
       "      <td>0</td>\n",
       "      <td>0</td>\n",
       "      <td>0</td>\n",
       "    </tr>\n",
       "    <tr>\n",
       "      <th>5</th>\n",
       "      <td>Q</td>\n",
       "      <td>0</td>\n",
       "      <td>0</td>\n",
       "      <td>0</td>\n",
       "      <td>0</td>\n",
       "      <td>0</td>\n",
       "      <td>1</td>\n",
       "      <td>0</td>\n",
       "      <td>0</td>\n",
       "    </tr>\n",
       "    <tr>\n",
       "      <th>6</th>\n",
       "      <td>K</td>\n",
       "      <td>0</td>\n",
       "      <td>0</td>\n",
       "      <td>0</td>\n",
       "      <td>0</td>\n",
       "      <td>0</td>\n",
       "      <td>0</td>\n",
       "      <td>1</td>\n",
       "      <td>0</td>\n",
       "    </tr>\n",
       "    <tr>\n",
       "      <th>7</th>\n",
       "      <td>A</td>\n",
       "      <td>0</td>\n",
       "      <td>0</td>\n",
       "      <td>0</td>\n",
       "      <td>0</td>\n",
       "      <td>0</td>\n",
       "      <td>0</td>\n",
       "      <td>0</td>\n",
       "      <td>1</td>\n",
       "    </tr>\n",
       "  </tbody>\n",
       "</table>\n",
       "</div>"
      ],
      "text/plain": [
       "  index  0  1  2  3  4  5  6  7\n",
       "0     7  1  0  0  0  0  0  0  0\n",
       "1     8  0  1  0  0  0  0  0  0\n",
       "2     9  0  0  1  0  0  0  0  0\n",
       "3    10  0  0  0  1  0  0  0  0\n",
       "4     J  0  0  0  0  1  0  0  0\n",
       "5     Q  0  0  0  0  0  1  0  0\n",
       "6     K  0  0  0  0  0  0  1  0\n",
       "7     A  0  0  0  0  0  0  0  1"
      ]
     },
     "execution_count": 4,
     "metadata": {},
     "output_type": "execute_result"
    }
   ],
   "source": [
    "dummies = pd.get_dummies(possible_result).T\n",
    "dummies = dummies.reindex(index=possible_result,fill_value=0)\n",
    "dummies = dummies.reset_index()\n",
    "dummies"
   ]
  },
  {
   "cell_type": "code",
   "execution_count": 5,
   "id": "4c6d0831",
   "metadata": {},
   "outputs": [],
   "source": [
    "def replace_with_dummies(df):\n",
    "    df = pd.merge(dummies,df,left_on='index',right_on=\"Spades\",how=\"right\").drop(columns=[\"Spades\"])\n",
    "    df = pd.merge(dummies,df,left_on='index',right_on=\"Diamonds\",how=\"right\",suffixes=(\"_Diamonds\",\"\")).drop(columns=[\"Diamonds\",\"index_Diamonds\"])\n",
    "    df = pd.merge(dummies,df,left_on='index',right_on=\"Hearts\",how=\"right\",suffixes=(\"_Hearts\",\"\")).drop(columns=[\"Hearts\",\"index_Hearts\"])\n",
    "    return pd.merge(dummies,df,left_on='index',right_on=\"Clubs\",how=\"right\",suffixes=(\"_Clubs\",\"\")).drop(columns=[\"index\",\"Clubs\",\"index_Clubs\"])\n",
    "\n",
    "    "
   ]
  },
  {
   "cell_type": "code",
   "execution_count": 6,
   "id": "41624297",
   "metadata": {},
   "outputs": [],
   "source": [
    "test_chance = pd.read_csv(\"test_chance.csv\",index_col=[0])\n",
    "test_chance.Date = pd.to_datetime(test_chance.Date)\n",
    "\n",
    "train_chance = pd.read_csv('train_chance.csv',index_col=[0])\n",
    "train_chance.Date = pd.to_datetime(train_chance.Date)"
   ]
  },
  {
   "cell_type": "code",
   "execution_count": 7,
   "id": "727e9b7e",
   "metadata": {},
   "outputs": [
    {
     "name": "stderr",
     "output_type": "stream",
     "text": [
      "/var/folders/3r/ygns0_h16pl1__pln5g3j8t80000gp/T/ipykernel_90159/3572030588.py:5: FutureWarning: Passing 'suffixes' which cause duplicate columns {'3', '5', '6', '7', '2', '0', '1', '4'} in the result is deprecated and will raise a MergeError in a future version.\n",
      "  return pd.merge(dummies,df,left_on='index',right_on=\"Clubs\",how=\"right\",suffixes=(\"_Clubs\",\"\")).drop(columns=[\"index\",\"Clubs\",\"index_Clubs\"])\n",
      "/var/folders/3r/ygns0_h16pl1__pln5g3j8t80000gp/T/ipykernel_90159/3572030588.py:5: FutureWarning: Passing 'suffixes' which cause duplicate columns {'3', '5', '6', '7', '2', '0', '1', '4'} in the result is deprecated and will raise a MergeError in a future version.\n",
      "  return pd.merge(dummies,df,left_on='index',right_on=\"Clubs\",how=\"right\",suffixes=(\"_Clubs\",\"\")).drop(columns=[\"index\",\"Clubs\",\"index_Clubs\"])\n"
     ]
    }
   ],
   "source": [
    "test_chance = replace_with_dummies(test_chance)\n",
    "train_chance = replace_with_dummies(train_chance)"
   ]
  },
  {
   "cell_type": "code",
   "execution_count": 8,
   "id": "9b8fb200",
   "metadata": {
    "execution": {
     "iopub.execute_input": "2022-08-12T16:01:26.829120Z",
     "iopub.status.busy": "2022-08-12T16:01:26.828809Z",
     "iopub.status.idle": "2022-08-12T16:01:26.842451Z",
     "shell.execute_reply": "2022-08-12T16:01:26.841997Z"
    },
    "papermill": {
     "duration": 0.030939,
     "end_time": "2022-08-12T16:01:26.844215",
     "exception": false,
     "start_time": "2022-08-12T16:01:26.813276",
     "status": "completed"
    },
    "tags": []
   },
   "outputs": [
    {
     "data": {
      "text/html": [
       "<div>\n",
       "<style scoped>\n",
       "    .dataframe tbody tr th:only-of-type {\n",
       "        vertical-align: middle;\n",
       "    }\n",
       "\n",
       "    .dataframe tbody tr th {\n",
       "        vertical-align: top;\n",
       "    }\n",
       "\n",
       "    .dataframe thead th {\n",
       "        text-align: right;\n",
       "    }\n",
       "</style>\n",
       "<table border=\"1\" class=\"dataframe\">\n",
       "  <thead>\n",
       "    <tr style=\"text-align: right;\">\n",
       "      <th></th>\n",
       "      <th>0_Clubs</th>\n",
       "      <th>1_Clubs</th>\n",
       "      <th>2_Clubs</th>\n",
       "      <th>3_Clubs</th>\n",
       "      <th>4_Clubs</th>\n",
       "      <th>5_Clubs</th>\n",
       "      <th>6_Clubs</th>\n",
       "      <th>7_Clubs</th>\n",
       "      <th>0</th>\n",
       "      <th>1</th>\n",
       "      <th>...</th>\n",
       "      <th>1</th>\n",
       "      <th>2</th>\n",
       "      <th>3</th>\n",
       "      <th>4</th>\n",
       "      <th>5</th>\n",
       "      <th>6</th>\n",
       "      <th>7</th>\n",
       "      <th>Date</th>\n",
       "      <th>lottoryNumber</th>\n",
       "      <th>id</th>\n",
       "    </tr>\n",
       "  </thead>\n",
       "  <tbody>\n",
       "    <tr>\n",
       "      <th>29119</th>\n",
       "      <td>0</td>\n",
       "      <td>0</td>\n",
       "      <td>0</td>\n",
       "      <td>1</td>\n",
       "      <td>0</td>\n",
       "      <td>0</td>\n",
       "      <td>0</td>\n",
       "      <td>0</td>\n",
       "      <td>0</td>\n",
       "      <td>0</td>\n",
       "      <td>...</td>\n",
       "      <td>0</td>\n",
       "      <td>1</td>\n",
       "      <td>0</td>\n",
       "      <td>0</td>\n",
       "      <td>0</td>\n",
       "      <td>0</td>\n",
       "      <td>0</td>\n",
       "      <td>2017-12-07 00:00:00.035924</td>\n",
       "      <td>35924</td>\n",
       "      <td>1</td>\n",
       "    </tr>\n",
       "    <tr>\n",
       "      <th>29120</th>\n",
       "      <td>1</td>\n",
       "      <td>0</td>\n",
       "      <td>0</td>\n",
       "      <td>0</td>\n",
       "      <td>0</td>\n",
       "      <td>0</td>\n",
       "      <td>0</td>\n",
       "      <td>0</td>\n",
       "      <td>0</td>\n",
       "      <td>0</td>\n",
       "      <td>...</td>\n",
       "      <td>1</td>\n",
       "      <td>0</td>\n",
       "      <td>0</td>\n",
       "      <td>0</td>\n",
       "      <td>0</td>\n",
       "      <td>0</td>\n",
       "      <td>0</td>\n",
       "      <td>2017-12-07 00:00:00.035925</td>\n",
       "      <td>35925</td>\n",
       "      <td>1</td>\n",
       "    </tr>\n",
       "    <tr>\n",
       "      <th>29121</th>\n",
       "      <td>0</td>\n",
       "      <td>0</td>\n",
       "      <td>0</td>\n",
       "      <td>0</td>\n",
       "      <td>0</td>\n",
       "      <td>0</td>\n",
       "      <td>0</td>\n",
       "      <td>1</td>\n",
       "      <td>0</td>\n",
       "      <td>0</td>\n",
       "      <td>...</td>\n",
       "      <td>1</td>\n",
       "      <td>0</td>\n",
       "      <td>0</td>\n",
       "      <td>0</td>\n",
       "      <td>0</td>\n",
       "      <td>0</td>\n",
       "      <td>0</td>\n",
       "      <td>2017-12-07 00:00:00.035926</td>\n",
       "      <td>35926</td>\n",
       "      <td>1</td>\n",
       "    </tr>\n",
       "    <tr>\n",
       "      <th>29122</th>\n",
       "      <td>0</td>\n",
       "      <td>0</td>\n",
       "      <td>0</td>\n",
       "      <td>1</td>\n",
       "      <td>0</td>\n",
       "      <td>0</td>\n",
       "      <td>0</td>\n",
       "      <td>0</td>\n",
       "      <td>0</td>\n",
       "      <td>0</td>\n",
       "      <td>...</td>\n",
       "      <td>0</td>\n",
       "      <td>0</td>\n",
       "      <td>1</td>\n",
       "      <td>0</td>\n",
       "      <td>0</td>\n",
       "      <td>0</td>\n",
       "      <td>0</td>\n",
       "      <td>2017-12-07 00:00:00.035927</td>\n",
       "      <td>35927</td>\n",
       "      <td>1</td>\n",
       "    </tr>\n",
       "    <tr>\n",
       "      <th>29123</th>\n",
       "      <td>0</td>\n",
       "      <td>0</td>\n",
       "      <td>0</td>\n",
       "      <td>0</td>\n",
       "      <td>0</td>\n",
       "      <td>1</td>\n",
       "      <td>0</td>\n",
       "      <td>0</td>\n",
       "      <td>0</td>\n",
       "      <td>0</td>\n",
       "      <td>...</td>\n",
       "      <td>0</td>\n",
       "      <td>1</td>\n",
       "      <td>0</td>\n",
       "      <td>0</td>\n",
       "      <td>0</td>\n",
       "      <td>0</td>\n",
       "      <td>0</td>\n",
       "      <td>2017-12-07 00:00:00.035928</td>\n",
       "      <td>35928</td>\n",
       "      <td>1</td>\n",
       "    </tr>\n",
       "  </tbody>\n",
       "</table>\n",
       "<p>5 rows × 35 columns</p>\n",
       "</div>"
      ],
      "text/plain": [
       "       0_Clubs  1_Clubs  2_Clubs  3_Clubs  4_Clubs  5_Clubs  6_Clubs  7_Clubs  \\\n",
       "29119        0        0        0        1        0        0        0        0   \n",
       "29120        1        0        0        0        0        0        0        0   \n",
       "29121        0        0        0        0        0        0        0        1   \n",
       "29122        0        0        0        1        0        0        0        0   \n",
       "29123        0        0        0        0        0        1        0        0   \n",
       "\n",
       "       0  1  ...  1  2  3  4  5  6  7                       Date  \\\n",
       "29119  0  0  ...  0  1  0  0  0  0  0 2017-12-07 00:00:00.035924   \n",
       "29120  0  0  ...  1  0  0  0  0  0  0 2017-12-07 00:00:00.035925   \n",
       "29121  0  0  ...  1  0  0  0  0  0  0 2017-12-07 00:00:00.035926   \n",
       "29122  0  0  ...  0  0  1  0  0  0  0 2017-12-07 00:00:00.035927   \n",
       "29123  0  0  ...  0  1  0  0  0  0  0 2017-12-07 00:00:00.035928   \n",
       "\n",
       "       lottoryNumber  id  \n",
       "29119          35924   1  \n",
       "29120          35925   1  \n",
       "29121          35926   1  \n",
       "29122          35927   1  \n",
       "29123          35928   1  \n",
       "\n",
       "[5 rows x 35 columns]"
      ]
     },
     "execution_count": 8,
     "metadata": {},
     "output_type": "execute_result"
    }
   ],
   "source": [
    "# make the samples ready to tsfresh\n",
    "spades_test_chance = test_chance.sort_values(by=\"Date\").reset_index(drop=True)\n",
    "spades_test_chance['id'] = 1\n",
    "\n",
    "spades_train_chance = train_chance.sort_values(by=\"Date\").reset_index(drop=True)\n",
    "spades_train_chance['id'] = 1\n",
    "\n",
    "spades_train_chance.tail()"
   ]
  },
  {
   "cell_type": "code",
   "execution_count": 9,
   "id": "5675d2b2",
   "metadata": {
    "execution": {
     "iopub.execute_input": "2022-08-12T16:01:26.877105Z",
     "iopub.status.busy": "2022-08-12T16:01:26.876910Z",
     "iopub.status.idle": "2022-08-12T16:02:59.480198Z",
     "shell.execute_reply": "2022-08-12T16:02:59.479413Z"
    },
    "papermill": {
     "duration": 92.62244,
     "end_time": "2022-08-12T16:02:59.482447",
     "exception": false,
     "start_time": "2022-08-12T16:01:26.860007",
     "status": "completed"
    },
    "tags": []
   },
   "outputs": [
    {
     "name": "stderr",
     "output_type": "stream",
     "text": [
      "/Users/serlich/Documents/Notebooks/env/lib/python3.8/site-packages/tsfresh/utilities/dataframe_functions.py:520: UserWarning: Your time stamps are not uniformly sampled, which makes rolling nonsensical in some domains.\n",
      "  warnings.warn(\n",
      "Rolling: 100%|██████████████████████████████████| 40/40 [00:15<00:00,  2.53it/s]\n",
      "/Users/serlich/Documents/Notebooks/env/lib/python3.8/site-packages/tsfresh/utilities/dataframe_functions.py:520: UserWarning: Your time stamps are not uniformly sampled, which makes rolling nonsensical in some domains.\n",
      "  warnings.warn(\n",
      "Rolling: 100%|██████████████████████████████████| 40/40 [01:11<00:00,  1.79s/it]\n"
     ]
    },
    {
     "data": {
      "text/html": [
       "<div>\n",
       "<style scoped>\n",
       "    .dataframe tbody tr th:only-of-type {\n",
       "        vertical-align: middle;\n",
       "    }\n",
       "\n",
       "    .dataframe tbody tr th {\n",
       "        vertical-align: top;\n",
       "    }\n",
       "\n",
       "    .dataframe thead th {\n",
       "        text-align: right;\n",
       "    }\n",
       "</style>\n",
       "<table border=\"1\" class=\"dataframe\">\n",
       "  <thead>\n",
       "    <tr style=\"text-align: right;\">\n",
       "      <th></th>\n",
       "      <th>0_Clubs</th>\n",
       "      <th>1_Clubs</th>\n",
       "      <th>2_Clubs</th>\n",
       "      <th>3_Clubs</th>\n",
       "      <th>4_Clubs</th>\n",
       "      <th>5_Clubs</th>\n",
       "      <th>6_Clubs</th>\n",
       "      <th>7_Clubs</th>\n",
       "      <th>0</th>\n",
       "      <th>1</th>\n",
       "      <th>...</th>\n",
       "      <th>1</th>\n",
       "      <th>2</th>\n",
       "      <th>3</th>\n",
       "      <th>4</th>\n",
       "      <th>5</th>\n",
       "      <th>6</th>\n",
       "      <th>7</th>\n",
       "      <th>Date</th>\n",
       "      <th>lottoryNumber</th>\n",
       "      <th>id</th>\n",
       "    </tr>\n",
       "  </thead>\n",
       "  <tbody>\n",
       "    <tr>\n",
       "      <th>33509995</th>\n",
       "      <td>0</td>\n",
       "      <td>0</td>\n",
       "      <td>0</td>\n",
       "      <td>1</td>\n",
       "      <td>0</td>\n",
       "      <td>0</td>\n",
       "      <td>0</td>\n",
       "      <td>0</td>\n",
       "      <td>0</td>\n",
       "      <td>0</td>\n",
       "      <td>...</td>\n",
       "      <td>0</td>\n",
       "      <td>1</td>\n",
       "      <td>0</td>\n",
       "      <td>0</td>\n",
       "      <td>0</td>\n",
       "      <td>0</td>\n",
       "      <td>0</td>\n",
       "      <td>2017-12-07 00:00:00.035924</td>\n",
       "      <td>35924</td>\n",
       "      <td>(1, 2017-12-07 00:00:00.035928)</td>\n",
       "    </tr>\n",
       "    <tr>\n",
       "      <th>33509996</th>\n",
       "      <td>1</td>\n",
       "      <td>0</td>\n",
       "      <td>0</td>\n",
       "      <td>0</td>\n",
       "      <td>0</td>\n",
       "      <td>0</td>\n",
       "      <td>0</td>\n",
       "      <td>0</td>\n",
       "      <td>0</td>\n",
       "      <td>0</td>\n",
       "      <td>...</td>\n",
       "      <td>1</td>\n",
       "      <td>0</td>\n",
       "      <td>0</td>\n",
       "      <td>0</td>\n",
       "      <td>0</td>\n",
       "      <td>0</td>\n",
       "      <td>0</td>\n",
       "      <td>2017-12-07 00:00:00.035925</td>\n",
       "      <td>35925</td>\n",
       "      <td>(1, 2017-12-07 00:00:00.035928)</td>\n",
       "    </tr>\n",
       "    <tr>\n",
       "      <th>33509997</th>\n",
       "      <td>0</td>\n",
       "      <td>0</td>\n",
       "      <td>0</td>\n",
       "      <td>0</td>\n",
       "      <td>0</td>\n",
       "      <td>0</td>\n",
       "      <td>0</td>\n",
       "      <td>1</td>\n",
       "      <td>0</td>\n",
       "      <td>0</td>\n",
       "      <td>...</td>\n",
       "      <td>1</td>\n",
       "      <td>0</td>\n",
       "      <td>0</td>\n",
       "      <td>0</td>\n",
       "      <td>0</td>\n",
       "      <td>0</td>\n",
       "      <td>0</td>\n",
       "      <td>2017-12-07 00:00:00.035926</td>\n",
       "      <td>35926</td>\n",
       "      <td>(1, 2017-12-07 00:00:00.035928)</td>\n",
       "    </tr>\n",
       "    <tr>\n",
       "      <th>33509998</th>\n",
       "      <td>0</td>\n",
       "      <td>0</td>\n",
       "      <td>0</td>\n",
       "      <td>1</td>\n",
       "      <td>0</td>\n",
       "      <td>0</td>\n",
       "      <td>0</td>\n",
       "      <td>0</td>\n",
       "      <td>0</td>\n",
       "      <td>0</td>\n",
       "      <td>...</td>\n",
       "      <td>0</td>\n",
       "      <td>0</td>\n",
       "      <td>1</td>\n",
       "      <td>0</td>\n",
       "      <td>0</td>\n",
       "      <td>0</td>\n",
       "      <td>0</td>\n",
       "      <td>2017-12-07 00:00:00.035927</td>\n",
       "      <td>35927</td>\n",
       "      <td>(1, 2017-12-07 00:00:00.035928)</td>\n",
       "    </tr>\n",
       "    <tr>\n",
       "      <th>33509999</th>\n",
       "      <td>0</td>\n",
       "      <td>0</td>\n",
       "      <td>0</td>\n",
       "      <td>0</td>\n",
       "      <td>0</td>\n",
       "      <td>1</td>\n",
       "      <td>0</td>\n",
       "      <td>0</td>\n",
       "      <td>0</td>\n",
       "      <td>0</td>\n",
       "      <td>...</td>\n",
       "      <td>0</td>\n",
       "      <td>1</td>\n",
       "      <td>0</td>\n",
       "      <td>0</td>\n",
       "      <td>0</td>\n",
       "      <td>0</td>\n",
       "      <td>0</td>\n",
       "      <td>2017-12-07 00:00:00.035928</td>\n",
       "      <td>35928</td>\n",
       "      <td>(1, 2017-12-07 00:00:00.035928)</td>\n",
       "    </tr>\n",
       "  </tbody>\n",
       "</table>\n",
       "<p>5 rows × 35 columns</p>\n",
       "</div>"
      ],
      "text/plain": [
       "          0_Clubs  1_Clubs  2_Clubs  3_Clubs  4_Clubs  5_Clubs  6_Clubs  \\\n",
       "33509995        0        0        0        1        0        0        0   \n",
       "33509996        1        0        0        0        0        0        0   \n",
       "33509997        0        0        0        0        0        0        0   \n",
       "33509998        0        0        0        1        0        0        0   \n",
       "33509999        0        0        0        0        0        1        0   \n",
       "\n",
       "          7_Clubs  0  1  ...  1  2  3  4  5  6  7                       Date  \\\n",
       "33509995        0  0  0  ...  0  1  0  0  0  0  0 2017-12-07 00:00:00.035924   \n",
       "33509996        0  0  0  ...  1  0  0  0  0  0  0 2017-12-07 00:00:00.035925   \n",
       "33509997        1  0  0  ...  1  0  0  0  0  0  0 2017-12-07 00:00:00.035926   \n",
       "33509998        0  0  0  ...  0  0  1  0  0  0  0 2017-12-07 00:00:00.035927   \n",
       "33509999        0  0  0  ...  0  1  0  0  0  0  0 2017-12-07 00:00:00.035928   \n",
       "\n",
       "          lottoryNumber                               id  \n",
       "33509995          35924  (1, 2017-12-07 00:00:00.035928)  \n",
       "33509996          35925  (1, 2017-12-07 00:00:00.035928)  \n",
       "33509997          35926  (1, 2017-12-07 00:00:00.035928)  \n",
       "33509998          35927  (1, 2017-12-07 00:00:00.035928)  \n",
       "33509999          35928  (1, 2017-12-07 00:00:00.035928)  \n",
       "\n",
       "[5 rows x 35 columns]"
      ]
     },
     "execution_count": 9,
     "metadata": {},
     "output_type": "execute_result"
    }
   ],
   "source": [
    "from tsfresh.utilities.dataframe_functions import roll_time_series\n",
    "\n",
    "df_test_rolled = roll_time_series(spades_test_chance, column_id=\"id\",column_sort=\"Date\",max_timeshift=sample_length-1,min_timeshift=sample_length-1)\n",
    "df_train_rolled = roll_time_series(spades_train_chance, column_id=\"id\",column_sort=\"Date\",max_timeshift=sample_length-1,min_timeshift=sample_length-1)\n",
    "df_train_rolled.tail()"
   ]
  },
  {
   "cell_type": "code",
   "execution_count": 10,
   "id": "3c9c7bc2",
   "metadata": {
    "execution": {
     "iopub.execute_input": "2022-08-12T16:02:59.577844Z",
     "iopub.status.busy": "2022-08-12T16:02:59.577608Z",
     "iopub.status.idle": "2022-08-12T16:02:59.589206Z",
     "shell.execute_reply": "2022-08-12T16:02:59.588490Z"
    },
    "papermill": {
     "duration": 0.059759,
     "end_time": "2022-08-12T16:02:59.591849",
     "exception": false,
     "start_time": "2022-08-12T16:02:59.532090",
     "status": "completed"
    },
    "tags": []
   },
   "outputs": [
    {
     "data": {
      "text/html": [
       "<div>\n",
       "<style scoped>\n",
       "    .dataframe tbody tr th:only-of-type {\n",
       "        vertical-align: middle;\n",
       "    }\n",
       "\n",
       "    .dataframe tbody tr th {\n",
       "        vertical-align: top;\n",
       "    }\n",
       "\n",
       "    .dataframe thead th {\n",
       "        text-align: right;\n",
       "    }\n",
       "</style>\n",
       "<table border=\"1\" class=\"dataframe\">\n",
       "  <thead>\n",
       "    <tr style=\"text-align: right;\">\n",
       "      <th></th>\n",
       "      <th>0_Clubs</th>\n",
       "      <th>1_Clubs</th>\n",
       "      <th>2_Clubs</th>\n",
       "      <th>3_Clubs</th>\n",
       "      <th>4_Clubs</th>\n",
       "      <th>5_Clubs</th>\n",
       "      <th>6_Clubs</th>\n",
       "      <th>7_Clubs</th>\n",
       "      <th>0</th>\n",
       "      <th>1</th>\n",
       "      <th>...</th>\n",
       "      <th>7_Diamonds</th>\n",
       "      <th>0</th>\n",
       "      <th>1</th>\n",
       "      <th>2</th>\n",
       "      <th>3</th>\n",
       "      <th>4</th>\n",
       "      <th>5</th>\n",
       "      <th>6</th>\n",
       "      <th>7</th>\n",
       "      <th>lottoryNumber</th>\n",
       "    </tr>\n",
       "  </thead>\n",
       "  <tbody>\n",
       "    <tr>\n",
       "      <th>0</th>\n",
       "      <td>0</td>\n",
       "      <td>0</td>\n",
       "      <td>0</td>\n",
       "      <td>0</td>\n",
       "      <td>0</td>\n",
       "      <td>1</td>\n",
       "      <td>0</td>\n",
       "      <td>0</td>\n",
       "      <td>0</td>\n",
       "      <td>0</td>\n",
       "      <td>...</td>\n",
       "      <td>0</td>\n",
       "      <td>0</td>\n",
       "      <td>0</td>\n",
       "      <td>0</td>\n",
       "      <td>0</td>\n",
       "      <td>1</td>\n",
       "      <td>0</td>\n",
       "      <td>0</td>\n",
       "      <td>0</td>\n",
       "      <td>35944</td>\n",
       "    </tr>\n",
       "    <tr>\n",
       "      <th>1</th>\n",
       "      <td>0</td>\n",
       "      <td>0</td>\n",
       "      <td>1</td>\n",
       "      <td>0</td>\n",
       "      <td>0</td>\n",
       "      <td>0</td>\n",
       "      <td>0</td>\n",
       "      <td>0</td>\n",
       "      <td>0</td>\n",
       "      <td>0</td>\n",
       "      <td>...</td>\n",
       "      <td>0</td>\n",
       "      <td>0</td>\n",
       "      <td>0</td>\n",
       "      <td>0</td>\n",
       "      <td>0</td>\n",
       "      <td>0</td>\n",
       "      <td>1</td>\n",
       "      <td>0</td>\n",
       "      <td>0</td>\n",
       "      <td>35945</td>\n",
       "    </tr>\n",
       "    <tr>\n",
       "      <th>2</th>\n",
       "      <td>0</td>\n",
       "      <td>0</td>\n",
       "      <td>1</td>\n",
       "      <td>0</td>\n",
       "      <td>0</td>\n",
       "      <td>0</td>\n",
       "      <td>0</td>\n",
       "      <td>0</td>\n",
       "      <td>0</td>\n",
       "      <td>0</td>\n",
       "      <td>...</td>\n",
       "      <td>0</td>\n",
       "      <td>0</td>\n",
       "      <td>0</td>\n",
       "      <td>0</td>\n",
       "      <td>0</td>\n",
       "      <td>0</td>\n",
       "      <td>0</td>\n",
       "      <td>1</td>\n",
       "      <td>0</td>\n",
       "      <td>35946</td>\n",
       "    </tr>\n",
       "    <tr>\n",
       "      <th>3</th>\n",
       "      <td>0</td>\n",
       "      <td>0</td>\n",
       "      <td>0</td>\n",
       "      <td>1</td>\n",
       "      <td>0</td>\n",
       "      <td>0</td>\n",
       "      <td>0</td>\n",
       "      <td>0</td>\n",
       "      <td>0</td>\n",
       "      <td>0</td>\n",
       "      <td>...</td>\n",
       "      <td>0</td>\n",
       "      <td>0</td>\n",
       "      <td>0</td>\n",
       "      <td>1</td>\n",
       "      <td>0</td>\n",
       "      <td>0</td>\n",
       "      <td>0</td>\n",
       "      <td>0</td>\n",
       "      <td>0</td>\n",
       "      <td>35947</td>\n",
       "    </tr>\n",
       "    <tr>\n",
       "      <th>4</th>\n",
       "      <td>0</td>\n",
       "      <td>1</td>\n",
       "      <td>0</td>\n",
       "      <td>0</td>\n",
       "      <td>0</td>\n",
       "      <td>0</td>\n",
       "      <td>0</td>\n",
       "      <td>0</td>\n",
       "      <td>0</td>\n",
       "      <td>0</td>\n",
       "      <td>...</td>\n",
       "      <td>0</td>\n",
       "      <td>0</td>\n",
       "      <td>0</td>\n",
       "      <td>0</td>\n",
       "      <td>0</td>\n",
       "      <td>0</td>\n",
       "      <td>0</td>\n",
       "      <td>1</td>\n",
       "      <td>0</td>\n",
       "      <td>35948</td>\n",
       "    </tr>\n",
       "  </tbody>\n",
       "</table>\n",
       "<p>5 rows × 33 columns</p>\n",
       "</div>"
      ],
      "text/plain": [
       "   0_Clubs  1_Clubs  2_Clubs  3_Clubs  4_Clubs  5_Clubs  6_Clubs  7_Clubs  0  \\\n",
       "0        0        0        0        0        0        1        0        0  0   \n",
       "1        0        0        1        0        0        0        0        0  0   \n",
       "2        0        0        1        0        0        0        0        0  0   \n",
       "3        0        0        0        1        0        0        0        0  0   \n",
       "4        0        1        0        0        0        0        0        0  0   \n",
       "\n",
       "   1  ...  7_Diamonds  0  1  2  3  4  5  6  7  lottoryNumber  \n",
       "0  0  ...           0  0  0  0  0  1  0  0  0          35944  \n",
       "1  0  ...           0  0  0  0  0  0  1  0  0          35945  \n",
       "2  0  ...           0  0  0  0  0  0  0  1  0          35946  \n",
       "3  0  ...           0  0  0  1  0  0  0  0  0          35947  \n",
       "4  0  ...           0  0  0  0  0  0  0  1  0          35948  \n",
       "\n",
       "[5 rows x 33 columns]"
      ]
     },
     "execution_count": 10,
     "metadata": {},
     "output_type": "execute_result"
    }
   ],
   "source": [
    "test_labeling_df = test_chance.drop(columns=[\"Date\"])\n",
    "train_labeling_df = train_chance.drop(columns=[\"Date\"])\n",
    "\n",
    "labeling_df = pd.concat([test_labeling_df,train_labeling_df])\n",
    "labeling_df.head()"
   ]
  },
  {
   "cell_type": "code",
   "execution_count": 11,
   "id": "dc61960c",
   "metadata": {
    "execution": {
     "iopub.execute_input": "2022-08-12T16:02:59.693854Z",
     "iopub.status.busy": "2022-08-12T16:02:59.693634Z",
     "iopub.status.idle": "2022-08-12T16:02:59.697785Z",
     "shell.execute_reply": "2022-08-12T16:02:59.697298Z"
    },
    "papermill": {
     "duration": 0.05497,
     "end_time": "2022-08-12T16:02:59.699560",
     "exception": false,
     "start_time": "2022-08-12T16:02:59.644590",
     "status": "completed"
    },
    "tags": []
   },
   "outputs": [],
   "source": [
    "def make_a_sample(current_sample,labeling_df):\n",
    "    \n",
    "    current_id = current_sample['id'].values[0]\n",
    "    final_label = None\n",
    "    \n",
    "    assert current_sample.shape[0] == sample_length, f\"{current_id} is not shape of {sample_length}\"\n",
    "\n",
    "    lottey_num_predicting = (current_id[1].microsecond + 1)\n",
    "    label = labeling_df[labeling_df.lottoryNumber == lottey_num_predicting]\n",
    "    \n",
    "    if len(label) == 1:\n",
    "        final_label = label.values[0]\n",
    "\n",
    "    sample = current_sample.drop(columns=['id','Date']).values\n",
    "\n",
    "    return lottey_num_predicting,final_label,sample"
   ]
  },
  {
   "cell_type": "code",
   "execution_count": 12,
   "id": "a795d32a",
   "metadata": {
    "execution": {
     "iopub.execute_input": "2022-08-12T16:02:59.787455Z",
     "iopub.status.busy": "2022-08-12T16:02:59.787097Z",
     "iopub.status.idle": "2022-08-12T16:03:29.618271Z",
     "shell.execute_reply": "2022-08-12T16:03:29.617452Z"
    },
    "papermill": {
     "duration": 29.876728,
     "end_time": "2022-08-12T16:03:29.620758",
     "exception": false,
     "start_time": "2022-08-12T16:02:59.744030",
     "status": "completed"
    },
    "tags": []
   },
   "outputs": [],
   "source": [
    "train = df_train_rolled.groupby(\"id\").apply(lambda x:make_a_sample(x,labeling_df))\n",
    "\n",
    "train = sorted(train.values,key=lambda x:x[0])\n",
    "_,train_y,train_x = map(list, zip(*train))"
   ]
  },
  {
   "cell_type": "code",
   "execution_count": 13,
   "id": "4e9541fc",
   "metadata": {
    "execution": {
     "iopub.execute_input": "2022-08-12T16:03:29.715027Z",
     "iopub.status.busy": "2022-08-12T16:03:29.714689Z",
     "iopub.status.idle": "2022-08-12T16:03:39.027944Z",
     "shell.execute_reply": "2022-08-12T16:03:39.027139Z"
    },
    "papermill": {
     "duration": 9.358867,
     "end_time": "2022-08-12T16:03:39.030813",
     "exception": false,
     "start_time": "2022-08-12T16:03:29.671946",
     "status": "completed"
    },
    "tags": []
   },
   "outputs": [],
   "source": [
    "test = df_test_rolled.groupby(\"id\").apply(lambda x:make_a_sample(x,labeling_df))\n",
    "\n",
    "test = sorted(test.values,key=lambda x:x[0])\n",
    "_,test_y,test_x = map(list, zip(*test))"
   ]
  },
  {
   "cell_type": "code",
   "execution_count": 14,
   "id": "45863d0e",
   "metadata": {},
   "outputs": [],
   "source": [
    "test_y = pd.DataFrame(test_y[:-1])\n",
    "last_sample = test_x[-1]\n",
    "\n",
    "test_x = test_x[:-1]\n",
    "train_y = pd.DataFrame(train_y)"
   ]
  },
  {
   "cell_type": "code",
   "execution_count": 15,
   "id": "4ee866b7",
   "metadata": {},
   "outputs": [],
   "source": [
    "test_x = np.stack(test_x)\n",
    "train_x = np.stack(train_x)"
   ]
  },
  {
   "cell_type": "code",
   "execution_count": 16,
   "id": "fd9e5385",
   "metadata": {},
   "outputs": [],
   "source": [
    "test_x = test_x[:,:,:-1]\n",
    "train_x = train_x[:,:,:-1]\n",
    "test_y = test_y.iloc[:,:-1]\n",
    "train_y = train_y.iloc[:,:-1]"
   ]
  },
  {
   "cell_type": "code",
   "execution_count": 17,
   "id": "d2b303e4",
   "metadata": {
    "execution": {
     "iopub.execute_input": "2022-08-12T16:03:39.339817Z",
     "iopub.status.busy": "2022-08-12T16:03:39.339556Z",
     "iopub.status.idle": "2022-08-12T16:03:39.343165Z",
     "shell.execute_reply": "2022-08-12T16:03:39.342565Z"
    },
    "papermill": {
     "duration": 0.050766,
     "end_time": "2022-08-12T16:03:39.345070",
     "exception": false,
     "start_time": "2022-08-12T16:03:39.294304",
     "status": "completed"
    },
    "tags": []
   },
   "outputs": [],
   "source": [
    "assert test_x.shape[0] == test_y.shape[0] and train_x.shape[0] == train_y.shape[0]"
   ]
  },
  {
   "cell_type": "code",
   "execution_count": 18,
   "id": "1c0371cc",
   "metadata": {
    "execution": {
     "iopub.execute_input": "2022-08-12T16:03:39.517304Z",
     "iopub.status.busy": "2022-08-12T16:03:39.517089Z",
     "iopub.status.idle": "2022-08-12T16:03:39.520453Z",
     "shell.execute_reply": "2022-08-12T16:03:39.519990Z"
    },
    "papermill": {
     "duration": 0.046215,
     "end_time": "2022-08-12T16:03:39.522470",
     "exception": false,
     "start_time": "2022-08-12T16:03:39.476255",
     "status": "completed"
    },
    "tags": []
   },
   "outputs": [
    {
     "name": "stdout",
     "output_type": "stream",
     "text": [
      "Test shape (8509, 1200, 32)\n",
      "Train shape (27925, 1200, 32)\n"
     ]
    }
   ],
   "source": [
    "print(f\"Test shape {test_x.shape}\")\n",
    "print(f\"Train shape {train_x.shape}\")"
   ]
  },
  {
   "cell_type": "code",
   "execution_count": 19,
   "id": "125ac1f6",
   "metadata": {},
   "outputs": [
    {
     "data": {
      "text/plain": [
       "(8509, 8)"
      ]
     },
     "execution_count": 19,
     "metadata": {},
     "output_type": "execute_result"
    }
   ],
   "source": [
    "test_y.iloc[:,:8].shape"
   ]
  },
  {
   "cell_type": "code",
   "execution_count": 20,
   "id": "0abb3b40",
   "metadata": {
    "execution": {
     "iopub.execute_input": "2022-08-12T16:03:39.604119Z",
     "iopub.status.busy": "2022-08-12T16:03:39.603892Z",
     "iopub.status.idle": "2022-08-12T16:03:44.158064Z",
     "shell.execute_reply": "2022-08-12T16:03:44.157416Z"
    },
    "papermill": {
     "duration": 4.604685,
     "end_time": "2022-08-12T16:03:44.166422",
     "exception": false,
     "start_time": "2022-08-12T16:03:39.561737",
     "status": "completed"
    },
    "tags": []
   },
   "outputs": [
    {
     "name": "stderr",
     "output_type": "stream",
     "text": [
      "2022-08-14 18:11:36.927603: I tensorflow/core/platform/cpu_feature_guard.cc:193] This TensorFlow binary is optimized with oneAPI Deep Neural Network Library (oneDNN) to use the following CPU instructions in performance-critical operations:  AVX2 FMA\n",
      "To enable them in other operations, rebuild TensorFlow with the appropriate compiler flags.\n"
     ]
    },
    {
     "name": "stdout",
     "output_type": "stream",
     "text": [
      "Model: \"sequential\"\n",
      "_________________________________________________________________\n",
      " Layer (type)                Output Shape              Param #   \n",
      "=================================================================\n",
      " lstm (LSTM)                 (None, 100)               53200     \n",
      "                                                                 \n",
      " dropout (Dropout)           (None, 100)               0         \n",
      "                                                                 \n",
      " dense (Dense)               (None, 100)               10100     \n",
      "                                                                 \n",
      " dense_1 (Dense)             (None, 8)                 808       \n",
      "                                                                 \n",
      "=================================================================\n",
      "Total params: 64,108\n",
      "Trainable params: 64,108\n",
      "Non-trainable params: 0\n",
      "_________________________________________________________________\n",
      "==========================\n",
      "(None, 1200, 32)\n",
      "(None, 100)\n",
      "(None, 100)\n",
      "(None, 100)\n"
     ]
    }
   ],
   "source": [
    "import tensorflow as tf\n",
    "\n",
    "if model == \"lstm\":\n",
    "    #\n",
    "    model = tf.keras.Sequential()\n",
    "    model.add(tf.keras.layers.LSTM(100, input_shape=(sample_length,n_features)))\n",
    "    model.add(tf.keras.layers.Dropout(0.5))\n",
    "    model.add(tf.keras.layers.Dense(100, activation='relu'))\n",
    "    model.add(tf.keras.layers.Dense(n_outputs, activation='softmax'))\n",
    "    model.compile(loss='categorical_crossentropy', optimizer='adam', metrics=['accuracy'])\n",
    "    \n",
    "elif model == \"nn\":\n",
    "    #\n",
    "    model = tf.keras.Sequential()\n",
    "    model.add(tf.keras.layers.Flatten(input_shape=(sample_length,8)))\n",
    "    model.add(tf.keras.layers.Dense(350, activation='relu'))\n",
    "    model.add(tf.keras.layers.Dense(250, activation='relu'))\n",
    "    model.add(tf.keras.layers.Dense(150, activation='relu'))\n",
    "    model.add(tf.keras.layers.Dense(n_outputs, activation='softmax'))\n",
    "    model.compile(optimizer=\"adam\",loss='categorical_crossentropy', metrics=['accuracy'])\n",
    "    \n",
    "model.summary()\n",
    "print(\"==========================\")\n",
    "for layer in model.layers:\n",
    "    print(layer.input_shape)"
   ]
  },
  {
   "cell_type": "code",
   "execution_count": 45,
   "id": "57f8f6bc",
   "metadata": {},
   "outputs": [
    {
     "ename": "NameError",
     "evalue": "name 'card_type' is not defined",
     "output_type": "error",
     "traceback": [
      "\u001b[0;31m---------------------------------------------------------------------------\u001b[0m",
      "\u001b[0;31mNameError\u001b[0m                                 Traceback (most recent call last)",
      "Input \u001b[0;32mIn [45]\u001b[0m, in \u001b[0;36m<cell line: 1>\u001b[0;34m()\u001b[0m\n\u001b[0;32m----> 1\u001b[0m card_type_index \u001b[38;5;241m=\u001b[39m all_cards\u001b[38;5;241m.\u001b[39mindex(\u001b[43mcard_type\u001b[49m)\n\u001b[1;32m      2\u001b[0m start_index \u001b[38;5;241m=\u001b[39m card_type_index\u001b[38;5;241m*\u001b[39m\u001b[38;5;241m8\u001b[39m\n\u001b[1;32m      3\u001b[0m end_index \u001b[38;5;241m=\u001b[39m (card_type_index\u001b[38;5;241m+\u001b[39m\u001b[38;5;241m1\u001b[39m)\u001b[38;5;241m*\u001b[39m\u001b[38;5;241m8\u001b[39m\n",
      "\u001b[0;31mNameError\u001b[0m: name 'card_type' is not defined"
     ]
    }
   ],
   "source": [
    "card_type_index = all_cards.index(card_type)\n",
    "start_index = card_type_index*8\n",
    "end_index = (card_type_index+1)*8\n",
    "\n",
    "test_y = test_y.iloc[:,start_index:end_index]\n",
    "train_y = train_y.iloc[:,start_index:end_index]"
   ]
  },
  {
   "cell_type": "code",
   "execution_count": 21,
   "id": "40ce4e1e",
   "metadata": {},
   "outputs": [],
   "source": [
    "assert not np.isnan(train_x).any()\n",
    "assert not np.isnan(train_y).any().any()\n",
    "assert not np.isnan(test_x).any()\n",
    "assert not np.isnan(test_y).any().any()"
   ]
  },
  {
   "cell_type": "code",
   "execution_count": 25,
   "id": "d05e4674",
   "metadata": {
    "execution": {
     "iopub.execute_input": "2022-08-12T16:03:44.269468Z",
     "iopub.status.busy": "2022-08-12T16:03:44.269263Z"
    },
    "papermill": {
     "duration": null,
     "end_time": null,
     "exception": false,
     "start_time": "2022-08-12T16:03:44.215909",
     "status": "running"
    },
    "tags": []
   },
   "outputs": [
    {
     "name": "stdout",
     "output_type": "stream",
     "text": [
      "Epoch 1/300\n",
      "437/437 [==============================] - 567s 1s/step - loss: 2.0738 - accuracy: 0.1465 - val_loss: 2.0824 - val_accuracy: 0.1192\n",
      "Epoch 2/300\n",
      "437/437 [==============================] - 511s 1s/step - loss: 2.0718 - accuracy: 0.1462 - val_loss: 2.0843 - val_accuracy: 0.1228\n",
      "Epoch 3/300\n",
      "437/437 [==============================] - 376s 861ms/step - loss: 2.0696 - accuracy: 0.1533 - val_loss: 2.0855 - val_accuracy: 0.1266\n",
      "Epoch 4/300\n",
      "437/437 [==============================] - 371s 849ms/step - loss: 2.0664 - accuracy: 0.1587 - val_loss: 2.0869 - val_accuracy: 0.1243\n",
      "Epoch 5/300\n",
      "437/437 [==============================] - 431s 985ms/step - loss: 2.0631 - accuracy: 0.1631 - val_loss: 2.0882 - val_accuracy: 0.1245\n",
      "Epoch 6/300\n",
      "437/437 [==============================] - 447s 1s/step - loss: 2.0595 - accuracy: 0.1651 - val_loss: 2.0929 - val_accuracy: 0.1208\n",
      "Epoch 6: early stopping\n"
     ]
    }
   ],
   "source": [
    "es = tf.keras.callbacks.EarlyStopping(monitor='val_loss', mode='min', verbose=1,patience=5)\n",
    "#  \n",
    "history = model.fit(train_x,train_y,validation_data=(test_x,test_y),batch_size=64,epochs=300,callbacks=[es])"
   ]
  },
  {
   "cell_type": "code",
   "execution_count": 24,
   "id": "dad1006e",
   "metadata": {
    "papermill": {
     "duration": null,
     "end_time": null,
     "exception": null,
     "start_time": null,
     "status": "pending"
    },
    "tags": []
   },
   "outputs": [
    {
     "name": "stdout",
     "output_type": "stream",
     "text": [
      "dict_keys(['loss', 'accuracy', 'val_loss', 'val_accuracy'])\n"
     ]
    },
    {
     "data": {
      "image/png": "[encoded data removed]",
      "text/plain": [
       "<Figure size 432x288 with 1 Axes>"
      ]
     },
     "metadata": {
      "needs_background": "light"
     },
     "output_type": "display_data"
    },
    {
     "data": {
      "image/png": "[encoded data removed]",
      "text/plain": [
       "<Figure size 432x288 with 1 Axes>"
      ]
     },
     "metadata": {
      "needs_background": "light"
     },
     "output_type": "display_data"
    }
   ],
   "source": [
    "# list all data in history\n",
    "print(history.history.keys())\n",
    "# summarize history for accuracy\n",
    "plt.plot(history.history['accuracy'])\n",
    "plt.plot(history.history['val_accuracy'])\n",
    "plt.title('model accuracy')\n",
    "plt.ylabel('accuracy')\n",
    "plt.xlabel('epoch')\n",
    "plt.legend(['train', 'test'], loc='upper left')\n",
    "plt.show()\n",
    "# summarize history for loss\n",
    "plt.plot(history.history['loss'])\n",
    "plt.plot(history.history['val_loss'])\n",
    "plt.title('model loss')\n",
    "plt.ylabel('loss')\n",
    "plt.xlabel('epoch')\n",
    "plt.legend(['train', 'test'], loc='upper left')\n",
    "plt.show()"
   ]
  },
  {
   "cell_type": "code",
   "execution_count": 39,
   "id": "77505107",
   "metadata": {
    "papermill": {
     "duration": null,
     "end_time": null,
     "exception": null,
     "start_time": null,
     "status": "pending"
    },
    "tags": []
   },
   "outputs": [
    {
     "name": "stdout",
     "output_type": "stream",
     "text": [
      "266/266 [==============================] - 36s 133ms/step\n"
     ]
    }
   ],
   "source": [
    "predictions = model.predict(test_x)\n",
    "\n",
    "def get_card_from_encoding(encoding):\n",
    "    gambels = encoding.argmax(axis=1)\n",
    "    return np.vectorize(lambda x:possible_result[x])(gambels)"
   ]
  },
  {
   "cell_type": "code",
   "execution_count": 40,
   "id": "d1f95463",
   "metadata": {
    "papermill": {
     "duration": null,
     "end_time": null,
     "exception": null,
     "start_time": null,
     "status": "pending"
    },
    "tags": []
   },
   "outputs": [
    {
     "ename": "AttributeError",
     "evalue": "'DataFrame' object has no attribute 'argmax'",
     "output_type": "error",
     "traceback": [
      "\u001b[0;31m---------------------------------------------------------------------------\u001b[0m",
      "\u001b[0;31mAttributeError\u001b[0m                            Traceback (most recent call last)",
      "Input \u001b[0;32mIn [40]\u001b[0m, in \u001b[0;36m<cell line: 2>\u001b[0;34m()\u001b[0m\n\u001b[1;32m      1\u001b[0m predictions_cards \u001b[38;5;241m=\u001b[39m get_card_from_encoding(predictions)\n\u001b[0;32m----> 2\u001b[0m true_cards \u001b[38;5;241m=\u001b[39m \u001b[43mget_card_from_encoding\u001b[49m\u001b[43m(\u001b[49m\u001b[43mtest_y\u001b[49m\u001b[43m)\u001b[49m\n\u001b[1;32m      4\u001b[0m compute_statistics(predictions_cards,true_cards)\n",
      "Input \u001b[0;32mIn [39]\u001b[0m, in \u001b[0;36mget_card_from_encoding\u001b[0;34m(encoding)\u001b[0m\n\u001b[1;32m      3\u001b[0m \u001b[38;5;28;01mdef\u001b[39;00m \u001b[38;5;21mget_card_from_encoding\u001b[39m(encoding):\n\u001b[0;32m----> 4\u001b[0m     gambels \u001b[38;5;241m=\u001b[39m \u001b[43mencoding\u001b[49m\u001b[38;5;241;43m.\u001b[39;49m\u001b[43margmax\u001b[49m(axis\u001b[38;5;241m=\u001b[39m\u001b[38;5;241m1\u001b[39m)\n\u001b[1;32m      5\u001b[0m     \u001b[38;5;28;01mreturn\u001b[39;00m np\u001b[38;5;241m.\u001b[39mvectorize(\u001b[38;5;28;01mlambda\u001b[39;00m x:possible_result[x])(gambels)\n",
      "File \u001b[0;32m~/Documents/Notebooks/env/lib/python3.8/site-packages/pandas/core/generic.py:5583\u001b[0m, in \u001b[0;36mNDFrame.__getattr__\u001b[0;34m(self, name)\u001b[0m\n\u001b[1;32m   5576\u001b[0m \u001b[38;5;28;01mif\u001b[39;00m (\n\u001b[1;32m   5577\u001b[0m     name \u001b[38;5;129;01mnot\u001b[39;00m \u001b[38;5;129;01min\u001b[39;00m \u001b[38;5;28mself\u001b[39m\u001b[38;5;241m.\u001b[39m_internal_names_set\n\u001b[1;32m   5578\u001b[0m     \u001b[38;5;129;01mand\u001b[39;00m name \u001b[38;5;129;01mnot\u001b[39;00m \u001b[38;5;129;01min\u001b[39;00m \u001b[38;5;28mself\u001b[39m\u001b[38;5;241m.\u001b[39m_metadata\n\u001b[1;32m   5579\u001b[0m     \u001b[38;5;129;01mand\u001b[39;00m name \u001b[38;5;129;01mnot\u001b[39;00m \u001b[38;5;129;01min\u001b[39;00m \u001b[38;5;28mself\u001b[39m\u001b[38;5;241m.\u001b[39m_accessors\n\u001b[1;32m   5580\u001b[0m     \u001b[38;5;129;01mand\u001b[39;00m \u001b[38;5;28mself\u001b[39m\u001b[38;5;241m.\u001b[39m_info_axis\u001b[38;5;241m.\u001b[39m_can_hold_identifiers_and_holds_name(name)\n\u001b[1;32m   5581\u001b[0m ):\n\u001b[1;32m   5582\u001b[0m     \u001b[38;5;28;01mreturn\u001b[39;00m \u001b[38;5;28mself\u001b[39m[name]\n\u001b[0;32m-> 5583\u001b[0m \u001b[38;5;28;01mreturn\u001b[39;00m \u001b[38;5;28;43mobject\u001b[39;49m\u001b[38;5;241;43m.\u001b[39;49m\u001b[38;5;21;43m__getattribute__\u001b[39;49m\u001b[43m(\u001b[49m\u001b[38;5;28;43mself\u001b[39;49m\u001b[43m,\u001b[49m\u001b[43m \u001b[49m\u001b[43mname\u001b[49m\u001b[43m)\u001b[49m\n",
      "\u001b[0;31mAttributeError\u001b[0m: 'DataFrame' object has no attribute 'argmax'"
     ]
    }
   ],
   "source": [
    "# predictions_cards = get_card_from_encoding(predictions)\n",
    "# true_cards = get_card_from_encoding(test_y)\n",
    "\n",
    "# compute_statistics(predictions_cards,true_cards)"
   ]
  },
  {
   "cell_type": "code",
   "execution_count": null,
   "id": "520acb84",
   "metadata": {},
   "outputs": [],
   "source": []
  }
 ],
 "metadata": {
  "celltoolbar": "Tags",
  "kernelspec": {
   "display_name": "Python 3 (ipykernel)",
   "language": "python",
   "name": "python3"
  },
  "language_info": {
   "codemirror_mode": {
    "name": "ipython",
    "version": 3
   },
   "file_extension": ".py",
   "mimetype": "text/x-python",
   "name": "python",
   "nbconvert_exporter": "python",
   "pygments_lexer": "ipython3",
   "version": "3.8.1"
  },
  "papermill": {
   "default_parameters": {},
   "duration": null,
   "end_time": null,
   "environment_variables": {},
   "exception": null,
   "input_path": "chance_model_for_type.ipynb",
   "output_path": "chance_model_for_type_Spades.ipynb",
   "parameters": {
    "card_type": "Spades",
    "model": "lstm"
   },
   "start_time": "2022-08-12T16:01:24.394065",
   "version": "2.3.4"
  }
 },
 "nbformat": 4,
 "nbformat_minor": 5
}
