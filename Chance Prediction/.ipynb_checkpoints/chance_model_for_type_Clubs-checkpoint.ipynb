{
 "cells": [
  {
   "cell_type": "code",
   "execution_count": 1,
   "id": "6bd0737a",
   "metadata": {
    "execution": {
     "iopub.execute_input": "2022-08-12T18:26:52.146213Z",
     "iopub.status.busy": "2022-08-12T18:26:52.145938Z",
     "iopub.status.idle": "2022-08-12T18:26:52.153055Z",
     "shell.execute_reply": "2022-08-12T18:26:52.152448Z"
    },
    "papermill": {
     "duration": 0.027905,
     "end_time": "2022-08-12T18:26:52.154767",
     "exception": false,
     "start_time": "2022-08-12T18:26:52.126862",
     "status": "completed"
    },
    "tags": [
     "parameters"
    ]
   },
   "outputs": [],
   "source": [
    "card_type = \"Spades\"\n",
    "model = \"lstm\""
   ]
  },
  {
   "cell_type": "code",
   "execution_count": 2,
   "id": "07e8f828",
   "metadata": {
    "execution": {
     "iopub.execute_input": "2022-08-12T18:26:52.190885Z",
     "iopub.status.busy": "2022-08-12T18:26:52.190701Z",
     "iopub.status.idle": "2022-08-12T18:26:52.194161Z",
     "shell.execute_reply": "2022-08-12T18:26:52.193637Z"
    },
    "papermill": {
     "duration": 0.025241,
     "end_time": "2022-08-12T18:26:52.196908",
     "exception": false,
     "start_time": "2022-08-12T18:26:52.171667",
     "status": "completed"
    },
    "tags": [
     "injected-parameters"
    ]
   },
   "outputs": [],
   "source": [
    "# Parameters\n",
    "card_type = \"Clubs\"\n",
    "model = \"lstm\"\n"
   ]
  },
  {
   "cell_type": "code",
   "execution_count": 3,
   "id": "e2ff36fb",
   "metadata": {
    "execution": {
     "iopub.execute_input": "2022-08-12T18:26:52.233057Z",
     "iopub.status.busy": "2022-08-12T18:26:52.232857Z",
     "iopub.status.idle": "2022-08-12T18:26:53.393237Z",
     "shell.execute_reply": "2022-08-12T18:26:53.392415Z"
    },
    "papermill": {
     "duration": 1.180812,
     "end_time": "2022-08-12T18:26:53.395407",
     "exception": false,
     "start_time": "2022-08-12T18:26:52.214595",
     "status": "completed"
    },
    "tags": []
   },
   "outputs": [],
   "source": [
    "import pandas as pd\n",
    "import numpy as np\n",
    "from chance_utils import compute_statistics\n",
    "from matplotlib import pyplot as plt"
   ]
  },
  {
   "cell_type": "code",
   "execution_count": 4,
   "id": "e9cc50ef",
   "metadata": {
    "execution": {
     "iopub.execute_input": "2022-08-12T18:26:53.431961Z",
     "iopub.status.busy": "2022-08-12T18:26:53.431704Z",
     "iopub.status.idle": "2022-08-12T18:26:53.435887Z",
     "shell.execute_reply": "2022-08-12T18:26:53.434904Z"
    },
    "papermill": {
     "duration": 0.027407,
     "end_time": "2022-08-12T18:26:53.439060",
     "exception": false,
     "start_time": "2022-08-12T18:26:53.411653",
     "status": "completed"
    },
    "tags": []
   },
   "outputs": [],
   "source": [
    "possible_result = [\"7\",\"8\",\"9\",\"10\",\"J\",\"Q\",\"K\",\"A\"]\n",
    "n_outputs = 8\n",
    "n_features = 8\n",
    "sample_length = 240*5"
   ]
  },
  {
   "cell_type": "code",
   "execution_count": 5,
   "id": "bcf642f0",
   "metadata": {
    "execution": {
     "iopub.execute_input": "2022-08-12T18:26:53.478214Z",
     "iopub.status.busy": "2022-08-12T18:26:53.477965Z",
     "iopub.status.idle": "2022-08-12T18:26:53.495855Z",
     "shell.execute_reply": "2022-08-12T18:26:53.495256Z"
    },
    "papermill": {
     "duration": 0.040579,
     "end_time": "2022-08-12T18:26:53.497782",
     "exception": false,
     "start_time": "2022-08-12T18:26:53.457203",
     "status": "completed"
    },
    "tags": []
   },
   "outputs": [
    {
     "data": {
      "text/html": [
       "<div>\n",
       "<style scoped>\n",
       "    .dataframe tbody tr th:only-of-type {\n",
       "        vertical-align: middle;\n",
       "    }\n",
       "\n",
       "    .dataframe tbody tr th {\n",
       "        vertical-align: top;\n",
       "    }\n",
       "\n",
       "    .dataframe thead th {\n",
       "        text-align: right;\n",
       "    }\n",
       "</style>\n",
       "<table border=\"1\" class=\"dataframe\">\n",
       "  <thead>\n",
       "    <tr style=\"text-align: right;\">\n",
       "      <th></th>\n",
       "      <th>index</th>\n",
       "      <th>0</th>\n",
       "      <th>1</th>\n",
       "      <th>2</th>\n",
       "      <th>3</th>\n",
       "      <th>4</th>\n",
       "      <th>5</th>\n",
       "      <th>6</th>\n",
       "      <th>7</th>\n",
       "    </tr>\n",
       "  </thead>\n",
       "  <tbody>\n",
       "    <tr>\n",
       "      <th>0</th>\n",
       "      <td>7</td>\n",
       "      <td>1</td>\n",
       "      <td>0</td>\n",
       "      <td>0</td>\n",
       "      <td>0</td>\n",
       "      <td>0</td>\n",
       "      <td>0</td>\n",
       "      <td>0</td>\n",
       "      <td>0</td>\n",
       "    </tr>\n",
       "    <tr>\n",
       "      <th>1</th>\n",
       "      <td>8</td>\n",
       "      <td>0</td>\n",
       "      <td>1</td>\n",
       "      <td>0</td>\n",
       "      <td>0</td>\n",
       "      <td>0</td>\n",
       "      <td>0</td>\n",
       "      <td>0</td>\n",
       "      <td>0</td>\n",
       "    </tr>\n",
       "    <tr>\n",
       "      <th>2</th>\n",
       "      <td>9</td>\n",
       "      <td>0</td>\n",
       "      <td>0</td>\n",
       "      <td>1</td>\n",
       "      <td>0</td>\n",
       "      <td>0</td>\n",
       "      <td>0</td>\n",
       "      <td>0</td>\n",
       "      <td>0</td>\n",
       "    </tr>\n",
       "    <tr>\n",
       "      <th>3</th>\n",
       "      <td>10</td>\n",
       "      <td>0</td>\n",
       "      <td>0</td>\n",
       "      <td>0</td>\n",
       "      <td>1</td>\n",
       "      <td>0</td>\n",
       "      <td>0</td>\n",
       "      <td>0</td>\n",
       "      <td>0</td>\n",
       "    </tr>\n",
       "    <tr>\n",
       "      <th>4</th>\n",
       "      <td>J</td>\n",
       "      <td>0</td>\n",
       "      <td>0</td>\n",
       "      <td>0</td>\n",
       "      <td>0</td>\n",
       "      <td>1</td>\n",
       "      <td>0</td>\n",
       "      <td>0</td>\n",
       "      <td>0</td>\n",
       "    </tr>\n",
       "    <tr>\n",
       "      <th>5</th>\n",
       "      <td>Q</td>\n",
       "      <td>0</td>\n",
       "      <td>0</td>\n",
       "      <td>0</td>\n",
       "      <td>0</td>\n",
       "      <td>0</td>\n",
       "      <td>1</td>\n",
       "      <td>0</td>\n",
       "      <td>0</td>\n",
       "    </tr>\n",
       "    <tr>\n",
       "      <th>6</th>\n",
       "      <td>K</td>\n",
       "      <td>0</td>\n",
       "      <td>0</td>\n",
       "      <td>0</td>\n",
       "      <td>0</td>\n",
       "      <td>0</td>\n",
       "      <td>0</td>\n",
       "      <td>1</td>\n",
       "      <td>0</td>\n",
       "    </tr>\n",
       "    <tr>\n",
       "      <th>7</th>\n",
       "      <td>A</td>\n",
       "      <td>0</td>\n",
       "      <td>0</td>\n",
       "      <td>0</td>\n",
       "      <td>0</td>\n",
       "      <td>0</td>\n",
       "      <td>0</td>\n",
       "      <td>0</td>\n",
       "      <td>1</td>\n",
       "    </tr>\n",
       "  </tbody>\n",
       "</table>\n",
       "</div>"
      ],
      "text/plain": [
       "  index  0  1  2  3  4  5  6  7\n",
       "0     7  1  0  0  0  0  0  0  0\n",
       "1     8  0  1  0  0  0  0  0  0\n",
       "2     9  0  0  1  0  0  0  0  0\n",
       "3    10  0  0  0  1  0  0  0  0\n",
       "4     J  0  0  0  0  1  0  0  0\n",
       "5     Q  0  0  0  0  0  1  0  0\n",
       "6     K  0  0  0  0  0  0  1  0\n",
       "7     A  0  0  0  0  0  0  0  1"
      ]
     },
     "execution_count": 5,
     "metadata": {},
     "output_type": "execute_result"
    }
   ],
   "source": [
    "dummies = pd.get_dummies(possible_result).T\n",
    "dummies = dummies.reindex(index=possible_result,fill_value=0)\n",
    "dummies = dummies.reset_index()\n",
    "dummies"
   ]
  },
  {
   "cell_type": "code",
   "execution_count": 6,
   "id": "27279be8",
   "metadata": {
    "execution": {
     "iopub.execute_input": "2022-08-12T18:26:53.535026Z",
     "iopub.status.busy": "2022-08-12T18:26:53.534842Z",
     "iopub.status.idle": "2022-08-12T18:26:53.588129Z",
     "shell.execute_reply": "2022-08-12T18:26:53.587607Z"
    },
    "papermill": {
     "duration": 0.07384,
     "end_time": "2022-08-12T18:26:53.590005",
     "exception": false,
     "start_time": "2022-08-12T18:26:53.516165",
     "status": "completed"
    },
    "tags": []
   },
   "outputs": [],
   "source": [
    "test_chance = pd.read_csv(\"test_chance.csv\",index_col=[0])\n",
    "test_chance.Date = pd.to_datetime(test_chance.Date)\n",
    "\n",
    "train_chance = pd.read_csv('train_chance.csv',index_col=[0])\n",
    "train_chance.Date = pd.to_datetime(train_chance.Date)"
   ]
  },
  {
   "cell_type": "code",
   "execution_count": 7,
   "id": "1837c70b",
   "metadata": {
    "execution": {
     "iopub.execute_input": "2022-08-12T18:26:53.624671Z",
     "iopub.status.busy": "2022-08-12T18:26:53.624422Z",
     "iopub.status.idle": "2022-08-12T18:26:53.643636Z",
     "shell.execute_reply": "2022-08-12T18:26:53.643003Z"
    },
    "papermill": {
     "duration": 0.038422,
     "end_time": "2022-08-12T18:26:53.645253",
     "exception": false,
     "start_time": "2022-08-12T18:26:53.606831",
     "status": "completed"
    },
    "tags": []
   },
   "outputs": [
    {
     "data": {
      "text/html": [
       "<div>\n",
       "<style scoped>\n",
       "    .dataframe tbody tr th:only-of-type {\n",
       "        vertical-align: middle;\n",
       "    }\n",
       "\n",
       "    .dataframe tbody tr th {\n",
       "        vertical-align: top;\n",
       "    }\n",
       "\n",
       "    .dataframe thead th {\n",
       "        text-align: right;\n",
       "    }\n",
       "</style>\n",
       "<table border=\"1\" class=\"dataframe\">\n",
       "  <thead>\n",
       "    <tr style=\"text-align: right;\">\n",
       "      <th></th>\n",
       "      <th>0</th>\n",
       "      <th>1</th>\n",
       "      <th>2</th>\n",
       "      <th>3</th>\n",
       "      <th>4</th>\n",
       "      <th>5</th>\n",
       "      <th>6</th>\n",
       "      <th>7</th>\n",
       "      <th>Date</th>\n",
       "      <th>Clubs</th>\n",
       "    </tr>\n",
       "  </thead>\n",
       "  <tbody>\n",
       "    <tr>\n",
       "      <th>0</th>\n",
       "      <td>0</td>\n",
       "      <td>0</td>\n",
       "      <td>0</td>\n",
       "      <td>0</td>\n",
       "      <td>0</td>\n",
       "      <td>1</td>\n",
       "      <td>0</td>\n",
       "      <td>0</td>\n",
       "      <td>2001-01-01 00:00:00.006820</td>\n",
       "      <td>Q</td>\n",
       "    </tr>\n",
       "    <tr>\n",
       "      <th>1</th>\n",
       "      <td>0</td>\n",
       "      <td>0</td>\n",
       "      <td>1</td>\n",
       "      <td>0</td>\n",
       "      <td>0</td>\n",
       "      <td>0</td>\n",
       "      <td>0</td>\n",
       "      <td>0</td>\n",
       "      <td>2001-01-01 00:00:00.006821</td>\n",
       "      <td>9</td>\n",
       "    </tr>\n",
       "    <tr>\n",
       "      <th>2</th>\n",
       "      <td>0</td>\n",
       "      <td>0</td>\n",
       "      <td>0</td>\n",
       "      <td>1</td>\n",
       "      <td>0</td>\n",
       "      <td>0</td>\n",
       "      <td>0</td>\n",
       "      <td>0</td>\n",
       "      <td>2001-01-01 00:00:00.006822</td>\n",
       "      <td>10</td>\n",
       "    </tr>\n",
       "    <tr>\n",
       "      <th>3</th>\n",
       "      <td>0</td>\n",
       "      <td>0</td>\n",
       "      <td>0</td>\n",
       "      <td>0</td>\n",
       "      <td>0</td>\n",
       "      <td>0</td>\n",
       "      <td>0</td>\n",
       "      <td>1</td>\n",
       "      <td>2001-01-01 00:00:00.006823</td>\n",
       "      <td>A</td>\n",
       "    </tr>\n",
       "    <tr>\n",
       "      <th>4</th>\n",
       "      <td>0</td>\n",
       "      <td>0</td>\n",
       "      <td>0</td>\n",
       "      <td>0</td>\n",
       "      <td>0</td>\n",
       "      <td>0</td>\n",
       "      <td>1</td>\n",
       "      <td>0</td>\n",
       "      <td>2001-02-01 00:00:00.006824</td>\n",
       "      <td>K</td>\n",
       "    </tr>\n",
       "  </tbody>\n",
       "</table>\n",
       "</div>"
      ],
      "text/plain": [
       "   0  1  2  3  4  5  6  7                       Date Clubs\n",
       "0  0  0  0  0  0  1  0  0 2001-01-01 00:00:00.006820     Q\n",
       "1  0  0  1  0  0  0  0  0 2001-01-01 00:00:00.006821     9\n",
       "2  0  0  0  1  0  0  0  0 2001-01-01 00:00:00.006822    10\n",
       "3  0  0  0  0  0  0  0  1 2001-01-01 00:00:00.006823     A\n",
       "4  0  0  0  0  0  0  1  0 2001-02-01 00:00:00.006824     K"
      ]
     },
     "execution_count": 7,
     "metadata": {},
     "output_type": "execute_result"
    }
   ],
   "source": [
    "spades_test_chance = test_chance[['Date',card_type]]\n",
    "spades_test_chance = pd.merge(dummies,spades_test_chance,left_on='index',right_on=card_type,how=\"right\").drop(columns=\"index\")\n",
    "\n",
    "spades_train_chance = train_chance[['Date',card_type]]\n",
    "spades_train_chance = pd.merge(dummies,spades_train_chance,left_on='index',right_on=card_type,how=\"right\").drop(columns=\"index\")\n",
    "spades_train_chance.head()"
   ]
  },
  {
   "cell_type": "code",
   "execution_count": 8,
   "id": "9b8fb200",
   "metadata": {
    "execution": {
     "iopub.execute_input": "2022-08-12T18:26:53.682582Z",
     "iopub.status.busy": "2022-08-12T18:26:53.682394Z",
     "iopub.status.idle": "2022-08-12T18:26:53.697024Z",
     "shell.execute_reply": "2022-08-12T18:26:53.696560Z"
    },
    "papermill": {
     "duration": 0.035471,
     "end_time": "2022-08-12T18:26:53.698998",
     "exception": false,
     "start_time": "2022-08-12T18:26:53.663527",
     "status": "completed"
    },
    "tags": []
   },
   "outputs": [
    {
     "data": {
      "text/html": [
       "<div>\n",
       "<style scoped>\n",
       "    .dataframe tbody tr th:only-of-type {\n",
       "        vertical-align: middle;\n",
       "    }\n",
       "\n",
       "    .dataframe tbody tr th {\n",
       "        vertical-align: top;\n",
       "    }\n",
       "\n",
       "    .dataframe thead th {\n",
       "        text-align: right;\n",
       "    }\n",
       "</style>\n",
       "<table border=\"1\" class=\"dataframe\">\n",
       "  <thead>\n",
       "    <tr style=\"text-align: right;\">\n",
       "      <th></th>\n",
       "      <th>0</th>\n",
       "      <th>1</th>\n",
       "      <th>2</th>\n",
       "      <th>3</th>\n",
       "      <th>4</th>\n",
       "      <th>5</th>\n",
       "      <th>6</th>\n",
       "      <th>7</th>\n",
       "      <th>Date</th>\n",
       "      <th>Clubs</th>\n",
       "      <th>id</th>\n",
       "    </tr>\n",
       "  </thead>\n",
       "  <tbody>\n",
       "    <tr>\n",
       "      <th>29119</th>\n",
       "      <td>0</td>\n",
       "      <td>0</td>\n",
       "      <td>0</td>\n",
       "      <td>1</td>\n",
       "      <td>0</td>\n",
       "      <td>0</td>\n",
       "      <td>0</td>\n",
       "      <td>0</td>\n",
       "      <td>2017-12-07 00:00:00.035924</td>\n",
       "      <td>10</td>\n",
       "      <td>1</td>\n",
       "    </tr>\n",
       "    <tr>\n",
       "      <th>29120</th>\n",
       "      <td>1</td>\n",
       "      <td>0</td>\n",
       "      <td>0</td>\n",
       "      <td>0</td>\n",
       "      <td>0</td>\n",
       "      <td>0</td>\n",
       "      <td>0</td>\n",
       "      <td>0</td>\n",
       "      <td>2017-12-07 00:00:00.035925</td>\n",
       "      <td>7</td>\n",
       "      <td>1</td>\n",
       "    </tr>\n",
       "    <tr>\n",
       "      <th>29121</th>\n",
       "      <td>0</td>\n",
       "      <td>0</td>\n",
       "      <td>0</td>\n",
       "      <td>0</td>\n",
       "      <td>0</td>\n",
       "      <td>0</td>\n",
       "      <td>0</td>\n",
       "      <td>1</td>\n",
       "      <td>2017-12-07 00:00:00.035926</td>\n",
       "      <td>A</td>\n",
       "      <td>1</td>\n",
       "    </tr>\n",
       "    <tr>\n",
       "      <th>29122</th>\n",
       "      <td>0</td>\n",
       "      <td>0</td>\n",
       "      <td>0</td>\n",
       "      <td>1</td>\n",
       "      <td>0</td>\n",
       "      <td>0</td>\n",
       "      <td>0</td>\n",
       "      <td>0</td>\n",
       "      <td>2017-12-07 00:00:00.035927</td>\n",
       "      <td>10</td>\n",
       "      <td>1</td>\n",
       "    </tr>\n",
       "    <tr>\n",
       "      <th>29123</th>\n",
       "      <td>0</td>\n",
       "      <td>0</td>\n",
       "      <td>0</td>\n",
       "      <td>0</td>\n",
       "      <td>0</td>\n",
       "      <td>1</td>\n",
       "      <td>0</td>\n",
       "      <td>0</td>\n",
       "      <td>2017-12-07 00:00:00.035928</td>\n",
       "      <td>Q</td>\n",
       "      <td>1</td>\n",
       "    </tr>\n",
       "  </tbody>\n",
       "</table>\n",
       "</div>"
      ],
      "text/plain": [
       "       0  1  2  3  4  5  6  7                       Date Clubs  id\n",
       "29119  0  0  0  1  0  0  0  0 2017-12-07 00:00:00.035924    10   1\n",
       "29120  1  0  0  0  0  0  0  0 2017-12-07 00:00:00.035925     7   1\n",
       "29121  0  0  0  0  0  0  0  1 2017-12-07 00:00:00.035926     A   1\n",
       "29122  0  0  0  1  0  0  0  0 2017-12-07 00:00:00.035927    10   1\n",
       "29123  0  0  0  0  0  1  0  0 2017-12-07 00:00:00.035928     Q   1"
      ]
     },
     "execution_count": 8,
     "metadata": {},
     "output_type": "execute_result"
    }
   ],
   "source": [
    "# make the samples ready to tsfresh\n",
    "spades_test_chance = spades_test_chance.sort_values(by=\"Date\").reset_index(drop=True)\n",
    "spades_test_chance['id'] = 1\n",
    "\n",
    "spades_train_chance = spades_train_chance.sort_values(by=\"Date\").reset_index(drop=True)\n",
    "spades_train_chance['id'] = 1\n",
    "\n",
    "spades_train_chance.tail()"
   ]
  },
  {
   "cell_type": "code",
   "execution_count": 9,
   "id": "5675d2b2",
   "metadata": {
    "execution": {
     "iopub.execute_input": "2022-08-12T18:26:53.734693Z",
     "iopub.status.busy": "2022-08-12T18:26:53.734507Z",
     "iopub.status.idle": "2022-08-12T18:28:24.826938Z",
     "shell.execute_reply": "2022-08-12T18:28:24.826339Z"
    },
    "papermill": {
     "duration": 91.112589,
     "end_time": "2022-08-12T18:28:24.828886",
     "exception": false,
     "start_time": "2022-08-12T18:26:53.716297",
     "status": "completed"
    },
    "tags": []
   },
   "outputs": [
    {
     "name": "stderr",
     "output_type": "stream",
     "text": [
      "/Users/serlich/Documents/Notebooks/env/lib/python3.8/site-packages/tsfresh/utilities/dataframe_functions.py:520: UserWarning: Your time stamps are not uniformly sampled, which makes rolling nonsensical in some domains.\n",
      "  warnings.warn(\n",
      "Rolling: 100%|██████████| 40/40 [00:13<00:00,  2.95it/s]\n",
      "/Users/serlich/Documents/Notebooks/env/lib/python3.8/site-packages/tsfresh/utilities/dataframe_functions.py:520: UserWarning: Your time stamps are not uniformly sampled, which makes rolling nonsensical in some domains.\n",
      "  warnings.warn(\n",
      "Rolling: 100%|██████████| 40/40 [00:41<00:00,  1.05s/it]\n"
     ]
    },
    {
     "data": {
      "text/html": [
       "<div>\n",
       "<style scoped>\n",
       "    .dataframe tbody tr th:only-of-type {\n",
       "        vertical-align: middle;\n",
       "    }\n",
       "\n",
       "    .dataframe tbody tr th {\n",
       "        vertical-align: top;\n",
       "    }\n",
       "\n",
       "    .dataframe thead th {\n",
       "        text-align: right;\n",
       "    }\n",
       "</style>\n",
       "<table border=\"1\" class=\"dataframe\">\n",
       "  <thead>\n",
       "    <tr style=\"text-align: right;\">\n",
       "      <th></th>\n",
       "      <th>0</th>\n",
       "      <th>1</th>\n",
       "      <th>2</th>\n",
       "      <th>3</th>\n",
       "      <th>4</th>\n",
       "      <th>5</th>\n",
       "      <th>6</th>\n",
       "      <th>7</th>\n",
       "      <th>Date</th>\n",
       "      <th>Clubs</th>\n",
       "      <th>id</th>\n",
       "    </tr>\n",
       "  </thead>\n",
       "  <tbody>\n",
       "    <tr>\n",
       "      <th>33509995</th>\n",
       "      <td>0</td>\n",
       "      <td>0</td>\n",
       "      <td>0</td>\n",
       "      <td>1</td>\n",
       "      <td>0</td>\n",
       "      <td>0</td>\n",
       "      <td>0</td>\n",
       "      <td>0</td>\n",
       "      <td>2017-12-07 00:00:00.035924</td>\n",
       "      <td>10</td>\n",
       "      <td>(1, 2017-12-07 00:00:00.035928)</td>\n",
       "    </tr>\n",
       "    <tr>\n",
       "      <th>33509996</th>\n",
       "      <td>1</td>\n",
       "      <td>0</td>\n",
       "      <td>0</td>\n",
       "      <td>0</td>\n",
       "      <td>0</td>\n",
       "      <td>0</td>\n",
       "      <td>0</td>\n",
       "      <td>0</td>\n",
       "      <td>2017-12-07 00:00:00.035925</td>\n",
       "      <td>7</td>\n",
       "      <td>(1, 2017-12-07 00:00:00.035928)</td>\n",
       "    </tr>\n",
       "    <tr>\n",
       "      <th>33509997</th>\n",
       "      <td>0</td>\n",
       "      <td>0</td>\n",
       "      <td>0</td>\n",
       "      <td>0</td>\n",
       "      <td>0</td>\n",
       "      <td>0</td>\n",
       "      <td>0</td>\n",
       "      <td>1</td>\n",
       "      <td>2017-12-07 00:00:00.035926</td>\n",
       "      <td>A</td>\n",
       "      <td>(1, 2017-12-07 00:00:00.035928)</td>\n",
       "    </tr>\n",
       "    <tr>\n",
       "      <th>33509998</th>\n",
       "      <td>0</td>\n",
       "      <td>0</td>\n",
       "      <td>0</td>\n",
       "      <td>1</td>\n",
       "      <td>0</td>\n",
       "      <td>0</td>\n",
       "      <td>0</td>\n",
       "      <td>0</td>\n",
       "      <td>2017-12-07 00:00:00.035927</td>\n",
       "      <td>10</td>\n",
       "      <td>(1, 2017-12-07 00:00:00.035928)</td>\n",
       "    </tr>\n",
       "    <tr>\n",
       "      <th>33509999</th>\n",
       "      <td>0</td>\n",
       "      <td>0</td>\n",
       "      <td>0</td>\n",
       "      <td>0</td>\n",
       "      <td>0</td>\n",
       "      <td>1</td>\n",
       "      <td>0</td>\n",
       "      <td>0</td>\n",
       "      <td>2017-12-07 00:00:00.035928</td>\n",
       "      <td>Q</td>\n",
       "      <td>(1, 2017-12-07 00:00:00.035928)</td>\n",
       "    </tr>\n",
       "  </tbody>\n",
       "</table>\n",
       "</div>"
      ],
      "text/plain": [
       "          0  1  2  3  4  5  6  7                       Date Clubs  \\\n",
       "33509995  0  0  0  1  0  0  0  0 2017-12-07 00:00:00.035924    10   \n",
       "33509996  1  0  0  0  0  0  0  0 2017-12-07 00:00:00.035925     7   \n",
       "33509997  0  0  0  0  0  0  0  1 2017-12-07 00:00:00.035926     A   \n",
       "33509998  0  0  0  1  0  0  0  0 2017-12-07 00:00:00.035927    10   \n",
       "33509999  0  0  0  0  0  1  0  0 2017-12-07 00:00:00.035928     Q   \n",
       "\n",
       "                                       id  \n",
       "33509995  (1, 2017-12-07 00:00:00.035928)  \n",
       "33509996  (1, 2017-12-07 00:00:00.035928)  \n",
       "33509997  (1, 2017-12-07 00:00:00.035928)  \n",
       "33509998  (1, 2017-12-07 00:00:00.035928)  \n",
       "33509999  (1, 2017-12-07 00:00:00.035928)  "
      ]
     },
     "execution_count": 9,
     "metadata": {},
     "output_type": "execute_result"
    }
   ],
   "source": [
    "from tsfresh.utilities.dataframe_functions import roll_time_series\n",
    "\n",
    "df_test_rolled = roll_time_series(spades_test_chance, column_id=\"id\",column_sort=\"Date\",max_timeshift=sample_length-1,min_timeshift=sample_length-1)\n",
    "df_train_rolled = roll_time_series(spades_train_chance, column_id=\"id\",column_sort=\"Date\",max_timeshift=sample_length-1,min_timeshift=sample_length-1)\n",
    "df_train_rolled.tail()"
   ]
  },
  {
   "cell_type": "code",
   "execution_count": 10,
   "id": "3c9c7bc2",
   "metadata": {
    "execution": {
     "iopub.execute_input": "2022-08-12T18:28:24.941303Z",
     "iopub.status.busy": "2022-08-12T18:28:24.940997Z",
     "iopub.status.idle": "2022-08-12T18:28:24.949730Z",
     "shell.execute_reply": "2022-08-12T18:28:24.949230Z"
    },
    "papermill": {
     "duration": 0.058813,
     "end_time": "2022-08-12T18:28:24.951630",
     "exception": false,
     "start_time": "2022-08-12T18:28:24.892817",
     "status": "completed"
    },
    "tags": []
   },
   "outputs": [
    {
     "data": {
      "text/html": [
       "<div>\n",
       "<style scoped>\n",
       "    .dataframe tbody tr th:only-of-type {\n",
       "        vertical-align: middle;\n",
       "    }\n",
       "\n",
       "    .dataframe tbody tr th {\n",
       "        vertical-align: top;\n",
       "    }\n",
       "\n",
       "    .dataframe thead th {\n",
       "        text-align: right;\n",
       "    }\n",
       "</style>\n",
       "<table border=\"1\" class=\"dataframe\">\n",
       "  <thead>\n",
       "    <tr style=\"text-align: right;\">\n",
       "      <th></th>\n",
       "      <th>lottoryNumber</th>\n",
       "      <th>Clubs</th>\n",
       "    </tr>\n",
       "  </thead>\n",
       "  <tbody>\n",
       "    <tr>\n",
       "      <th>29124</th>\n",
       "      <td>35944</td>\n",
       "      <td>Q</td>\n",
       "    </tr>\n",
       "    <tr>\n",
       "      <th>29125</th>\n",
       "      <td>35945</td>\n",
       "      <td>9</td>\n",
       "    </tr>\n",
       "    <tr>\n",
       "      <th>29126</th>\n",
       "      <td>35946</td>\n",
       "      <td>9</td>\n",
       "    </tr>\n",
       "    <tr>\n",
       "      <th>29127</th>\n",
       "      <td>35947</td>\n",
       "      <td>10</td>\n",
       "    </tr>\n",
       "    <tr>\n",
       "      <th>29128</th>\n",
       "      <td>35948</td>\n",
       "      <td>8</td>\n",
       "    </tr>\n",
       "  </tbody>\n",
       "</table>\n",
       "</div>"
      ],
      "text/plain": [
       "       lottoryNumber Clubs\n",
       "29124          35944     Q\n",
       "29125          35945     9\n",
       "29126          35946     9\n",
       "29127          35947    10\n",
       "29128          35948     8"
      ]
     },
     "execution_count": 10,
     "metadata": {},
     "output_type": "execute_result"
    }
   ],
   "source": [
    "test_labeling_df = test_chance[['lottoryNumber',card_type]]\n",
    "train_labeling_df = train_chance[['lottoryNumber',card_type]]\n",
    "\n",
    "labeling_df = pd.concat([test_labeling_df,train_labeling_df])\n",
    "labeling_df.head()"
   ]
  },
  {
   "cell_type": "code",
   "execution_count": 11,
   "id": "dc61960c",
   "metadata": {
    "execution": {
     "iopub.execute_input": "2022-08-12T18:28:25.041336Z",
     "iopub.status.busy": "2022-08-12T18:28:25.041084Z",
     "iopub.status.idle": "2022-08-12T18:28:25.045922Z",
     "shell.execute_reply": "2022-08-12T18:28:25.045429Z"
    },
    "papermill": {
     "duration": 0.052661,
     "end_time": "2022-08-12T18:28:25.047729",
     "exception": false,
     "start_time": "2022-08-12T18:28:24.995068",
     "status": "completed"
    },
    "tags": []
   },
   "outputs": [],
   "source": [
    "def make_a_sample(current_sample,labeling_df):\n",
    "    \n",
    "    current_id = current_sample['id'].values[0]\n",
    "    final_label = None\n",
    "    \n",
    "    assert current_sample.shape[0] == sample_length, f\"{current_id} is not shape of {sample_length}\"\n",
    "\n",
    "    lottey_num_predicting = (current_id[1].microsecond + 1)\n",
    "    label = labeling_df[labeling_df.lottoryNumber == lottey_num_predicting][card_type]\n",
    "    \n",
    "    if len(label) == 1:\n",
    "        final_label = label.values[0]\n",
    "\n",
    "    sample = current_sample.drop(columns=['id','Date',card_type]).values\n",
    "\n",
    "    return lottey_num_predicting,final_label,sample"
   ]
  },
  {
   "cell_type": "code",
   "execution_count": 12,
   "id": "a795d32a",
   "metadata": {
    "execution": {
     "iopub.execute_input": "2022-08-12T18:28:25.132661Z",
     "iopub.status.busy": "2022-08-12T18:28:25.132452Z",
     "iopub.status.idle": "2022-08-12T18:28:54.994718Z",
     "shell.execute_reply": "2022-08-12T18:28:54.993871Z"
    },
    "papermill": {
     "duration": 29.905932,
     "end_time": "2022-08-12T18:28:54.997114",
     "exception": false,
     "start_time": "2022-08-12T18:28:25.091182",
     "status": "completed"
    },
    "tags": []
   },
   "outputs": [],
   "source": [
    "train = df_train_rolled.groupby(\"id\").apply(lambda x:make_a_sample(x,labeling_df))\n",
    "\n",
    "train = sorted(train.values,key=lambda x:x[0])\n",
    "_,train_y,train_x = map(list, zip(*train))"
   ]
  },
  {
   "cell_type": "code",
   "execution_count": 13,
   "id": "4e9541fc",
   "metadata": {
    "execution": {
     "iopub.execute_input": "2022-08-12T18:28:55.093343Z",
     "iopub.status.busy": "2022-08-12T18:28:55.092637Z",
     "iopub.status.idle": "2022-08-12T18:29:04.421034Z",
     "shell.execute_reply": "2022-08-12T18:29:04.420276Z"
    },
    "papermill": {
     "duration": 9.377267,
     "end_time": "2022-08-12T18:29:04.423285",
     "exception": false,
     "start_time": "2022-08-12T18:28:55.046018",
     "status": "completed"
    },
    "tags": []
   },
   "outputs": [],
   "source": [
    "test = df_test_rolled.groupby(\"id\").apply(lambda x:make_a_sample(x,labeling_df))\n",
    "\n",
    "test = sorted(test.values,key=lambda x:x[0])\n",
    "_,test_y,test_x = map(list, zip(*test))"
   ]
  },
  {
   "cell_type": "code",
   "execution_count": 14,
   "id": "a2ff8923",
   "metadata": {
    "execution": {
     "iopub.execute_input": "2022-08-12T18:29:04.514838Z",
     "iopub.status.busy": "2022-08-12T18:29:04.514380Z",
     "iopub.status.idle": "2022-08-12T18:29:04.630535Z",
     "shell.execute_reply": "2022-08-12T18:29:04.629782Z"
    },
    "papermill": {
     "duration": 0.161536,
     "end_time": "2022-08-12T18:29:04.632636",
     "exception": false,
     "start_time": "2022-08-12T18:29:04.471100",
     "status": "completed"
    },
    "tags": []
   },
   "outputs": [],
   "source": [
    "test_x = np.stack(test_x)\n",
    "test_y = pd.merge(dummies,pd.Series(test_y,name='label'),left_on='index',right_on=\"label\",how=\"right\").drop(columns=[\"index\",\"label\"]).values\n",
    "\n",
    "train_x = np.stack(train_x)\n",
    "train_y = pd.merge(dummies,pd.Series(train_y,name='label'),left_on='index',right_on=\"label\",how=\"right\").drop(columns=[\"index\",\"label\"]).values"
   ]
  },
  {
   "cell_type": "code",
   "execution_count": 15,
   "id": "d2b303e4",
   "metadata": {
    "execution": {
     "iopub.execute_input": "2022-08-12T18:29:04.719689Z",
     "iopub.status.busy": "2022-08-12T18:29:04.719434Z",
     "iopub.status.idle": "2022-08-12T18:29:04.723616Z",
     "shell.execute_reply": "2022-08-12T18:29:04.723044Z"
    },
    "papermill": {
     "duration": 0.046934,
     "end_time": "2022-08-12T18:29:04.725552",
     "exception": false,
     "start_time": "2022-08-12T18:29:04.678618",
     "status": "completed"
    },
    "tags": []
   },
   "outputs": [],
   "source": [
    "assert test_x.shape[0] == test_y.shape[0] and train_x.shape[0] == train_y.shape[0]"
   ]
  },
  {
   "cell_type": "code",
   "execution_count": 16,
   "id": "217c138c",
   "metadata": {
    "execution": {
     "iopub.execute_input": "2022-08-12T18:29:04.808074Z",
     "iopub.status.busy": "2022-08-12T18:29:04.807759Z",
     "iopub.status.idle": "2022-08-12T18:29:04.811190Z",
     "shell.execute_reply": "2022-08-12T18:29:04.810703Z"
    },
    "papermill": {
     "duration": 0.046642,
     "end_time": "2022-08-12T18:29:04.814087",
     "exception": false,
     "start_time": "2022-08-12T18:29:04.767445",
     "status": "completed"
    },
    "tags": []
   },
   "outputs": [],
   "source": [
    "last_sample = test_x[-1]\n",
    "test_x = test_x[:-1]\n",
    "test_y = test_y[:-1]"
   ]
  },
  {
   "cell_type": "code",
   "execution_count": 17,
   "id": "1c0371cc",
   "metadata": {
    "execution": {
     "iopub.execute_input": "2022-08-12T18:29:04.893450Z",
     "iopub.status.busy": "2022-08-12T18:29:04.893121Z",
     "iopub.status.idle": "2022-08-12T18:29:04.897867Z",
     "shell.execute_reply": "2022-08-12T18:29:04.896956Z"
    },
    "papermill": {
     "duration": 0.048012,
     "end_time": "2022-08-12T18:29:04.900984",
     "exception": false,
     "start_time": "2022-08-12T18:29:04.852972",
     "status": "completed"
    },
    "tags": []
   },
   "outputs": [
    {
     "name": "stdout",
     "output_type": "stream",
     "text": [
      "Test shape (8509, 1200, 8)\n",
      "Train shape (27925, 1200, 8)\n"
     ]
    }
   ],
   "source": [
    "print(f\"Test shape {test_x.shape}\")\n",
    "print(f\"Train shape {train_x.shape}\")"
   ]
  },
  {
   "cell_type": "code",
   "execution_count": 18,
   "id": "0abb3b40",
   "metadata": {
    "execution": {
     "iopub.execute_input": "2022-08-12T18:29:04.980952Z",
     "iopub.status.busy": "2022-08-12T18:29:04.980741Z",
     "iopub.status.idle": "2022-08-12T18:29:09.365094Z",
     "shell.execute_reply": "2022-08-12T18:29:09.364636Z"
    },
    "papermill": {
     "duration": 4.432017,
     "end_time": "2022-08-12T18:29:09.372718",
     "exception": false,
     "start_time": "2022-08-12T18:29:04.940701",
     "status": "completed"
    },
    "tags": []
   },
   "outputs": [
    {
     "name": "stdout",
     "output_type": "stream",
     "text": [
      "Model: \"sequential\"\n",
      "_________________________________________________________________\n",
      " Layer (type)                Output Shape              Param #   \n",
      "=================================================================\n",
      " lstm (LSTM)                 (None, 100)               43600     \n",
      "                                                                 \n",
      " dropout (Dropout)           (None, 100)               0         \n",
      "                                                                 \n",
      " dense (Dense)               (None, 100)               10100     \n",
      "                                                                 \n",
      " dense_1 (Dense)             (None, 8)                 808       \n",
      "                                                                 \n",
      "=================================================================\n",
      "Total params: 54,508\n",
      "Trainable params: 54,508\n",
      "Non-trainable params: 0\n",
      "_________________________________________________________________\n"
     ]
    },
    {
     "name": "stderr",
     "output_type": "stream",
     "text": [
      "2022-08-12 21:29:09.162043: I tensorflow/core/platform/cpu_feature_guard.cc:193] This TensorFlow binary is optimized with oneAPI Deep Neural Network Library (oneDNN) to use the following CPU instructions in performance-critical operations:  AVX2 FMA\n",
      "To enable them in other operations, rebuild TensorFlow with the appropriate compiler flags.\n"
     ]
    }
   ],
   "source": [
    "import tensorflow as tf\n",
    "\n",
    "if model == \"lstm\":\n",
    "    #\n",
    "    model = tf.keras.Sequential()\n",
    "    model.add(tf.keras.layers.LSTM(100, input_shape=(sample_length,n_features)))\n",
    "    model.add(tf.keras.layers.Dropout(0.5))\n",
    "    model.add(tf.keras.layers.Dense(100, activation='relu'))\n",
    "    model.add(tf.keras.layers.Dense(n_outputs, activation='softmax'))\n",
    "    model.compile(loss='categorical_crossentropy', optimizer='adam', metrics=['accuracy'])\n",
    "    \n",
    "elif model == \"nn\":\n",
    "    #\n",
    "    model = tf.keras.Sequential()\n",
    "    model.add(tf.keras.layers.Flatten(input_shape=(sample_length,8)))\n",
    "    model.add(tf.keras.layers.Dense(350, activation='relu'))\n",
    "    model.add(tf.keras.layers.Dense(250, activation='relu'))\n",
    "    model.add(tf.keras.layers.Dense(150, activation='relu'))\n",
    "    model.add(tf.keras.layers.Dense(8, activation='softmax'))\n",
    "    model.compile(optimizer=\"adam\",loss='categorical_crossentropy', metrics=['accuracy'])\n",
    "    \n",
    "model.summary()"
   ]
  },
  {
   "cell_type": "code",
   "execution_count": 19,
   "id": "40ce4e1e",
   "metadata": {
    "execution": {
     "iopub.execute_input": "2022-08-12T18:29:09.484959Z",
     "iopub.status.busy": "2022-08-12T18:29:09.484719Z",
     "iopub.status.idle": "2022-08-12T18:29:09.571184Z",
     "shell.execute_reply": "2022-08-12T18:29:09.570270Z"
    },
    "papermill": {
     "duration": 0.154243,
     "end_time": "2022-08-12T18:29:09.573719",
     "exception": false,
     "start_time": "2022-08-12T18:29:09.419476",
     "status": "completed"
    },
    "tags": []
   },
   "outputs": [],
   "source": [
    "assert not np.isnan(train_x).any()\n",
    "assert not np.isnan(train_y).any()\n",
    "assert not np.isnan(test_x).any()\n",
    "assert not np.isnan(test_y).any()"
   ]
  },
  {
   "cell_type": "code",
   "execution_count": 20,
   "id": "d05e4674",
   "metadata": {
    "execution": {
     "iopub.execute_input": "2022-08-12T18:29:09.671626Z",
     "iopub.status.busy": "2022-08-12T18:29:09.671376Z",
     "iopub.status.idle": "2022-08-12T19:01:59.307013Z",
     "shell.execute_reply": "2022-08-12T19:01:59.306384Z"
    },
    "papermill": {
     "duration": 1970.724423,
     "end_time": "2022-08-12T19:02:00.349572",
     "exception": false,
     "start_time": "2022-08-12T18:29:09.625149",
     "status": "completed"
    },
    "tags": []
   },
   "outputs": [
    {
     "name": "stdout",
     "output_type": "stream",
     "text": [
      "Epoch 1/300\n",
      "437/437 [==============================] - 287s 653ms/step - loss: 2.0807 - accuracy: 0.1239 - val_loss: 2.0799 - val_accuracy: 0.1238\n",
      "Epoch 2/300\n",
      "437/437 [==============================] - 290s 664ms/step - loss: 2.0797 - accuracy: 0.1315 - val_loss: 2.0801 - val_accuracy: 0.1249\n",
      "Epoch 3/300\n",
      "437/437 [==============================] - 281s 642ms/step - loss: 2.0796 - accuracy: 0.1295 - val_loss: 2.0799 - val_accuracy: 0.1322\n",
      "Epoch 4/300\n",
      "437/437 [==============================] - 282s 646ms/step - loss: 2.0796 - accuracy: 0.1300 - val_loss: 2.0797 - val_accuracy: 0.1257\n",
      "Epoch 5/300\n",
      "437/437 [==============================] - 280s 641ms/step - loss: 2.0790 - accuracy: 0.1320 - val_loss: 2.0801 - val_accuracy: 0.1212\n",
      "Epoch 6/300\n",
      "437/437 [==============================] - 276s 632ms/step - loss: 2.0789 - accuracy: 0.1320 - val_loss: 2.0802 - val_accuracy: 0.1259\n",
      "Epoch 7/300\n",
      "437/437 [==============================] - 273s 626ms/step - loss: 2.0787 - accuracy: 0.1321 - val_loss: 2.0804 - val_accuracy: 0.1305\n",
      "Epoch 7: early stopping\n"
     ]
    }
   ],
   "source": [
    "es = tf.keras.callbacks.EarlyStopping(monitor='val_loss', mode='min', verbose=1,patience=3)\n",
    "# \n",
    "history = model.fit(train_x,train_y,validation_data=(test_x,test_y),batch_size=64,epochs=300,callbacks=[es])"
   ]
  },
  {
   "cell_type": "code",
   "execution_count": 21,
   "id": "dad1006e",
   "metadata": {
    "execution": {
     "iopub.execute_input": "2022-08-12T19:02:02.251042Z",
     "iopub.status.busy": "2022-08-12T19:02:02.250802Z",
     "iopub.status.idle": "2022-08-12T19:02:02.530904Z",
     "shell.execute_reply": "2022-08-12T19:02:02.530302Z"
    },
    "papermill": {
     "duration": 1.215869,
     "end_time": "2022-08-12T19:02:02.534721",
     "exception": false,
     "start_time": "2022-08-12T19:02:01.318852",
     "status": "completed"
    },
    "tags": []
   },
   "outputs": [
    {
     "name": "stdout",
     "output_type": "stream",
     "text": [
      "dict_keys(['loss', 'accuracy', 'val_loss', 'val_accuracy'])\n"
     ]
    },
    {
     "data": {
      "image/png": "[encoded data removed]",
      "text/plain": [
       "<Figure size 432x288 with 1 Axes>"
      ]
     },
     "metadata": {
      "needs_background": "light"
     },
     "output_type": "display_data"
    },
    {
     "data": {
      "image/png": "[encoded data removed]",
      "text/plain": [
       "<Figure size 432x288 with 1 Axes>"
      ]
     },
     "metadata": {
      "needs_background": "light"
     },
     "output_type": "display_data"
    }
   ],
   "source": [
    "# list all data in history\n",
    "print(history.history.keys())\n",
    "# summarize history for accuracy\n",
    "plt.plot(history.history['accuracy'])\n",
    "plt.plot(history.history['val_accuracy'])\n",
    "plt.title('model accuracy')\n",
    "plt.ylabel('accuracy')\n",
    "plt.xlabel('epoch')\n",
    "plt.legend(['train', 'test'], loc='upper left')\n",
    "plt.show()\n",
    "# summarize history for loss\n",
    "plt.plot(history.history['loss'])\n",
    "plt.plot(history.history['val_loss'])\n",
    "plt.title('model loss')\n",
    "plt.ylabel('loss')\n",
    "plt.xlabel('epoch')\n",
    "plt.legend(['train', 'test'], loc='upper left')\n",
    "plt.show()"
   ]
  },
  {
   "cell_type": "code",
   "execution_count": 22,
   "id": "77505107",
   "metadata": {
    "execution": {
     "iopub.execute_input": "2022-08-12T19:02:04.425911Z",
     "iopub.status.busy": "2022-08-12T19:02:04.425678Z",
     "iopub.status.idle": "2022-08-12T19:02:32.575668Z",
     "shell.execute_reply": "2022-08-12T19:02:32.574890Z"
    },
    "papermill": {
     "duration": 29.10421,
     "end_time": "2022-08-12T19:02:32.577834",
     "exception": false,
     "start_time": "2022-08-12T19:02:03.473624",
     "status": "completed"
    },
    "tags": []
   },
   "outputs": [
    {
     "name": "stdout",
     "output_type": "stream",
     "text": [
      "266/266 [==============================] - 28s 104ms/step\n"
     ]
    }
   ],
   "source": [
    "predictions = model.predict(test_x)\n",
    "\n",
    "def get_card_from_encoding(encoding):\n",
    "    gambels = encoding.argmax(axis=1)\n",
    "    return np.vectorize(lambda x:possible_result[x])(gambels)"
   ]
  },
  {
   "cell_type": "code",
   "execution_count": 23,
   "id": "d1f95463",
   "metadata": {
    "execution": {
     "iopub.execute_input": "2022-08-12T19:02:34.697156Z",
     "iopub.status.busy": "2022-08-12T19:02:34.696897Z",
     "iopub.status.idle": "2022-08-12T19:02:34.727170Z",
     "shell.execute_reply": "2022-08-12T19:02:34.726612Z"
    },
    "papermill": {
     "duration": 1.059376,
     "end_time": "2022-08-12T19:02:34.729050",
     "exception": false,
     "start_time": "2022-08-12T19:02:33.669674",
     "status": "completed"
    },
    "tags": []
   },
   "outputs": [
    {
     "data": {
      "text/plain": [
       "{'name': UUID('4878a770-42fe-4a67-9d42-bd30f1b6aa00'),\n",
       " 'invested': '£850,900.00',\n",
       " 'single_bet_amount': '£100.00',\n",
       " 'total_invested': '£850,900.00',\n",
       " 'total_won': 1110,\n",
       " 'precentage_won': 13.045011164649194,\n",
       " 'expected_won': 12.5,\n",
       " 'eraned': '£555,000.00',\n",
       " 'revenue': '-£295,900.00'}"
      ]
     },
     "execution_count": 23,
     "metadata": {},
     "output_type": "execute_result"
    }
   ],
   "source": [
    "predictions_cards = get_card_from_encoding(predictions)\n",
    "true_cards = get_card_from_encoding(test_y)\n",
    "\n",
    "compute_statistics(predictions_cards,true_cards)"
   ]
  },
  {
   "cell_type": "code",
   "execution_count": null,
   "id": "5271115a",
   "metadata": {
    "papermill": {
     "duration": 0.982743,
     "end_time": "2022-08-12T19:02:36.732044",
     "exception": false,
     "start_time": "2022-08-12T19:02:35.749301",
     "status": "completed"
    },
    "tags": []
   },
   "outputs": [],
   "source": []
  }
 ],
 "metadata": {
  "celltoolbar": "Tags",
  "kernelspec": {
   "display_name": "Python 3 (ipykernel)",
   "language": "python",
   "name": "python3"
  },
  "language_info": {
   "codemirror_mode": {
    "name": "ipython",
    "version": 3
   },
   "file_extension": ".py",
   "mimetype": "text/x-python",
   "name": "python",
   "nbconvert_exporter": "python",
   "pygments_lexer": "ipython3",
   "version": "3.8.1"
  },
  "papermill": {
   "default_parameters": {},
   "duration": 2149.606134,
   "end_time": "2022-08-12T19:02:40.882290",
   "environment_variables": {},
   "exception": null,
   "input_path": "chance_model_for_type.ipynb",
   "output_path": "chance_model_for_type_Clubs.ipynb",
   "parameters": {
    "card_type": "Clubs",
    "model": "lstm"
   },
   "start_time": "2022-08-12T18:26:51.276156",
   "version": "2.3.4"
  }
 },
 "nbformat": 4,
 "nbformat_minor": 5
}
