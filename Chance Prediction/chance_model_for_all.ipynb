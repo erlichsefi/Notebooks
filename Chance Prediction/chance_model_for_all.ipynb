{
 "cells": [
  {
   "cell_type": "code",
   "execution_count": 1,
   "id": "6bd0737a",
   "metadata": {
    "execution": {
     "iopub.execute_input": "2022-08-12T16:01:26.020142Z",
     "iopub.status.busy": "2022-08-12T16:01:26.019567Z",
     "iopub.status.idle": "2022-08-12T16:01:26.027491Z",
     "shell.execute_reply": "2022-08-12T16:01:26.026916Z"
    },
    "papermill": {
     "duration": 0.027864,
     "end_time": "2022-08-12T16:01:26.030495",
     "exception": false,
     "start_time": "2022-08-12T16:01:26.002631",
     "status": "completed"
    },
    "tags": [
     "parameters"
    ]
   },
   "outputs": [],
   "source": [
    "model_name = \"bi_lstm_attention\"\n",
    "card_type = \"Diamonds\""
   ]
  },
  {
   "cell_type": "code",
   "execution_count": 2,
   "id": "e2ff36fb",
   "metadata": {
    "execution": {
     "iopub.execute_input": "2022-08-12T16:01:26.104478Z",
     "iopub.status.busy": "2022-08-12T16:01:26.104182Z",
     "iopub.status.idle": "2022-08-12T16:01:26.566995Z",
     "shell.execute_reply": "2022-08-12T16:01:26.566341Z"
    },
    "papermill": {
     "duration": 0.481453,
     "end_time": "2022-08-12T16:01:26.568895",
     "exception": false,
     "start_time": "2022-08-12T16:01:26.087442",
     "status": "completed"
    },
    "tags": []
   },
   "outputs": [],
   "source": [
    "import pandas as pd\n",
    "import numpy as np\n",
    "from chance_utils import compute_statistics\n",
    "from matplotlib import pyplot as plt"
   ]
  },
  {
   "cell_type": "code",
   "execution_count": 3,
   "id": "e9cc50ef",
   "metadata": {
    "execution": {
     "iopub.execute_input": "2022-08-12T16:01:26.599748Z",
     "iopub.status.busy": "2022-08-12T16:01:26.599481Z",
     "iopub.status.idle": "2022-08-12T16:01:26.602752Z",
     "shell.execute_reply": "2022-08-12T16:01:26.602138Z"
    },
    "papermill": {
     "duration": 0.021195,
     "end_time": "2022-08-12T16:01:26.604782",
     "exception": false,
     "start_time": "2022-08-12T16:01:26.583587",
     "status": "completed"
    },
    "tags": []
   },
   "outputs": [],
   "source": [
    "possible_result = [\"7\",\"8\",\"9\",\"10\",\"J\",\"Q\",\"K\",\"A\"]\n",
    "all_cards = ['Spades','Diamonds','Hearts','Clubs']\n",
    "n_outputs = 8\n",
    "n_features = 8*4\n",
    "sample_length = 365*5"
   ]
  },
  {
   "cell_type": "code",
   "execution_count": 4,
   "id": "bcf642f0",
   "metadata": {
    "execution": {
     "iopub.execute_input": "2022-08-12T16:01:26.634711Z",
     "iopub.status.busy": "2022-08-12T16:01:26.634501Z",
     "iopub.status.idle": "2022-08-12T16:01:26.650469Z",
     "shell.execute_reply": "2022-08-12T16:01:26.649913Z"
    },
    "papermill": {
     "duration": 0.033064,
     "end_time": "2022-08-12T16:01:26.652286",
     "exception": false,
     "start_time": "2022-08-12T16:01:26.619222",
     "status": "completed"
    },
    "tags": []
   },
   "outputs": [
    {
     "data": {
      "text/html": [
       "<div>\n",
       "<style scoped>\n",
       "    .dataframe tbody tr th:only-of-type {\n",
       "        vertical-align: middle;\n",
       "    }\n",
       "\n",
       "    .dataframe tbody tr th {\n",
       "        vertical-align: top;\n",
       "    }\n",
       "\n",
       "    .dataframe thead th {\n",
       "        text-align: right;\n",
       "    }\n",
       "</style>\n",
       "<table border=\"1\" class=\"dataframe\">\n",
       "  <thead>\n",
       "    <tr style=\"text-align: right;\">\n",
       "      <th></th>\n",
       "      <th>index</th>\n",
       "      <th>0</th>\n",
       "      <th>1</th>\n",
       "      <th>2</th>\n",
       "      <th>3</th>\n",
       "      <th>4</th>\n",
       "      <th>5</th>\n",
       "      <th>6</th>\n",
       "      <th>7</th>\n",
       "    </tr>\n",
       "  </thead>\n",
       "  <tbody>\n",
       "    <tr>\n",
       "      <th>0</th>\n",
       "      <td>7</td>\n",
       "      <td>1</td>\n",
       "      <td>0</td>\n",
       "      <td>0</td>\n",
       "      <td>0</td>\n",
       "      <td>0</td>\n",
       "      <td>0</td>\n",
       "      <td>0</td>\n",
       "      <td>0</td>\n",
       "    </tr>\n",
       "    <tr>\n",
       "      <th>1</th>\n",
       "      <td>8</td>\n",
       "      <td>0</td>\n",
       "      <td>1</td>\n",
       "      <td>0</td>\n",
       "      <td>0</td>\n",
       "      <td>0</td>\n",
       "      <td>0</td>\n",
       "      <td>0</td>\n",
       "      <td>0</td>\n",
       "    </tr>\n",
       "    <tr>\n",
       "      <th>2</th>\n",
       "      <td>9</td>\n",
       "      <td>0</td>\n",
       "      <td>0</td>\n",
       "      <td>1</td>\n",
       "      <td>0</td>\n",
       "      <td>0</td>\n",
       "      <td>0</td>\n",
       "      <td>0</td>\n",
       "      <td>0</td>\n",
       "    </tr>\n",
       "    <tr>\n",
       "      <th>3</th>\n",
       "      <td>10</td>\n",
       "      <td>0</td>\n",
       "      <td>0</td>\n",
       "      <td>0</td>\n",
       "      <td>1</td>\n",
       "      <td>0</td>\n",
       "      <td>0</td>\n",
       "      <td>0</td>\n",
       "      <td>0</td>\n",
       "    </tr>\n",
       "    <tr>\n",
       "      <th>4</th>\n",
       "      <td>J</td>\n",
       "      <td>0</td>\n",
       "      <td>0</td>\n",
       "      <td>0</td>\n",
       "      <td>0</td>\n",
       "      <td>1</td>\n",
       "      <td>0</td>\n",
       "      <td>0</td>\n",
       "      <td>0</td>\n",
       "    </tr>\n",
       "    <tr>\n",
       "      <th>5</th>\n",
       "      <td>Q</td>\n",
       "      <td>0</td>\n",
       "      <td>0</td>\n",
       "      <td>0</td>\n",
       "      <td>0</td>\n",
       "      <td>0</td>\n",
       "      <td>1</td>\n",
       "      <td>0</td>\n",
       "      <td>0</td>\n",
       "    </tr>\n",
       "    <tr>\n",
       "      <th>6</th>\n",
       "      <td>K</td>\n",
       "      <td>0</td>\n",
       "      <td>0</td>\n",
       "      <td>0</td>\n",
       "      <td>0</td>\n",
       "      <td>0</td>\n",
       "      <td>0</td>\n",
       "      <td>1</td>\n",
       "      <td>0</td>\n",
       "    </tr>\n",
       "    <tr>\n",
       "      <th>7</th>\n",
       "      <td>A</td>\n",
       "      <td>0</td>\n",
       "      <td>0</td>\n",
       "      <td>0</td>\n",
       "      <td>0</td>\n",
       "      <td>0</td>\n",
       "      <td>0</td>\n",
       "      <td>0</td>\n",
       "      <td>1</td>\n",
       "    </tr>\n",
       "  </tbody>\n",
       "</table>\n",
       "</div>"
      ],
      "text/plain": [
       "  index  0  1  2  3  4  5  6  7\n",
       "0     7  1  0  0  0  0  0  0  0\n",
       "1     8  0  1  0  0  0  0  0  0\n",
       "2     9  0  0  1  0  0  0  0  0\n",
       "3    10  0  0  0  1  0  0  0  0\n",
       "4     J  0  0  0  0  1  0  0  0\n",
       "5     Q  0  0  0  0  0  1  0  0\n",
       "6     K  0  0  0  0  0  0  1  0\n",
       "7     A  0  0  0  0  0  0  0  1"
      ]
     },
     "execution_count": 4,
     "metadata": {},
     "output_type": "execute_result"
    }
   ],
   "source": [
    "dummies = pd.get_dummies(possible_result).T\n",
    "dummies = dummies.reindex(index=possible_result,fill_value=0)\n",
    "dummies = dummies.reset_index()\n",
    "dummies"
   ]
  },
  {
   "cell_type": "code",
   "execution_count": 5,
   "id": "4c6d0831",
   "metadata": {},
   "outputs": [],
   "source": [
    "def replace_with_dummies(df):\n",
    "    df = pd.merge(dummies,df,left_on='index',right_on=\"Spades\",how=\"right\").drop(columns=[\"Spades\"])\n",
    "    df = pd.merge(dummies,df,left_on='index',right_on=\"Diamonds\",how=\"right\",suffixes=(\"_Diamonds\",\"\")).drop(columns=[\"Diamonds\",\"index_Diamonds\"])\n",
    "    df = pd.merge(dummies,df,left_on='index',right_on=\"Hearts\",how=\"right\",suffixes=(\"_Hearts\",\"\")).drop(columns=[\"Hearts\",\"index_Hearts\"])\n",
    "    return pd.merge(dummies,df,left_on='index',right_on=\"Clubs\",how=\"right\",suffixes=(\"_Clubs\",\"\")).drop(columns=[\"index\",\"Clubs\",\"index_Clubs\"])\n",
    "\n",
    "    "
   ]
  },
  {
   "cell_type": "code",
   "execution_count": 6,
   "id": "41624297",
   "metadata": {},
   "outputs": [],
   "source": [
    "test_chance = pd.read_csv(\"test_chance.csv\",index_col=[0])\n",
    "test_chance.Date = pd.to_datetime(test_chance.Date)\n",
    "\n",
    "train_chance = pd.read_csv('train_chance.csv',index_col=[0])\n",
    "train_chance.Date = pd.to_datetime(train_chance.Date)"
   ]
  },
  {
   "cell_type": "code",
   "execution_count": 7,
   "id": "727e9b7e",
   "metadata": {},
   "outputs": [
    {
     "name": "stderr",
     "output_type": "stream",
     "text": [
      "/var/folders/3r/ygns0_h16pl1__pln5g3j8t80000gp/T/ipykernel_54391/3572030588.py:5: FutureWarning: Passing 'suffixes' which cause duplicate columns {'3', '5', '6', '2', '7', '1', '0', '4'} in the result is deprecated and will raise a MergeError in a future version.\n",
      "  return pd.merge(dummies,df,left_on='index',right_on=\"Clubs\",how=\"right\",suffixes=(\"_Clubs\",\"\")).drop(columns=[\"index\",\"Clubs\",\"index_Clubs\"])\n",
      "/var/folders/3r/ygns0_h16pl1__pln5g3j8t80000gp/T/ipykernel_54391/3572030588.py:5: FutureWarning: Passing 'suffixes' which cause duplicate columns {'3', '5', '6', '2', '7', '1', '0', '4'} in the result is deprecated and will raise a MergeError in a future version.\n",
      "  return pd.merge(dummies,df,left_on='index',right_on=\"Clubs\",how=\"right\",suffixes=(\"_Clubs\",\"\")).drop(columns=[\"index\",\"Clubs\",\"index_Clubs\"])\n"
     ]
    }
   ],
   "source": [
    "test_chance = replace_with_dummies(test_chance)\n",
    "train_chance = replace_with_dummies(train_chance)"
   ]
  },
  {
   "cell_type": "code",
   "execution_count": 8,
   "id": "9b8fb200",
   "metadata": {
    "execution": {
     "iopub.execute_input": "2022-08-12T16:01:26.829120Z",
     "iopub.status.busy": "2022-08-12T16:01:26.828809Z",
     "iopub.status.idle": "2022-08-12T16:01:26.842451Z",
     "shell.execute_reply": "2022-08-12T16:01:26.841997Z"
    },
    "papermill": {
     "duration": 0.030939,
     "end_time": "2022-08-12T16:01:26.844215",
     "exception": false,
     "start_time": "2022-08-12T16:01:26.813276",
     "status": "completed"
    },
    "tags": []
   },
   "outputs": [
    {
     "data": {
      "text/html": [
       "<div>\n",
       "<style scoped>\n",
       "    .dataframe tbody tr th:only-of-type {\n",
       "        vertical-align: middle;\n",
       "    }\n",
       "\n",
       "    .dataframe tbody tr th {\n",
       "        vertical-align: top;\n",
       "    }\n",
       "\n",
       "    .dataframe thead th {\n",
       "        text-align: right;\n",
       "    }\n",
       "</style>\n",
       "<table border=\"1\" class=\"dataframe\">\n",
       "  <thead>\n",
       "    <tr style=\"text-align: right;\">\n",
       "      <th></th>\n",
       "      <th>0_Clubs</th>\n",
       "      <th>1_Clubs</th>\n",
       "      <th>2_Clubs</th>\n",
       "      <th>3_Clubs</th>\n",
       "      <th>4_Clubs</th>\n",
       "      <th>5_Clubs</th>\n",
       "      <th>6_Clubs</th>\n",
       "      <th>7_Clubs</th>\n",
       "      <th>0</th>\n",
       "      <th>1</th>\n",
       "      <th>...</th>\n",
       "      <th>1</th>\n",
       "      <th>2</th>\n",
       "      <th>3</th>\n",
       "      <th>4</th>\n",
       "      <th>5</th>\n",
       "      <th>6</th>\n",
       "      <th>7</th>\n",
       "      <th>Date</th>\n",
       "      <th>lottoryNumber</th>\n",
       "      <th>id</th>\n",
       "    </tr>\n",
       "  </thead>\n",
       "  <tbody>\n",
       "    <tr>\n",
       "      <th>29119</th>\n",
       "      <td>0</td>\n",
       "      <td>0</td>\n",
       "      <td>0</td>\n",
       "      <td>1</td>\n",
       "      <td>0</td>\n",
       "      <td>0</td>\n",
       "      <td>0</td>\n",
       "      <td>0</td>\n",
       "      <td>0</td>\n",
       "      <td>0</td>\n",
       "      <td>...</td>\n",
       "      <td>0</td>\n",
       "      <td>1</td>\n",
       "      <td>0</td>\n",
       "      <td>0</td>\n",
       "      <td>0</td>\n",
       "      <td>0</td>\n",
       "      <td>0</td>\n",
       "      <td>2017-12-07 00:00:00.035924</td>\n",
       "      <td>35924</td>\n",
       "      <td>1</td>\n",
       "    </tr>\n",
       "    <tr>\n",
       "      <th>29120</th>\n",
       "      <td>1</td>\n",
       "      <td>0</td>\n",
       "      <td>0</td>\n",
       "      <td>0</td>\n",
       "      <td>0</td>\n",
       "      <td>0</td>\n",
       "      <td>0</td>\n",
       "      <td>0</td>\n",
       "      <td>0</td>\n",
       "      <td>0</td>\n",
       "      <td>...</td>\n",
       "      <td>1</td>\n",
       "      <td>0</td>\n",
       "      <td>0</td>\n",
       "      <td>0</td>\n",
       "      <td>0</td>\n",
       "      <td>0</td>\n",
       "      <td>0</td>\n",
       "      <td>2017-12-07 00:00:00.035925</td>\n",
       "      <td>35925</td>\n",
       "      <td>1</td>\n",
       "    </tr>\n",
       "    <tr>\n",
       "      <th>29121</th>\n",
       "      <td>0</td>\n",
       "      <td>0</td>\n",
       "      <td>0</td>\n",
       "      <td>0</td>\n",
       "      <td>0</td>\n",
       "      <td>0</td>\n",
       "      <td>0</td>\n",
       "      <td>1</td>\n",
       "      <td>0</td>\n",
       "      <td>0</td>\n",
       "      <td>...</td>\n",
       "      <td>1</td>\n",
       "      <td>0</td>\n",
       "      <td>0</td>\n",
       "      <td>0</td>\n",
       "      <td>0</td>\n",
       "      <td>0</td>\n",
       "      <td>0</td>\n",
       "      <td>2017-12-07 00:00:00.035926</td>\n",
       "      <td>35926</td>\n",
       "      <td>1</td>\n",
       "    </tr>\n",
       "    <tr>\n",
       "      <th>29122</th>\n",
       "      <td>0</td>\n",
       "      <td>0</td>\n",
       "      <td>0</td>\n",
       "      <td>1</td>\n",
       "      <td>0</td>\n",
       "      <td>0</td>\n",
       "      <td>0</td>\n",
       "      <td>0</td>\n",
       "      <td>0</td>\n",
       "      <td>0</td>\n",
       "      <td>...</td>\n",
       "      <td>0</td>\n",
       "      <td>0</td>\n",
       "      <td>1</td>\n",
       "      <td>0</td>\n",
       "      <td>0</td>\n",
       "      <td>0</td>\n",
       "      <td>0</td>\n",
       "      <td>2017-12-07 00:00:00.035927</td>\n",
       "      <td>35927</td>\n",
       "      <td>1</td>\n",
       "    </tr>\n",
       "    <tr>\n",
       "      <th>29123</th>\n",
       "      <td>0</td>\n",
       "      <td>0</td>\n",
       "      <td>0</td>\n",
       "      <td>0</td>\n",
       "      <td>0</td>\n",
       "      <td>1</td>\n",
       "      <td>0</td>\n",
       "      <td>0</td>\n",
       "      <td>0</td>\n",
       "      <td>0</td>\n",
       "      <td>...</td>\n",
       "      <td>0</td>\n",
       "      <td>1</td>\n",
       "      <td>0</td>\n",
       "      <td>0</td>\n",
       "      <td>0</td>\n",
       "      <td>0</td>\n",
       "      <td>0</td>\n",
       "      <td>2017-12-07 00:00:00.035928</td>\n",
       "      <td>35928</td>\n",
       "      <td>1</td>\n",
       "    </tr>\n",
       "  </tbody>\n",
       "</table>\n",
       "<p>5 rows × 35 columns</p>\n",
       "</div>"
      ],
      "text/plain": [
       "       0_Clubs  1_Clubs  2_Clubs  3_Clubs  4_Clubs  5_Clubs  6_Clubs  7_Clubs  \\\n",
       "29119        0        0        0        1        0        0        0        0   \n",
       "29120        1        0        0        0        0        0        0        0   \n",
       "29121        0        0        0        0        0        0        0        1   \n",
       "29122        0        0        0        1        0        0        0        0   \n",
       "29123        0        0        0        0        0        1        0        0   \n",
       "\n",
       "       0  1  ...  1  2  3  4  5  6  7                       Date  \\\n",
       "29119  0  0  ...  0  1  0  0  0  0  0 2017-12-07 00:00:00.035924   \n",
       "29120  0  0  ...  1  0  0  0  0  0  0 2017-12-07 00:00:00.035925   \n",
       "29121  0  0  ...  1  0  0  0  0  0  0 2017-12-07 00:00:00.035926   \n",
       "29122  0  0  ...  0  0  1  0  0  0  0 2017-12-07 00:00:00.035927   \n",
       "29123  0  0  ...  0  1  0  0  0  0  0 2017-12-07 00:00:00.035928   \n",
       "\n",
       "       lottoryNumber  id  \n",
       "29119          35924   1  \n",
       "29120          35925   1  \n",
       "29121          35926   1  \n",
       "29122          35927   1  \n",
       "29123          35928   1  \n",
       "\n",
       "[5 rows x 35 columns]"
      ]
     },
     "execution_count": 8,
     "metadata": {},
     "output_type": "execute_result"
    }
   ],
   "source": [
    "# make the samples ready to tsfresh\n",
    "spades_test_chance = test_chance.sort_values(by=\"Date\").reset_index(drop=True)\n",
    "spades_test_chance['id'] = 1\n",
    "\n",
    "spades_train_chance = train_chance.sort_values(by=\"Date\").reset_index(drop=True)\n",
    "spades_train_chance['id'] = 1\n",
    "\n",
    "spades_train_chance.tail()"
   ]
  },
  {
   "cell_type": "code",
   "execution_count": null,
   "id": "5675d2b2",
   "metadata": {
    "execution": {
     "iopub.execute_input": "2022-08-12T16:01:26.877105Z",
     "iopub.status.busy": "2022-08-12T16:01:26.876910Z",
     "iopub.status.idle": "2022-08-12T16:02:59.480198Z",
     "shell.execute_reply": "2022-08-12T16:02:59.479413Z"
    },
    "papermill": {
     "duration": 92.62244,
     "end_time": "2022-08-12T16:02:59.482447",
     "exception": false,
     "start_time": "2022-08-12T16:01:26.860007",
     "status": "completed"
    },
    "tags": []
   },
   "outputs": [
    {
     "name": "stderr",
     "output_type": "stream",
     "text": [
      "/Users/serlich/Documents/Notebooks/env/lib/python3.8/site-packages/tsfresh/utilities/dataframe_functions.py:520: UserWarning: Your time stamps are not uniformly sampled, which makes rolling nonsensical in some domains.\n",
      "  warnings.warn(\n",
      "Rolling: 100%|██████████████████████████████████| 40/40 [00:24<00:00,  1.63it/s]\n",
      "/Users/serlich/Documents/Notebooks/env/lib/python3.8/site-packages/tsfresh/utilities/dataframe_functions.py:520: UserWarning: Your time stamps are not uniformly sampled, which makes rolling nonsensical in some domains.\n",
      "  warnings.warn(\n",
      "Rolling:  25%|████████▌                         | 10/40 [00:58<04:21,  8.73s/it]"
     ]
    }
   ],
   "source": [
    "from tsfresh.utilities.dataframe_functions import roll_time_series\n",
    "\n",
    "df_test_rolled = roll_time_series(spades_test_chance, column_id=\"id\",column_sort=\"Date\",max_timeshift=sample_length-1,min_timeshift=sample_length-1)\n",
    "df_train_rolled = roll_time_series(spades_train_chance, column_id=\"id\",column_sort=\"Date\",max_timeshift=sample_length-1,min_timeshift=sample_length-1)\n",
    "df_train_rolled.tail()"
   ]
  },
  {
   "cell_type": "code",
   "execution_count": null,
   "id": "3c9c7bc2",
   "metadata": {
    "execution": {
     "iopub.execute_input": "2022-08-12T16:02:59.577844Z",
     "iopub.status.busy": "2022-08-12T16:02:59.577608Z",
     "iopub.status.idle": "2022-08-12T16:02:59.589206Z",
     "shell.execute_reply": "2022-08-12T16:02:59.588490Z"
    },
    "papermill": {
     "duration": 0.059759,
     "end_time": "2022-08-12T16:02:59.591849",
     "exception": false,
     "start_time": "2022-08-12T16:02:59.532090",
     "status": "completed"
    },
    "tags": []
   },
   "outputs": [],
   "source": [
    "test_labeling_df = test_chance.drop(columns=[\"Date\"])\n",
    "train_labeling_df = train_chance.drop(columns=[\"Date\"])\n",
    "\n",
    "labeling_df = pd.concat([test_labeling_df,train_labeling_df])\n",
    "labeling_df.head()"
   ]
  },
  {
   "cell_type": "code",
   "execution_count": null,
   "id": "dc61960c",
   "metadata": {
    "execution": {
     "iopub.execute_input": "2022-08-12T16:02:59.693854Z",
     "iopub.status.busy": "2022-08-12T16:02:59.693634Z",
     "iopub.status.idle": "2022-08-12T16:02:59.697785Z",
     "shell.execute_reply": "2022-08-12T16:02:59.697298Z"
    },
    "papermill": {
     "duration": 0.05497,
     "end_time": "2022-08-12T16:02:59.699560",
     "exception": false,
     "start_time": "2022-08-12T16:02:59.644590",
     "status": "completed"
    },
    "tags": []
   },
   "outputs": [],
   "source": [
    "def make_a_sample(current_sample,labeling_df):\n",
    "    \n",
    "    current_id = current_sample['id'].values[0]\n",
    "    final_label = None\n",
    "    \n",
    "    assert current_sample.shape[0] == sample_length, f\"{current_id} is not shape of {sample_length}\"\n",
    "\n",
    "    lottey_num_predicting = (current_id[1].microsecond + 1)\n",
    "    label = labeling_df[labeling_df.lottoryNumber == lottey_num_predicting]\n",
    "    \n",
    "    if len(label) == 1:\n",
    "        final_label = label.values[0]\n",
    "\n",
    "    sample = current_sample.drop(columns=['id','Date']).values\n",
    "\n",
    "    return lottey_num_predicting,final_label,sample"
   ]
  },
  {
   "cell_type": "code",
   "execution_count": null,
   "id": "a795d32a",
   "metadata": {
    "execution": {
     "iopub.execute_input": "2022-08-12T16:02:59.787455Z",
     "iopub.status.busy": "2022-08-12T16:02:59.787097Z",
     "iopub.status.idle": "2022-08-12T16:03:29.618271Z",
     "shell.execute_reply": "2022-08-12T16:03:29.617452Z"
    },
    "papermill": {
     "duration": 29.876728,
     "end_time": "2022-08-12T16:03:29.620758",
     "exception": false,
     "start_time": "2022-08-12T16:02:59.744030",
     "status": "completed"
    },
    "tags": []
   },
   "outputs": [],
   "source": [
    "train = df_train_rolled.groupby(\"id\").apply(lambda x:make_a_sample(x,labeling_df))\n",
    "\n",
    "train = sorted(train.values,key=lambda x:x[0])\n",
    "_,train_y,train_x = map(list, zip(*train))"
   ]
  },
  {
   "cell_type": "code",
   "execution_count": null,
   "id": "4e9541fc",
   "metadata": {
    "execution": {
     "iopub.execute_input": "2022-08-12T16:03:29.715027Z",
     "iopub.status.busy": "2022-08-12T16:03:29.714689Z",
     "iopub.status.idle": "2022-08-12T16:03:39.027944Z",
     "shell.execute_reply": "2022-08-12T16:03:39.027139Z"
    },
    "papermill": {
     "duration": 9.358867,
     "end_time": "2022-08-12T16:03:39.030813",
     "exception": false,
     "start_time": "2022-08-12T16:03:29.671946",
     "status": "completed"
    },
    "tags": []
   },
   "outputs": [],
   "source": [
    "test = df_test_rolled.groupby(\"id\").apply(lambda x:make_a_sample(x,labeling_df))\n",
    "\n",
    "test = sorted(test.values,key=lambda x:x[0])\n",
    "_,test_y,test_x = map(list, zip(*test))"
   ]
  },
  {
   "cell_type": "code",
   "execution_count": null,
   "id": "45863d0e",
   "metadata": {},
   "outputs": [],
   "source": [
    "test_y = pd.DataFrame(test_y[:-1])\n",
    "last_sample = test_x[-1]\n",
    "\n",
    "test_x = test_x[:-1]\n",
    "train_y = pd.DataFrame(train_y)"
   ]
  },
  {
   "cell_type": "code",
   "execution_count": null,
   "id": "4ee866b7",
   "metadata": {},
   "outputs": [],
   "source": [
    "test_x = np.stack(test_x)\n",
    "train_x = np.stack(train_x)"
   ]
  },
  {
   "cell_type": "code",
   "execution_count": null,
   "id": "fd9e5385",
   "metadata": {},
   "outputs": [],
   "source": [
    "test_x = test_x[:,:,:-1]\n",
    "train_x = train_x[:,:,:-1]\n",
    "test_y = test_y.iloc[:,:-1]\n",
    "train_y = train_y.iloc[:,:-1]"
   ]
  },
  {
   "cell_type": "code",
   "execution_count": null,
   "id": "d2b303e4",
   "metadata": {
    "execution": {
     "iopub.execute_input": "2022-08-12T16:03:39.339817Z",
     "iopub.status.busy": "2022-08-12T16:03:39.339556Z",
     "iopub.status.idle": "2022-08-12T16:03:39.343165Z",
     "shell.execute_reply": "2022-08-12T16:03:39.342565Z"
    },
    "papermill": {
     "duration": 0.050766,
     "end_time": "2022-08-12T16:03:39.345070",
     "exception": false,
     "start_time": "2022-08-12T16:03:39.294304",
     "status": "completed"
    },
    "tags": []
   },
   "outputs": [],
   "source": [
    "assert test_x.shape[0] == test_y.shape[0] and train_x.shape[0] == train_y.shape[0]"
   ]
  },
  {
   "cell_type": "code",
   "execution_count": null,
   "id": "1c0371cc",
   "metadata": {
    "execution": {
     "iopub.execute_input": "2022-08-12T16:03:39.517304Z",
     "iopub.status.busy": "2022-08-12T16:03:39.517089Z",
     "iopub.status.idle": "2022-08-12T16:03:39.520453Z",
     "shell.execute_reply": "2022-08-12T16:03:39.519990Z"
    },
    "papermill": {
     "duration": 0.046215,
     "end_time": "2022-08-12T16:03:39.522470",
     "exception": false,
     "start_time": "2022-08-12T16:03:39.476255",
     "status": "completed"
    },
    "tags": []
   },
   "outputs": [],
   "source": [
    "print(f\"Test shape {test_x.shape}\")\n",
    "print(f\"Train shape {train_x.shape}\")"
   ]
  },
  {
   "cell_type": "code",
   "execution_count": null,
   "id": "125ac1f6",
   "metadata": {},
   "outputs": [],
   "source": [
    "test_y.iloc[:,:8].shape"
   ]
  },
  {
   "cell_type": "code",
   "execution_count": null,
   "id": "0c82f921",
   "metadata": {},
   "outputs": [],
   "source": [
    "from keras import backend as K\n",
    "\n",
    "class attention(tf.keras.layers.Layer):\n",
    "    def __init__(self,**kwargs):\n",
    "        super(attention,self).__init__(**kwargs)\n",
    "\n",
    "    def build(self,input_shape):\n",
    "        self.W = self.add_weight(name=\"att_weight\",shape=(input_shape[-1],1),initializer=\"normal\")\n",
    "        self.b = self.add_weight(name=\"att_bias\",shape=(input_shape[1],1),initializer=\"zeros\")        \n",
    "        super(attention, self).build(input_shape)\n",
    "\n",
    "    def call(self,x):\n",
    "        et=K.squeeze(K.tanh(K.dot(x,self.W)+self.b),axis=-1)\n",
    "        at=K.softmax(et)\n",
    "        at=K.expand_dims(at,axis=-1)\n",
    "        output=x*at\n",
    "        return K.sum(output,axis=1)\n",
    "\n",
    "    def compute_output_shape(self,input_shape):\n",
    "        return (input_shape[0],input_shape[-1])\n",
    "\n",
    "    def get_config(self):\n",
    "        return super(attention,self).get_config()"
   ]
  },
  {
   "cell_type": "code",
   "execution_count": null,
   "id": "0abb3b40",
   "metadata": {
    "execution": {
     "iopub.execute_input": "2022-08-12T16:03:39.604119Z",
     "iopub.status.busy": "2022-08-12T16:03:39.603892Z",
     "iopub.status.idle": "2022-08-12T16:03:44.158064Z",
     "shell.execute_reply": "2022-08-12T16:03:44.157416Z"
    },
    "papermill": {
     "duration": 4.604685,
     "end_time": "2022-08-12T16:03:44.166422",
     "exception": false,
     "start_time": "2022-08-12T16:03:39.561737",
     "status": "completed"
    },
    "tags": []
   },
   "outputs": [],
   "source": [
    "import tensorflow as tf\n",
    "\n",
    "model = None\n",
    "if model_name == \"lstm\":\n",
    "    #\n",
    "    model = tf.keras.Sequential()\n",
    "    model.add(tf.keras.layers.LSTM(300, input_shape=(sample_length,n_features)))\n",
    "    model.add(tf.keras.layers.Dropout(0.5))\n",
    "    model.add(tf.keras.layers.Dense(100, activation='relu'))\n",
    "    model.add(tf.keras.layers.Dense(n_outputs, activation='softmax'))\n",
    "    model.compile(loss='categorical_crossentropy', optimizer='adam', metrics=['accuracy'])\n",
    "\n",
    "elif model_name == \"attention\":\n",
    "    #\n",
    "    model = tf.keras.Sequential()\n",
    "    model.add(tf.keras.layers.LSTM(50, input_shape=(sample_length,n_features),return_sequences=True))\n",
    "    model.add(attention())\n",
    "    model.add(tf.keras.layers.Dropout(0.5))\n",
    "    model.add(tf.keras.layers.Dense(50, activation='relu'))\n",
    "    model.add(tf.keras.layers.Dense(100, activation='relu'))\n",
    "    model.add(tf.keras.layers.Dense(n_outputs, activation='softmax'))\n",
    "    model.compile(loss='categorical_crossentropy', optimizer='adam', metrics=['accuracy'])\n",
    "    \n",
    "elif model_name == \"bi_lstm\":\n",
    "    #\n",
    "    model = tf.keras.Sequential()\n",
    "    model.add(tf.keras.layers.Bidirectional(tf.keras.layers.LSTM(50),input_shape=(sample_length,n_features),merge_mode=\"concat\",return_sequences=True))\n",
    "    model.add(tf.keras.layers.Dropout(0.5))\n",
    "    model.add(tf.keras.layers.Dense(200, activation='relu'))\n",
    "    model.add(tf.keras.layers.Dense(n_outputs, activation='softmax'))\n",
    "    model.compile(loss='categorical_crossentropy', optimizer='adam', metrics=['accuracy'])\n",
    "\n",
    "elif model_name == \"bi_lstm_attention\":\n",
    "    #\n",
    "    model = tf.keras.Sequential()\n",
    "    model.add(tf.keras.layers.Bidirectional(tf.keras.layers.LSTM(50,return_sequences=True),input_shape=(sample_length,n_features),merge_mode=\"concat\"))\n",
    "    model.add(attention())\n",
    "    #model.add(tf.keras.layers.Dropout(0.5))\n",
    "    model.add(tf.keras.layers.Dense(200, activation='relu'))\n",
    "    model.add(tf.keras.layers.Dense(n_outputs, activation='softmax'))\n",
    "    model.compile(loss='categorical_crossentropy', optimizer='adam', metrics=['accuracy'])\n",
    "    \n",
    "elif model_name == \"nn\":\n",
    "    #\n",
    "    model = tf.keras.Sequential()\n",
    "    model.add(tf.keras.layers.Flatten(input_shape=(sample_length,8)))\n",
    "    model.add(tf.keras.layers.Dense(350, activation='relu'))\n",
    "    model.add(tf.keras.layers.Dense(250, activation='relu'))\n",
    "    model.add(tf.keras.layers.Dense(150, activation='relu'))\n",
    "    model.add(tf.keras.layers.Dense(n_outputs, activation='softmax'))\n",
    "    model.compile(optimizer=\"adam\",loss='categorical_crossentropy', metrics=['accuracy'])\n",
    "    \n",
    "model.summary()"
   ]
  },
  {
   "cell_type": "code",
   "execution_count": null,
   "id": "57f8f6bc",
   "metadata": {},
   "outputs": [],
   "source": [
    "card_type_index = all_cards.index(card_type)\n",
    "start_index = card_type_index*8\n",
    "end_index = (card_type_index+1)*8\n",
    "\n",
    "if test_y.shape[1] > 8:\n",
    "    test_y = test_y.iloc[:,start_index:end_index]\n",
    "    train_y = train_y.iloc[:,start_index:end_index]\n",
    "    \n",
    "assert test_y.shape[1] == 8"
   ]
  },
  {
   "cell_type": "code",
   "execution_count": null,
   "id": "40ce4e1e",
   "metadata": {},
   "outputs": [],
   "source": [
    "assert not np.isnan(train_x).any()\n",
    "assert not np.isnan(train_y).any().any()\n",
    "assert not np.isnan(test_x).any()\n",
    "assert not np.isnan(test_y).any().any()"
   ]
  },
  {
   "cell_type": "code",
   "execution_count": null,
   "id": "d05e4674",
   "metadata": {
    "execution": {
     "iopub.execute_input": "2022-08-12T16:03:44.269468Z",
     "iopub.status.busy": "2022-08-12T16:03:44.269263Z"
    },
    "papermill": {
     "duration": null,
     "end_time": null,
     "exception": false,
     "start_time": "2022-08-12T16:03:44.215909",
     "status": "running"
    },
    "scrolled": false,
    "tags": []
   },
   "outputs": [],
   "source": [
    "es = tf.keras.callbacks.EarlyStopping(monitor='val_loss', mode='min', verbose=1,patience=10)\n",
    "reduce_lr = tf.keras.callbacks.ReduceLROnPlateau(monitor='val_loss', factor=0.2,\n",
    "                              patience=5, min_lr=0.001)\n",
    "# \n",
    "history = model.fit(train_x,train_y,validation_data=(test_x,test_y),batch_size=64,epochs=300,callbacks=[es,reduce_lr])"
   ]
  },
  {
   "cell_type": "code",
   "execution_count": null,
   "id": "f28a2b90",
   "metadata": {},
   "outputs": [],
   "source": [
    "model.save('weight1')"
   ]
  },
  {
   "cell_type": "code",
   "execution_count": null,
   "id": "dad1006e",
   "metadata": {
    "papermill": {
     "duration": null,
     "end_time": null,
     "exception": null,
     "start_time": null,
     "status": "pending"
    },
    "tags": []
   },
   "outputs": [],
   "source": [
    "# list all data in history\n",
    "print(history.history.keys())\n",
    "# summarize history for accuracy\n",
    "plt.plot(history.history['accuracy'])\n",
    "plt.plot(history.history['val_accuracy'])\n",
    "plt.title('model accuracy')\n",
    "plt.ylabel('accuracy')\n",
    "plt.xlabel('epoch')\n",
    "plt.legend(['train', 'test'], loc='upper left')\n",
    "plt.show()\n",
    "# summarize history for loss\n",
    "plt.plot(history.history['loss'])\n",
    "plt.plot(history.history['val_loss'])\n",
    "plt.title('model loss')\n",
    "plt.ylabel('loss')\n",
    "plt.xlabel('epoch')\n",
    "plt.legend(['train', 'test'], loc='upper left')\n",
    "plt.show()"
   ]
  },
  {
   "cell_type": "code",
   "execution_count": null,
   "id": "77505107",
   "metadata": {
    "papermill": {
     "duration": null,
     "end_time": null,
     "exception": null,
     "start_time": null,
     "status": "pending"
    },
    "tags": []
   },
   "outputs": [],
   "source": [
    "predictions = model.predict(test_x)\n"
   ]
  },
  {
   "cell_type": "code",
   "execution_count": null,
   "id": "3691633a",
   "metadata": {},
   "outputs": [],
   "source": [
    "def get_card_from_encoding(encoding):\n",
    "    if hasattr(encoding,\"values\"):\n",
    "        gambels = encoding.values.argmax(axis=1)\n",
    "    else:\n",
    "        gambels = encoding.argmax(axis=1)\n",
    "    return np.vectorize(lambda x:possible_result[x])(gambels)"
   ]
  },
  {
   "cell_type": "code",
   "execution_count": null,
   "id": "d1f95463",
   "metadata": {
    "papermill": {
     "duration": null,
     "end_time": null,
     "exception": null,
     "start_time": null,
     "status": "pending"
    },
    "tags": []
   },
   "outputs": [],
   "source": [
    "predictions_cards = get_card_from_encoding(predictions)\n",
    "true_cards = get_card_from_encoding(test_y)\n",
    "\n",
    "compute_statistics(predictions_cards,true_cards)"
   ]
  },
  {
   "cell_type": "code",
   "execution_count": null,
   "id": "a6fed56a",
   "metadata": {},
   "outputs": [],
   "source": []
  },
  {
   "cell_type": "code",
   "execution_count": null,
   "id": "1eb81c9c",
   "metadata": {},
   "outputs": [],
   "source": []
  }
 ],
 "metadata": {
  "celltoolbar": "Tags",
  "kernelspec": {
   "display_name": "Python 3 (ipykernel)",
   "language": "python",
   "name": "python3"
  },
  "language_info": {
   "codemirror_mode": {
    "name": "ipython",
    "version": 3
   },
   "file_extension": ".py",
   "mimetype": "text/x-python",
   "name": "python",
   "nbconvert_exporter": "python",
   "pygments_lexer": "ipython3",
   "version": "3.8.1"
  },
  "papermill": {
   "default_parameters": {},
   "duration": null,
   "end_time": null,
   "environment_variables": {},
   "exception": null,
   "input_path": "chance_model_for_type.ipynb",
   "output_path": "chance_model_for_type_Spades.ipynb",
   "parameters": {
    "card_type": "Spades",
    "model": "lstm"
   },
   "start_time": "2022-08-12T16:01:24.394065",
   "version": "2.3.4"
  }
 },
 "nbformat": 4,
 "nbformat_minor": 5
}
