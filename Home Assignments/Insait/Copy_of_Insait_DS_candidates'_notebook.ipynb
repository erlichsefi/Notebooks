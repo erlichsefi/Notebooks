{
  "nbformat": 4,
  "nbformat_minor": 0,
  "metadata": {
    "colab": {
      "name": "Copy of Insait DS candidates' notebook.ipynb",
      "provenance": [],
      "collapsed_sections": [],
      "toc_visible": true
    },
    "kernelspec": {
      "name": "python3",
      "display_name": "Python 3"
    },
    "language_info": {
      "name": "python"
    }
  },
  "cells": [
    {
      "cell_type": "markdown",
      "source": [
        "# Greetings! \n",
        "> You received this jupyter notebook as we believe this can be a great fit. <br>\n",
        "> The goal of this notebook is to understand our challenges better <br> and assess your proficiency in python & pandas.\n",
        "\n",
        "### Several remarks:\n",
        "* You are welcome to use the internet, consult, and use any available sources.\n",
        "* There is no time limit, and we do not monitor any versioning or pace. Take your time and have fun.\n",
        "* The notebook should take up to two hours. If it takes more than that, please reach out.\n",
        "We tried to create an intriguing assignment. If you have any feedback - we'll be happy to hear.\n",
        "* A text cell decorated with \"👷\" will be followed by a code cell you are welcome to fill in."
      ],
      "metadata": {
        "id": "emIlTTqGYEGd"
      }
    },
    {
      "cell_type": "markdown",
      "source": [
        "# **The products recommendation notebook**\n",
        "The data at hand represents 12,000 bank clients and their monthly financial status. \n",
        "<br> The data is featured as a tabular schema, where each row contains 48 features.\n",
        ">The first 24 features are client-level entities such as age, residence country, and the joining channel.\n",
        "<br>The last 24 features are the **products** the client owns in a specified month (`Status_Dt`).\n",
        "\n",
        "Our task is to *forecast* which products a client will add or remove next month, given that we have all past information on the client."
      ],
      "metadata": {
        "id": "6SxJaN6YKRYw"
      }
    },
    {
      "cell_type": "markdown",
      "source": [
        "# Logistics"
      ],
      "metadata": {
        "id": "UnMPBayNPkBW"
      }
    },
    {
      "cell_type": "code",
      "source": [
        "# Download and extract the dataset\n",
        "!pip install --upgrade gdown tsfresh\n",
        "!rm -rf sample_data\n",
        "!mkdir data & gdown 1DkOvf0LaRgCVfLEtHXr5ztaHhGN4-tDu -O data/features_products.zip\n",
        "!unzip data/features_products.zip -d data/features_products\n",
        "!find . -name \"*.zip\" ! -iname features_products.zip | while read filename; do unzip -o -d \"`dirname \"$filename\"`\" \"$filename\"; done;\n",
        "!find . -name \"*.zip\" -delete"
      ],
      "metadata": {
        "id": "vAq-zMesRgXq",
        "collapsed": true,
        "colab": {
          "base_uri": "https://localhost:8080/"
        },
        "outputId": "9eba4cbf-78d0-44fc-ace9-66ec6e60ac6c"
      },
      "execution_count": null,
      "outputs": [
        {
          "output_type": "stream",
          "name": "stdout",
          "text": [
            "Requirement already satisfied: gdown in /usr/local/lib/python3.7/dist-packages (4.4.0)\n",
            "Requirement already satisfied: tsfresh in /usr/local/lib/python3.7/dist-packages (0.19.0)\n",
            "Requirement already satisfied: filelock in /usr/local/lib/python3.7/dist-packages (from gdown) (3.6.0)\n",
            "Requirement already satisfied: tqdm in /usr/local/lib/python3.7/dist-packages (from gdown) (4.64.0)\n",
            "Requirement already satisfied: six in /usr/local/lib/python3.7/dist-packages (from gdown) (1.15.0)\n",
            "Requirement already satisfied: requests[socks] in /usr/local/lib/python3.7/dist-packages (from gdown) (2.23.0)\n",
            "Requirement already satisfied: beautifulsoup4 in /usr/local/lib/python3.7/dist-packages (from gdown) (4.6.3)\n",
            "Requirement already satisfied: distributed>=2.11.0 in /usr/local/lib/python3.7/dist-packages (from tsfresh) (2.30.1)\n",
            "Requirement already satisfied: pandas>=0.25.0 in /usr/local/lib/python3.7/dist-packages (from tsfresh) (1.3.5)\n",
            "Requirement already satisfied: statsmodels>=0.13 in /usr/local/lib/python3.7/dist-packages (from tsfresh) (0.13.2)\n",
            "Requirement already satisfied: scikit-learn>=0.22.0 in /usr/local/lib/python3.7/dist-packages (from tsfresh) (1.0.2)\n",
            "Requirement already satisfied: cloudpickle in /usr/local/lib/python3.7/dist-packages (from tsfresh) (2.0.0)\n",
            "Requirement already satisfied: patsy>=0.4.1 in /usr/local/lib/python3.7/dist-packages (from tsfresh) (0.5.2)\n",
            "Requirement already satisfied: scipy>=1.2.0 in /usr/local/lib/python3.7/dist-packages (from tsfresh) (1.7.3)\n",
            "Requirement already satisfied: matrixprofile<2.0.0,>=1.1.10 in /usr/local/lib/python3.7/dist-packages (from tsfresh) (1.1.10)\n",
            "Requirement already satisfied: numpy>=1.15.1 in /usr/local/lib/python3.7/dist-packages (from tsfresh) (1.21.6)\n",
            "Requirement already satisfied: dask[dataframe]>=2.9.0 in /usr/local/lib/python3.7/dist-packages (from tsfresh) (2.12.0)\n",
            "Requirement already satisfied: stumpy>=1.7.2 in /usr/local/lib/python3.7/dist-packages (from tsfresh) (1.11.1)\n",
            "Requirement already satisfied: partd>=0.3.10 in /usr/local/lib/python3.7/dist-packages (from dask[dataframe]>=2.9.0->tsfresh) (1.2.0)\n",
            "Requirement already satisfied: fsspec>=0.6.0 in /usr/local/lib/python3.7/dist-packages (from dask[dataframe]>=2.9.0->tsfresh) (2022.3.0)\n",
            "Requirement already satisfied: toolz>=0.7.3 in /usr/local/lib/python3.7/dist-packages (from dask[dataframe]>=2.9.0->tsfresh) (0.11.2)\n",
            "Requirement already satisfied: pyyaml in /usr/local/lib/python3.7/dist-packages (from distributed>=2.11.0->tsfresh) (3.13)\n",
            "Requirement already satisfied: tblib>=1.6.0 in /usr/local/lib/python3.7/dist-packages (from distributed>=2.11.0->tsfresh) (1.7.0)\n",
            "Requirement already satisfied: zict>=0.1.3 in /usr/local/lib/python3.7/dist-packages (from distributed>=2.11.0->tsfresh) (2.1.0)\n",
            "Requirement already satisfied: psutil>=5.0 in /usr/local/lib/python3.7/dist-packages (from distributed>=2.11.0->tsfresh) (5.4.8)\n",
            "Requirement already satisfied: click>=6.6 in /usr/local/lib/python3.7/dist-packages (from distributed>=2.11.0->tsfresh) (7.1.2)\n",
            "Requirement already satisfied: tornado>=5 in /usr/local/lib/python3.7/dist-packages (from distributed>=2.11.0->tsfresh) (5.1.1)\n",
            "Requirement already satisfied: msgpack>=0.6.0 in /usr/local/lib/python3.7/dist-packages (from distributed>=2.11.0->tsfresh) (1.0.3)\n",
            "Requirement already satisfied: sortedcontainers!=2.0.0,!=2.0.1 in /usr/local/lib/python3.7/dist-packages (from distributed>=2.11.0->tsfresh) (2.4.0)\n",
            "Requirement already satisfied: setuptools in /usr/local/lib/python3.7/dist-packages (from distributed>=2.11.0->tsfresh) (57.4.0)\n",
            "Requirement already satisfied: protobuf==3.11.2 in /usr/local/lib/python3.7/dist-packages (from matrixprofile<2.0.0,>=1.1.10->tsfresh) (3.11.2)\n",
            "Requirement already satisfied: matplotlib>=3.0.3 in /usr/local/lib/python3.7/dist-packages (from matrixprofile<2.0.0,>=1.1.10->tsfresh) (3.2.2)\n",
            "Requirement already satisfied: cycler>=0.10 in /usr/local/lib/python3.7/dist-packages (from matplotlib>=3.0.3->matrixprofile<2.0.0,>=1.1.10->tsfresh) (0.11.0)\n",
            "Requirement already satisfied: pyparsing!=2.0.4,!=2.1.2,!=2.1.6,>=2.0.1 in /usr/local/lib/python3.7/dist-packages (from matplotlib>=3.0.3->matrixprofile<2.0.0,>=1.1.10->tsfresh) (3.0.8)\n",
            "Requirement already satisfied: python-dateutil>=2.1 in /usr/local/lib/python3.7/dist-packages (from matplotlib>=3.0.3->matrixprofile<2.0.0,>=1.1.10->tsfresh) (2.8.2)\n",
            "Requirement already satisfied: kiwisolver>=1.0.1 in /usr/local/lib/python3.7/dist-packages (from matplotlib>=3.0.3->matrixprofile<2.0.0,>=1.1.10->tsfresh) (1.4.2)\n",
            "Requirement already satisfied: typing-extensions in /usr/local/lib/python3.7/dist-packages (from kiwisolver>=1.0.1->matplotlib>=3.0.3->matrixprofile<2.0.0,>=1.1.10->tsfresh) (4.2.0)\n",
            "Requirement already satisfied: pytz>=2017.3 in /usr/local/lib/python3.7/dist-packages (from pandas>=0.25.0->tsfresh) (2022.1)\n",
            "Requirement already satisfied: locket in /usr/local/lib/python3.7/dist-packages (from partd>=0.3.10->dask[dataframe]>=2.9.0->tsfresh) (1.0.0)\n",
            "Requirement already satisfied: certifi>=2017.4.17 in /usr/local/lib/python3.7/dist-packages (from requests[socks]->gdown) (2021.10.8)\n",
            "Requirement already satisfied: idna<3,>=2.5 in /usr/local/lib/python3.7/dist-packages (from requests[socks]->gdown) (2.10)\n",
            "Requirement already satisfied: urllib3!=1.25.0,!=1.25.1,<1.26,>=1.21.1 in /usr/local/lib/python3.7/dist-packages (from requests[socks]->gdown) (1.24.3)\n",
            "Requirement already satisfied: chardet<4,>=3.0.2 in /usr/local/lib/python3.7/dist-packages (from requests[socks]->gdown) (3.0.4)\n",
            "Requirement already satisfied: threadpoolctl>=2.0.0 in /usr/local/lib/python3.7/dist-packages (from scikit-learn>=0.22.0->tsfresh) (3.1.0)\n",
            "Requirement already satisfied: joblib>=0.11 in /usr/local/lib/python3.7/dist-packages (from scikit-learn>=0.22.0->tsfresh) (1.1.0)\n",
            "Requirement already satisfied: packaging>=21.3 in /usr/local/lib/python3.7/dist-packages (from statsmodels>=0.13->tsfresh) (21.3)\n",
            "Requirement already satisfied: numba>=0.54 in /usr/local/lib/python3.7/dist-packages (from stumpy>=1.7.2->tsfresh) (0.55.1)\n",
            "Requirement already satisfied: llvmlite<0.39,>=0.38.0rc1 in /usr/local/lib/python3.7/dist-packages (from numba>=0.54->stumpy>=1.7.2->tsfresh) (0.38.0)\n",
            "Requirement already satisfied: heapdict in /usr/local/lib/python3.7/dist-packages (from zict>=0.1.3->distributed>=2.11.0->tsfresh) (1.0.1)\n",
            "Requirement already satisfied: PySocks!=1.5.7,>=1.5.6 in /usr/local/lib/python3.7/dist-packages (from requests[socks]->gdown) (1.7.1)\n",
            "mkdir: cannot create directory ‘data’: File exists\n",
            "Downloading...\n",
            "From: https://drive.google.com/uc?id=1DkOvf0LaRgCVfLEtHXr5ztaHhGN4-tDu\n",
            "To: /content/data/features_products.zip\n",
            "100% 240M/240M [00:01<00:00, 201MB/s]\n",
            "Archive:  data/features_products.zip\n",
            "  inflating: data/features_products/sample_submission.csv.zip  \n",
            "  inflating: data/features_products/test_ver2.csv.zip  \n",
            "  inflating: data/features_products/train_ver2.csv.zip  \n",
            "Archive:  ./data/features_products/train_ver2.csv.zip\n",
            "  inflating: ./data/features_products/train_ver2.csv  \n",
            "Archive:  ./data/features_products/sample_submission.csv.zip\n",
            "  inflating: ./data/features_products/sample_submission.csv  \n",
            "Archive:  ./data/features_products/test_ver2.csv.zip\n",
            "  inflating: ./data/features_products/test_ver2.csv  \n"
          ]
        }
      ]
    },
    {
      "cell_type": "code",
      "source": [
        "# Import libraries and visualizations\n",
        "import pandas as pd\n",
        "import numpy as np\n",
        "import seaborn as sns\n",
        "import tsfresh\n",
        "color = sns.color_palette()\n",
        "import matplotlib.pyplot as plt\n",
        "%pylab inline\n",
        "pylab.rcParams['figure.figsize'] = (20, 12)\n",
        "import warnings\n",
        "warnings.filterwarnings(\"ignore\")\n"
      ],
      "metadata": {
        "id": "1cLNa0QURhdh",
        "colab": {
          "base_uri": "https://localhost:8080/"
        },
        "outputId": "4b5d6400-bae4-448e-e499-328e8f9156c7"
      },
      "execution_count": null,
      "outputs": [
        {
          "output_type": "stream",
          "name": "stdout",
          "text": [
            "Populating the interactive namespace from numpy and matplotlib\n"
          ]
        }
      ]
    },
    {
      "cell_type": "code",
      "source": [
        "# Sample the dataset (We only want to experiment with the data).\n",
        "limit_rows   = 7000000\n",
        "df           = pd.read_csv(\"data/features_products/train_ver2.csv\",dtype={\"sexo\":str,\n",
        "                                                    \"ind_nuevo\":str,\n",
        "                                                    \"ult_fec_cli_1t\":str,\n",
        "                                                    \"indext\":str},\n",
        "                                                     nrows=limit_rows)\n"
      ],
      "metadata": {
        "id": "efp2douURjDT"
      },
      "execution_count": null,
      "outputs": []
    },
    {
      "cell_type": "code",
      "source": [
        "# The original schema was in Spanish. We will rename the columns for readability.\n",
        "df.columns = ['Status_Dt', 'Cust_ID', 'Emp_Status', 'Cust_Ctry', 'Cust_Sex', 'Age', 'Join_Dt',\n",
        "                'Is_New_Cust', 'Cust_Since', 'Relship_Status','Lst_Dt_Primary_Cust', 'Cust_Type_Mth_Beg', \n",
        "                'Cust_Relship_Type_Mth_Beg', 'Residence_Ctry', 'Is_Foreigner', 'Is_Spouse_Emp', 'Join_Channel', 'Deceased_Flg', \n",
        "                'Address_Type', 'Cust_Province_Cd', 'Cust_Province_Name', 'Cust_Active_Status', 'Gross_HHLD_Income',\n",
        "                'Cust_Segment', 'Savings_Acct', 'Guarantees', 'Cur_Acct', 'Derivative_Acct', 'Payroll_Acct',\n",
        "                'Junior_Acct', 'Mas_Particular_Acct', 'Particular_Acct', 'Particular_Plus_Acct', 'Short_Term_Deposits',\n",
        "                'Med_Term_Deposits', 'Long_Term_Deposits', 'e-Acct', 'Funds', 'Mortgage', 'Pension1', 'Loans',\n",
        "                'Taxes', 'Credit_Card', 'Securities', 'Home_Acct', 'Payroll', 'Pension2', 'Direct_Debit']\n",
        "\n",
        "# Sample the dataset (We only want to experiment with the data).     \n",
        "unique_ids   = pd.Series(df[\"Cust_ID\"].unique())\n",
        "limit_people = int(1.2e4)\n",
        "unique_id    = unique_ids.sample(n=limit_people)\n",
        "df           = df[df.Cust_ID.isin(unique_id)]"
      ],
      "metadata": {
        "id": "BwX5CgMxTF6R"
      },
      "execution_count": null,
      "outputs": []
    },
    {
      "cell_type": "code",
      "source": [
        "# Cast relevant data types\n",
        "date_attribs = ['Status_Dt', 'Join_Dt', 'Lst_Dt_Primary_Cust']\n",
        "for attrib in date_attribs:\n",
        "    df[attrib] = pd.to_datetime(df[attrib],format=\"%Y-%m-%d\")\n",
        "numeric_attribs = ['Age', 'Is_New_Cust', 'Cust_Since', 'Relship_Status', 'Address_Type', 'Cust_Active_Status']\n",
        "for attrib in numeric_attribs:\n",
        "    df[attrib] = pd.to_numeric(df[attrib], downcast='integer',errors='coerce')"
      ],
      "metadata": {
        "id": "6filJwreXZLP"
      },
      "execution_count": null,
      "outputs": []
    },
    {
      "cell_type": "markdown",
      "source": [
        "# Exploratory Data Analysis 👷\n",
        "\n",
        "### The task in this phase is to analyze the data.\n",
        "#### Think of at least one EDA plot that helps understand the underlying statistics. Explain your choice.\n",
        "*Remember - The goal is to predict which items customers will add in the following month.*\n",
        "\n",
        "> You are not obligated to submit all plots and analyses you perform.\n",
        "<br>Try to understand the data as good as possible.\n"
      ],
      "metadata": {
        "id": "k4w-J2h-ZeMV"
      }
    },
    {
      "cell_type": "code",
      "source": [
        "df['Status_Dt'].value_counts().plot(kind='bar',title='Number of customers in each status taken')\n",
        "# look like status are taken every month at the 28'th."
      ],
      "metadata": {
        "colab": {
          "base_uri": "https://localhost:8080/",
          "height": 828
        },
        "id": "bwiaCNOU8MXE",
        "outputId": "fcea1dce-e1d0-4515-eeb3-0b3054838ee9"
      },
      "execution_count": null,
      "outputs": [
        {
          "output_type": "execute_result",
          "data": {
            "text/plain": [
              "<matplotlib.axes._subplots.AxesSubplot at 0x7f3c66f04e90>"
            ]
          },
          "metadata": {},
          "execution_count": 25
        },
        {
          "output_type": "display_data",
          "data": {
            "text/plain": [
              "<Figure size 1440x864 with 1 Axes>"
            ],
            "image/png": "[encoded data removed]"
          },
          "metadata": {
            "needs_background": "light"
          }
        }
      ]
    },
    {
      "cell_type": "code",
      "source": [
        "df.columns[:24] # customer columns"
      ],
      "metadata": {
        "colab": {
          "base_uri": "https://localhost:8080/"
        },
        "id": "UJGflagIxspE",
        "outputId": "bc39bfe5-e4de-43b6-9916-377bd166244a"
      },
      "execution_count": null,
      "outputs": [
        {
          "output_type": "execute_result",
          "data": {
            "text/plain": [
              "Index(['Status_Dt', 'Cust_ID', 'Emp_Status', 'Cust_Ctry', 'Cust_Sex', 'Age',\n",
              "       'Join_Dt', 'Is_New_Cust', 'Cust_Since', 'Relship_Status',\n",
              "       'Lst_Dt_Primary_Cust', 'Cust_Type_Mth_Beg', 'Cust_Relship_Type_Mth_Beg',\n",
              "       'Residence_Ctry', 'Is_Foreigner', 'Is_Spouse_Emp', 'Join_Channel',\n",
              "       'Deceased_Flg', 'Address_Type', 'Cust_Province_Cd',\n",
              "       'Cust_Province_Name', 'Cust_Active_Status', 'Gross_HHLD_Income',\n",
              "       'Cust_Segment'],\n",
              "      dtype='object')"
            ]
          },
          "metadata": {},
          "execution_count": 26
        }
      ]
    },
    {
      "cell_type": "code",
      "source": [
        "# adding 'Prod' prefix\n",
        "df.rename(columns=dict(zip(df.columns[-24:],list(map(lambda x:f\"Prod_{x}\",df.columns[-24:])))),inplace=True)\n",
        "df.columns[-24:] # product columns"
      ],
      "metadata": {
        "colab": {
          "base_uri": "https://localhost:8080/"
        },
        "id": "-hRByZ6WyBOq",
        "outputId": "2585f69f-a22a-4d40-b70a-82c60cbff81a"
      },
      "execution_count": null,
      "outputs": [
        {
          "output_type": "execute_result",
          "data": {
            "text/plain": [
              "Index(['Prod_Savings_Acct', 'Prod_Guarantees', 'Prod_Cur_Acct',\n",
              "       'Prod_Derivative_Acct', 'Prod_Payroll_Acct', 'Prod_Junior_Acct',\n",
              "       'Prod_Mas_Particular_Acct', 'Prod_Particular_Acct',\n",
              "       'Prod_Particular_Plus_Acct', 'Prod_Short_Term_Deposits',\n",
              "       'Prod_Med_Term_Deposits', 'Prod_Long_Term_Deposits', 'Prod_e-Acct',\n",
              "       'Prod_Funds', 'Prod_Mortgage', 'Prod_Pension1', 'Prod_Loans',\n",
              "       'Prod_Taxes', 'Prod_Credit_Card', 'Prod_Securities', 'Prod_Home_Acct',\n",
              "       'Prod_Payroll', 'Prod_Pension2', 'Prod_Direct_Debit'],\n",
              "      dtype='object')"
            ]
          },
          "metadata": {},
          "execution_count": 27
        }
      ]
    },
    {
      "cell_type": "code",
      "source": [
        "###### Your Code Here ######\n",
        "(df.isna().sum() / df.isna().count()).sort_values(ascending=False)"
      ],
      "metadata": {
        "id": "anBf5FbfPdou",
        "colab": {
          "base_uri": "https://localhost:8080/"
        },
        "outputId": "c58a4106-7797-4623-cae3-f98a62af961d"
      },
      "execution_count": null,
      "outputs": [
        {
          "output_type": "execute_result",
          "data": {
            "text/plain": [
              "Is_Spouse_Emp                0.999881\n",
              "Lst_Dt_Primary_Cust          0.998695\n",
              "Gross_HHLD_Income            0.173156\n",
              "Cust_Segment                 0.016842\n",
              "Join_Channel                 0.016594\n",
              "Cust_Type_Mth_Beg            0.014114\n",
              "Cust_Relship_Type_Mth_Beg    0.014114\n",
              "Cust_Province_Name           0.007451\n",
              "Cust_Province_Cd             0.007451\n",
              "Deceased_Flg                 0.003213\n",
              "Residence_Ctry               0.003213\n",
              "Cust_Active_Status           0.003213\n",
              "Address_Type                 0.003213\n",
              "Is_Foreigner                 0.003213\n",
              "Relship_Status               0.003213\n",
              "Cust_Since                   0.003213\n",
              "Is_New_Cust                  0.003213\n",
              "Join_Dt                      0.003213\n",
              "Age                          0.003213\n",
              "Cust_Sex                     0.003213\n",
              "Cust_Ctry                    0.003213\n",
              "Emp_Status                   0.003213\n",
              "Prod_Pension2                0.001736\n",
              "Prod_Payroll                 0.001736\n",
              "Prod_Taxes                   0.000000\n",
              "Prod_Funds                   0.000000\n",
              "Prod_Mortgage                0.000000\n",
              "Prod_Pension1                0.000000\n",
              "Prod_Loans                   0.000000\n",
              "Status_Dt                    0.000000\n",
              "Prod_Credit_Card             0.000000\n",
              "Prod_Securities              0.000000\n",
              "Prod_Home_Acct               0.000000\n",
              "Prod_Long_Term_Deposits      0.000000\n",
              "Prod_e-Acct                  0.000000\n",
              "Prod_Savings_Acct            0.000000\n",
              "Prod_Med_Term_Deposits       0.000000\n",
              "Prod_Short_Term_Deposits     0.000000\n",
              "Prod_Particular_Plus_Acct    0.000000\n",
              "Prod_Particular_Acct         0.000000\n",
              "Prod_Mas_Particular_Acct     0.000000\n",
              "Prod_Junior_Acct             0.000000\n",
              "Prod_Payroll_Acct            0.000000\n",
              "Prod_Derivative_Acct         0.000000\n",
              "Prod_Cur_Acct                0.000000\n",
              "Prod_Guarantees              0.000000\n",
              "Cust_ID                      0.000000\n",
              "Prod_Direct_Debit            0.000000\n",
              "dtype: float64"
            ]
          },
          "metadata": {},
          "execution_count": 28
        }
      ]
    },
    {
      "cell_type": "code",
      "source": [
        "df.shape"
      ],
      "metadata": {
        "colab": {
          "base_uri": "https://localhost:8080/"
        },
        "id": "KYCunK381G1N",
        "outputId": "a00cc91f-4f09-48aa-e4d6-65a1d3423968"
      },
      "execution_count": null,
      "outputs": [
        {
          "output_type": "execute_result",
          "data": {
            "text/plain": [
              "(92743, 48)"
            ]
          },
          "metadata": {},
          "execution_count": 29
        }
      ]
    },
    {
      "cell_type": "code",
      "source": [
        "df.nunique()\n",
        "# look like: \n",
        "#.    - a 'snapshot' of the system was taken 10 times (Status_Dt=10) -> lets check the patern of customer appears in all, since there is only 93096 records, some are missing)  \n",
        "#.    - all product tags a booleans\n",
        "#.    - Age is a float\n",
        "#.    - Categorial Features: Emp_Status,Cust_Segment\n",
        "#.    - Boolean Features: Cust_Sex,Is_New_Cust,\n",
        "#.    - Is_New_Cust - > what considet as 'new' when this feature turns from True to False\n",
        "#.    - Is_Spouse_Emp -> why there is only one value, probrbly, we should fillna(False)\n",
        "#.    - Deceased_Flg -> when true, all products should be 'False'\n",
        "#.    - Features to check their distribution: Gross_HHLD_Income,\n",
        "#.    - when Cust_Relship_Type_Mth_Beg!=Relship_Status should be a strong feature :| (check why unique(Cust_Relship_Type_Mth_Beg)==4 and (unqiue(Relship_Status)==2))\n",
        "#.    - \n"
      ],
      "metadata": {
        "colab": {
          "base_uri": "https://localhost:8080/"
        },
        "id": "kXYLKERHyXZv",
        "outputId": "13f8fb95-baab-4d27-bcd3-d01cf03fa0ab"
      },
      "execution_count": null,
      "outputs": [
        {
          "output_type": "execute_result",
          "data": {
            "text/plain": [
              "Status_Dt                       10\n",
              "Cust_ID                      12000\n",
              "Emp_Status                       4\n",
              "Cust_Ctry                       26\n",
              "Cust_Sex                         2\n",
              "Age                            107\n",
              "Join_Dt                       3958\n",
              "Is_New_Cust                      2\n",
              "Cust_Since                     249\n",
              "Relship_Status                   2\n",
              "Lst_Dt_Primary_Cust             40\n",
              "Cust_Type_Mth_Beg               10\n",
              "Cust_Relship_Type_Mth_Beg        4\n",
              "Residence_Ctry                   2\n",
              "Is_Foreigner                     2\n",
              "Is_Spouse_Emp                    1\n",
              "Join_Channel                   106\n",
              "Deceased_Flg                     2\n",
              "Address_Type                     1\n",
              "Cust_Province_Cd                52\n",
              "Cust_Province_Name              52\n",
              "Cust_Active_Status               2\n",
              "Gross_HHLD_Income             9427\n",
              "Cust_Segment                     3\n",
              "Prod_Savings_Acct                1\n",
              "Prod_Guarantees                  1\n",
              "Prod_Cur_Acct                    2\n",
              "Prod_Derivative_Acct             2\n",
              "Prod_Payroll_Acct                2\n",
              "Prod_Junior_Acct                 2\n",
              "Prod_Mas_Particular_Acct         2\n",
              "Prod_Particular_Acct             2\n",
              "Prod_Particular_Plus_Acct        2\n",
              "Prod_Short_Term_Deposits         2\n",
              "Prod_Med_Term_Deposits           2\n",
              "Prod_Long_Term_Deposits          2\n",
              "Prod_e-Acct                      2\n",
              "Prod_Funds                       2\n",
              "Prod_Mortgage                    2\n",
              "Prod_Pension1                    2\n",
              "Prod_Loans                       2\n",
              "Prod_Taxes                       2\n",
              "Prod_Credit_Card                 2\n",
              "Prod_Securities                  2\n",
              "Prod_Home_Acct                   2\n",
              "Prod_Payroll                     2\n",
              "Prod_Pension2                    2\n",
              "Prod_Direct_Debit                2\n",
              "dtype: int64"
            ]
          },
          "metadata": {},
          "execution_count": 30
        }
      ]
    },
    {
      "cell_type": "code",
      "source": [
        "# fix labels\n",
        "labels = ['Prod_Payroll','Prod_Pension2']\n",
        "df[labels].fillna(1,inplace=True) # we prefer false positive\n",
        "\n",
        "# convert all labels to binary\n",
        "for col in df.filter(like=\"Prod\").columns:\n",
        "  df[col] = pd.to_numeric(df[col], downcast='integer',errors='coerce')"
      ],
      "metadata": {
        "id": "2sy3r3rRrRbP"
      },
      "execution_count": null,
      "outputs": []
    },
    {
      "cell_type": "code",
      "source": [
        "df['Emp_Status'].unique()\n",
        "# no idea what each one mean. let create new catregoriy "
      ],
      "metadata": {
        "colab": {
          "base_uri": "https://localhost:8080/"
        },
        "id": "J871U9m89z1j",
        "outputId": "87b0550b-45af-48c0-b85e-82f8bc1abd97"
      },
      "execution_count": null,
      "outputs": [
        {
          "output_type": "execute_result",
          "data": {
            "text/plain": [
              "array(['N', nan, 'A', 'F', 'B'], dtype=object)"
            ]
          },
          "metadata": {},
          "execution_count": 32
        }
      ]
    },
    {
      "cell_type": "code",
      "source": [
        "df['Emp_Status'] = df['Emp_Status'].fillna(\"UNKNOWN\")\n",
        "df['Emp_Status'].unique()"
      ],
      "metadata": {
        "colab": {
          "base_uri": "https://localhost:8080/"
        },
        "id": "ZmPMCCmx-adx",
        "outputId": "e3fe9b97-ab94-4910-d531-7bfa80dfb503"
      },
      "execution_count": null,
      "outputs": [
        {
          "output_type": "execute_result",
          "data": {
            "text/plain": [
              "array(['N', 'UNKNOWN', 'A', 'F', 'B'], dtype=object)"
            ]
          },
          "metadata": {},
          "execution_count": 33
        }
      ]
    },
    {
      "cell_type": "code",
      "source": [
        "df['Cust_Segment'].unique()\n",
        "# no idea what each one means"
      ],
      "metadata": {
        "colab": {
          "base_uri": "https://localhost:8080/"
        },
        "id": "HCbMHQY2-qA3",
        "outputId": "2081f997-dbea-46e0-c734-e1dea3e2819d"
      },
      "execution_count": null,
      "outputs": [
        {
          "output_type": "execute_result",
          "data": {
            "text/plain": [
              "array(['03 - UNIVERSITARIO', '02 - PARTICULARES', nan, '01 - TOP'],\n",
              "      dtype=object)"
            ]
          },
          "metadata": {},
          "execution_count": 34
        }
      ]
    },
    {
      "cell_type": "code",
      "source": [
        "df['Cust_Segment'] = df['Cust_Segment'].fillna(\"UNCLASSIFIED\")\n",
        "df['Cust_Segment'].unique()"
      ],
      "metadata": {
        "colab": {
          "base_uri": "https://localhost:8080/"
        },
        "id": "8qqNEweA_TiQ",
        "outputId": "5d108e26-692d-477a-a875-4a036681e2bd"
      },
      "execution_count": null,
      "outputs": [
        {
          "output_type": "execute_result",
          "data": {
            "text/plain": [
              "array(['03 - UNIVERSITARIO', '02 - PARTICULARES', 'UNCLASSIFIED',\n",
              "       '01 - TOP'], dtype=object)"
            ]
          },
          "metadata": {},
          "execution_count": 35
        }
      ]
    },
    {
      "cell_type": "code",
      "source": [
        "# convert to boolean\n",
        "df['Is_Spouse_Emp'] = df['Is_Spouse_Emp'].map({np.nan:1,\"N\":0})\n",
        "df['Prod_Direct_Debit']"
      ],
      "metadata": {
        "colab": {
          "base_uri": "https://localhost:8080/"
        },
        "id": "Y01cuAXy3pbl",
        "outputId": "9a0827d7-0ec9-4b92-9384-bbe678c0c4af"
      },
      "execution_count": null,
      "outputs": [
        {
          "output_type": "execute_result",
          "data": {
            "text/plain": [
              "20         0\n",
              "60         0\n",
              "110        0\n",
              "159        0\n",
              "215        1\n",
              "          ..\n",
              "6999209    0\n",
              "6999485    0\n",
              "6999767    0\n",
              "6999777    0\n",
              "6999968    0\n",
              "Name: Prod_Direct_Debit, Length: 92743, dtype: int8"
            ]
          },
          "metadata": {},
          "execution_count": 36
        }
      ]
    },
    {
      "cell_type": "code",
      "source": [
        "# since we would like to predict next month and some has no next month, we will drop them.\n",
        "reports_for_cust = df.groupby('Cust_ID').Status_Dt.count()\n",
        "reports_for_cust.value_counts()"
      ],
      "metadata": {
        "colab": {
          "base_uri": "https://localhost:8080/"
        },
        "id": "l2-zkjCU7zE7",
        "outputId": "dfff3156-b63a-4288-d3f7-eacab4b9dc94"
      },
      "execution_count": null,
      "outputs": [
        {
          "output_type": "execute_result",
          "data": {
            "text/plain": [
              "10    6097\n",
              "9     2070\n",
              "4     1862\n",
              "3      952\n",
              "1      430\n",
              "2      304\n",
              "5       93\n",
              "6       71\n",
              "8       63\n",
              "7       58\n",
              "Name: Status_Dt, dtype: int64"
            ]
          },
          "metadata": {},
          "execution_count": 37
        }
      ]
    },
    {
      "cell_type": "code",
      "source": [
        "no_next_month_to_drop = reports_for_cust[reports_for_cust == 1].index\n",
        "df = df[~df.Cust_ID.isin(no_next_month_to_drop)]\n",
        "df.head()"
      ],
      "metadata": {
        "colab": {
          "base_uri": "https://localhost:8080/",
          "height": 386
        },
        "id": "VwdbUmrH9CZ4",
        "outputId": "7d36b0a7-3bca-4cc3-ec3b-2545ecf4b679"
      },
      "execution_count": null,
      "outputs": [
        {
          "output_type": "execute_result",
          "data": {
            "text/plain": [
              "     Status_Dt  Cust_ID Emp_Status Cust_Ctry Cust_Sex   Age    Join_Dt  \\\n",
              "20  2015-01-28  1050582          N        ES        V  28.0 2012-08-10   \n",
              "60  2015-01-28  1050634          N        ES        H  55.0 2012-08-10   \n",
              "110 2015-01-28  1050501          N        ES        V  63.0 2012-08-10   \n",
              "159 2015-01-28  1050885          N        ES        H  24.0 2012-08-10   \n",
              "215 2015-01-28  1050911          N        ES        H  29.0 2012-08-10   \n",
              "\n",
              "     Is_New_Cust  Cust_Since  Relship_Status  ... Prod_Mortgage Prod_Pension1  \\\n",
              "20           0.0        35.0             1.0  ...             0             0   \n",
              "60           0.0        35.0             1.0  ...             0             0   \n",
              "110          0.0        35.0             1.0  ...             0             0   \n",
              "159          0.0        35.0             1.0  ...             0             0   \n",
              "215          0.0        35.0             1.0  ...             0             0   \n",
              "\n",
              "    Prod_Loans Prod_Taxes Prod_Credit_Card  Prod_Securities Prod_Home_Acct  \\\n",
              "20           0          0                0                0              0   \n",
              "60           0          0                0                0              0   \n",
              "110          0          0                0                0              0   \n",
              "159          0          0                0                0              0   \n",
              "215          0          0                1                0              0   \n",
              "\n",
              "    Prod_Payroll  Prod_Pension2  Prod_Direct_Debit  \n",
              "20           0.0            0.0                  0  \n",
              "60           0.0            0.0                  0  \n",
              "110          0.0            0.0                  0  \n",
              "159          0.0            0.0                  0  \n",
              "215          0.0            0.0                  1  \n",
              "\n",
              "[5 rows x 48 columns]"
            ],
            "text/html": [
              "\n",
              "  <div id=\"df-9afa1e1a-fb70-40f2-b987-c4b49416c615\">\n",
              "    <div class=\"colab-df-container\">\n",
              "      <div>\n",
              "<style scoped>\n",
              "    .dataframe tbody tr th:only-of-type {\n",
              "        vertical-align: middle;\n",
              "    }\n",
              "\n",
              "    .dataframe tbody tr th {\n",
              "        vertical-align: top;\n",
              "    }\n",
              "\n",
              "    .dataframe thead th {\n",
              "        text-align: right;\n",
              "    }\n",
              "</style>\n",
              "<table border=\"1\" class=\"dataframe\">\n",
              "  <thead>\n",
              "    <tr style=\"text-align: right;\">\n",
              "      <th></th>\n",
              "      <th>Status_Dt</th>\n",
              "      <th>Cust_ID</th>\n",
              "      <th>Emp_Status</th>\n",
              "      <th>Cust_Ctry</th>\n",
              "      <th>Cust_Sex</th>\n",
              "      <th>Age</th>\n",
              "      <th>Join_Dt</th>\n",
              "      <th>Is_New_Cust</th>\n",
              "      <th>Cust_Since</th>\n",
              "      <th>Relship_Status</th>\n",
              "      <th>...</th>\n",
              "      <th>Prod_Mortgage</th>\n",
              "      <th>Prod_Pension1</th>\n",
              "      <th>Prod_Loans</th>\n",
              "      <th>Prod_Taxes</th>\n",
              "      <th>Prod_Credit_Card</th>\n",
              "      <th>Prod_Securities</th>\n",
              "      <th>Prod_Home_Acct</th>\n",
              "      <th>Prod_Payroll</th>\n",
              "      <th>Prod_Pension2</th>\n",
              "      <th>Prod_Direct_Debit</th>\n",
              "    </tr>\n",
              "  </thead>\n",
              "  <tbody>\n",
              "    <tr>\n",
              "      <th>20</th>\n",
              "      <td>2015-01-28</td>\n",
              "      <td>1050582</td>\n",
              "      <td>N</td>\n",
              "      <td>ES</td>\n",
              "      <td>V</td>\n",
              "      <td>28.0</td>\n",
              "      <td>2012-08-10</td>\n",
              "      <td>0.0</td>\n",
              "      <td>35.0</td>\n",
              "      <td>1.0</td>\n",
              "      <td>...</td>\n",
              "      <td>0</td>\n",
              "      <td>0</td>\n",
              "      <td>0</td>\n",
              "      <td>0</td>\n",
              "      <td>0</td>\n",
              "      <td>0</td>\n",
              "      <td>0</td>\n",
              "      <td>0.0</td>\n",
              "      <td>0.0</td>\n",
              "      <td>0</td>\n",
              "    </tr>\n",
              "    <tr>\n",
              "      <th>60</th>\n",
              "      <td>2015-01-28</td>\n",
              "      <td>1050634</td>\n",
              "      <td>N</td>\n",
              "      <td>ES</td>\n",
              "      <td>H</td>\n",
              "      <td>55.0</td>\n",
              "      <td>2012-08-10</td>\n",
              "      <td>0.0</td>\n",
              "      <td>35.0</td>\n",
              "      <td>1.0</td>\n",
              "      <td>...</td>\n",
              "      <td>0</td>\n",
              "      <td>0</td>\n",
              "      <td>0</td>\n",
              "      <td>0</td>\n",
              "      <td>0</td>\n",
              "      <td>0</td>\n",
              "      <td>0</td>\n",
              "      <td>0.0</td>\n",
              "      <td>0.0</td>\n",
              "      <td>0</td>\n",
              "    </tr>\n",
              "    <tr>\n",
              "      <th>110</th>\n",
              "      <td>2015-01-28</td>\n",
              "      <td>1050501</td>\n",
              "      <td>N</td>\n",
              "      <td>ES</td>\n",
              "      <td>V</td>\n",
              "      <td>63.0</td>\n",
              "      <td>2012-08-10</td>\n",
              "      <td>0.0</td>\n",
              "      <td>35.0</td>\n",
              "      <td>1.0</td>\n",
              "      <td>...</td>\n",
              "      <td>0</td>\n",
              "      <td>0</td>\n",
              "      <td>0</td>\n",
              "      <td>0</td>\n",
              "      <td>0</td>\n",
              "      <td>0</td>\n",
              "      <td>0</td>\n",
              "      <td>0.0</td>\n",
              "      <td>0.0</td>\n",
              "      <td>0</td>\n",
              "    </tr>\n",
              "    <tr>\n",
              "      <th>159</th>\n",
              "      <td>2015-01-28</td>\n",
              "      <td>1050885</td>\n",
              "      <td>N</td>\n",
              "      <td>ES</td>\n",
              "      <td>H</td>\n",
              "      <td>24.0</td>\n",
              "      <td>2012-08-10</td>\n",
              "      <td>0.0</td>\n",
              "      <td>35.0</td>\n",
              "      <td>1.0</td>\n",
              "      <td>...</td>\n",
              "      <td>0</td>\n",
              "      <td>0</td>\n",
              "      <td>0</td>\n",
              "      <td>0</td>\n",
              "      <td>0</td>\n",
              "      <td>0</td>\n",
              "      <td>0</td>\n",
              "      <td>0.0</td>\n",
              "      <td>0.0</td>\n",
              "      <td>0</td>\n",
              "    </tr>\n",
              "    <tr>\n",
              "      <th>215</th>\n",
              "      <td>2015-01-28</td>\n",
              "      <td>1050911</td>\n",
              "      <td>N</td>\n",
              "      <td>ES</td>\n",
              "      <td>H</td>\n",
              "      <td>29.0</td>\n",
              "      <td>2012-08-10</td>\n",
              "      <td>0.0</td>\n",
              "      <td>35.0</td>\n",
              "      <td>1.0</td>\n",
              "      <td>...</td>\n",
              "      <td>0</td>\n",
              "      <td>0</td>\n",
              "      <td>0</td>\n",
              "      <td>0</td>\n",
              "      <td>1</td>\n",
              "      <td>0</td>\n",
              "      <td>0</td>\n",
              "      <td>0.0</td>\n",
              "      <td>0.0</td>\n",
              "      <td>1</td>\n",
              "    </tr>\n",
              "  </tbody>\n",
              "</table>\n",
              "<p>5 rows × 48 columns</p>\n",
              "</div>\n",
              "      <button class=\"colab-df-convert\" onclick=\"convertToInteractive('df-9afa1e1a-fb70-40f2-b987-c4b49416c615')\"\n",
              "              title=\"Convert this dataframe to an interactive table.\"\n",
              "              style=\"display:none;\">\n",
              "        \n",
              "  <svg xmlns=\"http://www.w3.org/2000/svg\" height=\"24px\"viewBox=\"0 0 24 24\"\n",
              "       width=\"24px\">\n",
              "    <path d=\"M0 0h24v24H0V0z\" fill=\"none\"/>\n",
              "    <path d=\"M18.56 5.44l.94 2.06.94-2.06 2.06-.94-2.06-.94-.94-2.06-.94 2.06-2.06.94zm-11 1L8.5 8.5l.94-2.06 2.06-.94-2.06-.94L8.5 2.5l-.94 2.06-2.06.94zm10 10l.94 2.06.94-2.06 2.06-.94-2.06-.94-.94-2.06-.94 2.06-2.06.94z\"/><path d=\"M17.41 7.96l-1.37-1.37c-.4-.4-.92-.59-1.43-.59-.52 0-1.04.2-1.43.59L10.3 9.45l-7.72 7.72c-.78.78-.78 2.05 0 2.83L4 21.41c.39.39.9.59 1.41.59.51 0 1.02-.2 1.41-.59l7.78-7.78 2.81-2.81c.8-.78.8-2.07 0-2.86zM5.41 20L4 18.59l7.72-7.72 1.47 1.35L5.41 20z\"/>\n",
              "  </svg>\n",
              "      </button>\n",
              "      \n",
              "  <style>\n",
              "    .colab-df-container {\n",
              "      display:flex;\n",
              "      flex-wrap:wrap;\n",
              "      gap: 12px;\n",
              "    }\n",
              "\n",
              "    .colab-df-convert {\n",
              "      background-color: #E8F0FE;\n",
              "      border: none;\n",
              "      border-radius: 50%;\n",
              "      cursor: pointer;\n",
              "      display: none;\n",
              "      fill: #1967D2;\n",
              "      height: 32px;\n",
              "      padding: 0 0 0 0;\n",
              "      width: 32px;\n",
              "    }\n",
              "\n",
              "    .colab-df-convert:hover {\n",
              "      background-color: #E2EBFA;\n",
              "      box-shadow: 0px 1px 2px rgba(60, 64, 67, 0.3), 0px 1px 3px 1px rgba(60, 64, 67, 0.15);\n",
              "      fill: #174EA6;\n",
              "    }\n",
              "\n",
              "    [theme=dark] .colab-df-convert {\n",
              "      background-color: #3B4455;\n",
              "      fill: #D2E3FC;\n",
              "    }\n",
              "\n",
              "    [theme=dark] .colab-df-convert:hover {\n",
              "      background-color: #434B5C;\n",
              "      box-shadow: 0px 1px 3px 1px rgba(0, 0, 0, 0.15);\n",
              "      filter: drop-shadow(0px 1px 2px rgba(0, 0, 0, 0.3));\n",
              "      fill: #FFFFFF;\n",
              "    }\n",
              "  </style>\n",
              "\n",
              "      <script>\n",
              "        const buttonEl =\n",
              "          document.querySelector('#df-9afa1e1a-fb70-40f2-b987-c4b49416c615 button.colab-df-convert');\n",
              "        buttonEl.style.display =\n",
              "          google.colab.kernel.accessAllowed ? 'block' : 'none';\n",
              "\n",
              "        async function convertToInteractive(key) {\n",
              "          const element = document.querySelector('#df-9afa1e1a-fb70-40f2-b987-c4b49416c615');\n",
              "          const dataTable =\n",
              "            await google.colab.kernel.invokeFunction('convertToInteractive',\n",
              "                                                     [key], {});\n",
              "          if (!dataTable) return;\n",
              "\n",
              "          const docLinkHtml = 'Like what you see? Visit the ' +\n",
              "            '<a target=\"_blank\" href=https://colab.research.google.com/notebooks/data_table.ipynb>data table notebook</a>'\n",
              "            + ' to learn more about interactive tables.';\n",
              "          element.innerHTML = '';\n",
              "          dataTable['output_type'] = 'display_data';\n",
              "          await google.colab.output.renderOutput(dataTable, element);\n",
              "          const docLink = document.createElement('div');\n",
              "          docLink.innerHTML = docLinkHtml;\n",
              "          element.appendChild(docLink);\n",
              "        }\n",
              "      </script>\n",
              "    </div>\n",
              "  </div>\n",
              "  "
            ]
          },
          "metadata": {},
          "execution_count": 38
        }
      ]
    },
    {
      "cell_type": "code",
      "source": [
        "df.groupby('Cust_ID')['Gross_HHLD_Income'].apply(lambda x:x.isna().sum()).value_counts()\n",
        "# ok, there missing value is across couple types, lets check the if the customer show in all status_dt before"
      ],
      "metadata": {
        "colab": {
          "base_uri": "https://localhost:8080/"
        },
        "id": "ZriewDjE55eO",
        "outputId": "63aa36a3-a71b-4de7-b299-a67eec7fe42e"
      },
      "execution_count": null,
      "outputs": [
        {
          "output_type": "execute_result",
          "data": {
            "text/plain": [
              "0     9499\n",
              "10    1006\n",
              "9      326\n",
              "4      313\n",
              "2      174\n",
              "3      167\n",
              "6       27\n",
              "5       25\n",
              "8       20\n",
              "7       13\n",
              "Name: Gross_HHLD_Income, dtype: int64"
            ]
          },
          "metadata": {},
          "execution_count": 39
        }
      ]
    },
    {
      "cell_type": "code",
      "source": [
        "df['Gross_HHLD_Income'].plot(kind='density',title=\"Distribution of Gross Income\")\n",
        "# Assuming 'Income' is the change in the balance between to dates, otherwize income can't be negative. "
      ],
      "metadata": {
        "colab": {
          "base_uri": "https://localhost:8080/",
          "height": 746
        },
        "id": "pJlahJgs4q-s",
        "outputId": "74920be7-770c-4beb-8d0e-e8078eb23e47"
      },
      "execution_count": null,
      "outputs": [
        {
          "output_type": "execute_result",
          "data": {
            "text/plain": [
              "<matplotlib.axes._subplots.AxesSubplot at 0x7f3c6be45a10>"
            ]
          },
          "metadata": {},
          "execution_count": 40
        },
        {
          "output_type": "display_data",
          "data": {
            "text/plain": [
              "<Figure size 1440x864 with 1 Axes>"
            ],
            "image/png": "[encoded data removed]"
          },
          "metadata": {
            "needs_background": "light"
          }
        }
      ]
    },
    {
      "cell_type": "code",
      "source": [
        "# let fill the values we can conclude from last vector, assume noting changed.\n",
        "df = df.groupby('Cust_ID').apply(lambda x:x.sort_values('Status_Dt').fillna(method='backfill'))"
      ],
      "metadata": {
        "id": "dU-_7eTXrzi0"
      },
      "execution_count": null,
      "outputs": []
    },
    {
      "cell_type": "markdown",
      "source": [
        "# Let's get down, let's get down to business! 🕺💃 👷\n",
        "\n",
        "After understanding our data better, we would like to train a model to predict the following products a client is about to add or remove.\n",
        "\n",
        "The development will be segmented into *three* steps.\n",
        "\n",
        "1.   Create a label vector for each month:\n",
        "<br>The label vector for each `<client, date>` is the *difference* between the products the client holds in `<date>` and the products of the same client in the consecutive month.<br><br>\n",
        "\n",
        "2.   Generate temporal features to extend the static features each client has. <br> We will use a **rolling-window** mechanism to couple `k` consecutive months of the same user to generate time-series based features.\n",
        "<br>We will use the `tsfresh` library as our automatic feature-generation tool. <br>`tsfresh` has a tailor-maid function for that ([roll_time_series](https://tsfresh.readthedocs.io/en/latest/api/tsfresh.utilities.html#tsfresh.utilities.dataframe_functions.roll_time_series)).\n",
        "\n",
        "3. Use any relevant classification algorithm to predict the shift between consecutive months.\n",
        "\n"
      ],
      "metadata": {
        "id": "qFkbOnL7u1QG"
      }
    },
    {
      "cell_type": "markdown",
      "source": [
        "## Create labels"
      ],
      "metadata": {
        "id": "53kD4yRDfrJW"
      }
    },
    {
      "cell_type": "code",
      "source": [
        "# Create a label feature vector per <Cust_ID,Status_Dt>\n",
        "# The label vector will be of length 27 and will represent the change in products between consecutive months\n",
        "# Create a `next_data` dataframe with the following columns:\n",
        "# ['Cust_ID','Status_Dt', 'Status_Dt_shifted', ... 24 difference columns ...]\n",
        "# The name of each column will be the original column name with the added suffix '_change`\n",
        "# e.g `Funds_change`.\n",
        "\n",
        "###### Your Code Here ######\n",
        "\n",
        "# shift the date, keep the original date as 'shifted'\n",
        "originl_df = df.filter(regex='(Prod|Cust_ID|Status_Dt)')\n",
        "shifted_df = originl_df.rename(columns={\"Status_Dt\":'Status_Dt_shifted'})\n",
        "shifted_df['Status_Dt'] = shifted_df['Status_Dt_shifted'] - pd.DateOffset(months=1)\n",
        "\n",
        "# merge the data\n",
        "next_data = pd.merge(originl_df,shifted_df,on=['Cust_ID','Status_Dt'],how='inner',suffixes=('', '_change'))\n",
        "\n",
        "# meaure the change\n",
        "drop = list()\n",
        "for col in next_data.filter(like=\"_change\").columns:\n",
        "    print(col)\n",
        "    before_name = col.split(\"_change\")[0]\n",
        "    goal_name = before_name.split('Prod_')[1]\n",
        "\n",
        "    next_data[f'{goal_name}_change'] = next_data[before_name] - next_data[col]\n",
        "\n",
        "    drop.extend([before_name,col])\n",
        "\n",
        "next_data = next_data.drop(columns=drop)\n"
      ],
      "metadata": {
        "id": "OWIoTDFycXA0",
        "colab": {
          "base_uri": "https://localhost:8080/"
        },
        "outputId": "b765b02f-22f2-4701-c7fb-db7405bf35e1"
      },
      "execution_count": null,
      "outputs": [
        {
          "output_type": "stream",
          "name": "stdout",
          "text": [
            "Prod_Savings_Acct_change\n",
            "Prod_Guarantees_change\n",
            "Prod_Cur_Acct_change\n",
            "Prod_Derivative_Acct_change\n",
            "Prod_Payroll_Acct_change\n",
            "Prod_Junior_Acct_change\n",
            "Prod_Mas_Particular_Acct_change\n",
            "Prod_Particular_Acct_change\n",
            "Prod_Particular_Plus_Acct_change\n",
            "Prod_Short_Term_Deposits_change\n",
            "Prod_Med_Term_Deposits_change\n",
            "Prod_Long_Term_Deposits_change\n",
            "Prod_e-Acct_change\n",
            "Prod_Funds_change\n",
            "Prod_Mortgage_change\n",
            "Prod_Pension1_change\n",
            "Prod_Loans_change\n",
            "Prod_Taxes_change\n",
            "Prod_Credit_Card_change\n",
            "Prod_Securities_change\n",
            "Prod_Home_Acct_change\n",
            "Prod_Payroll_change\n",
            "Prod_Pension2_change\n",
            "Prod_Direct_Debit_change\n"
          ]
        }
      ]
    },
    {
      "cell_type": "code",
      "source": [
        "# Because we only care about behavioural changes, we filter rows with no product change in the consecutive month.\n",
        "trainable_objects = next_data.iloc[:,3:].any(axis=1).to_numpy().nonzero()[0]\n",
        "next_data_relevant = next_data.iloc[trainable_objects]\n",
        "\n",
        "# >> you are filtering the data by the label, not sure i'm getting this."
      ],
      "metadata": {
        "id": "LkgZ-GgHvQ9W"
      },
      "execution_count": null,
      "outputs": []
    },
    {
      "cell_type": "markdown",
      "source": [
        "## Create features"
      ],
      "metadata": {
        "id": "kELTniDhvMbf"
      }
    },
    {
      "cell_type": "code",
      "source": [
        "client_level_features = df.loc[:,~df.columns.str.startswith(\"Prod_\")]"
      ],
      "metadata": {
        "id": "l4FkkHJCdlbD"
      },
      "execution_count": null,
      "outputs": []
    },
    {
      "cell_type": "code",
      "source": [
        "# We will train our model only on users with at least four months of seniority.\n",
        "# Filter out all clients with less than four months of seniority.\n",
        "# You can assume no client left the bank and then returned.\n",
        "###### Your Code Here ######\n",
        "\n",
        "# >> it is not clear you are talking here about the client level features.\n",
        "customers_with_more_then_three_vectors = (client_level_features['Cust_ID'].value_counts() > 3).index.values\n",
        "client_level_features = client_level_features.loc[client_level_features.Cust_ID.isin(customers_with_more_then_three_vectors),:]"
      ],
      "metadata": {
        "id": "9pT4gM7fe8i_"
      },
      "execution_count": null,
      "outputs": []
    },
    {
      "cell_type": "code",
      "source": [
        "# Using the roll_time_series function, create a sliding window of **exactly** four months for each <client,date>.\n",
        "# <client, date> without sufficient history will be filtered out.\n",
        "# The rolled dataframe will be called `rolled`\n",
        "\n",
        "from tsfresh.utilities.dataframe_functions import roll_time_series\n",
        "###### Your Code Here ######\n",
        "\n",
        "rolled = roll_time_series(client_level_features, column_id=\"Cust_ID\", column_sort=\"Status_Dt\",min_timeshift=3,max_timeshift=4) \n"
      ],
      "metadata": {
        "id": "05lvRuaR23A3",
        "colab": {
          "base_uri": "https://localhost:8080/"
        },
        "outputId": "24787e98-7c93-4c53-e984-5272dc3504ea"
      },
      "execution_count": null,
      "outputs": [
        {
          "output_type": "stream",
          "name": "stderr",
          "text": [
            "Rolling: 100%|██████████| 10/10 [02:46<00:00, 16.69s/it]\n"
          ]
        }
      ]
    },
    {
      "cell_type": "code",
      "source": [
        "# We will take only the numeric attribiutes of the rolled dataframe and filter nans\n",
        "rolled = pd.concat((rolled[['id','Status_Dt']],rolled.select_dtypes([np.number])),axis=1).dropna().drop('Cust_ID',axis=1)"
      ],
      "metadata": {
        "id": "iKWr8GGT8ln6"
      },
      "execution_count": null,
      "outputs": []
    },
    {
      "cell_type": "code",
      "source": [
        "# Create the 'id' column for the next_data_relevant dataframe and join it with the `rolled` dataframe.\n",
        "\n",
        "###### Your Code Here ######\n",
        "next_data_relevant['id'] = list(zip(next_data_relevant.Cust_ID, next_data_relevant.Status_Dt)) # \n",
        "relevant_rolled = pd.merge(rolled,next_data_relevant,on='id',how='inner')"
      ],
      "metadata": {
        "id": "eZWEgeMCj2e3"
      },
      "execution_count": null,
      "outputs": []
    },
    {
      "cell_type": "code",
      "source": [
        "# We will use the `tsfresh` library to autogenerate time-series features.\n",
        "# The code is provided for you, but you are welcome to read more about `extract_features`.\n",
        "\n",
        "# We filter the labels from `relevant_rolled` and drop redundant columns\n",
        "relevant_rolled = relevant_rolled.loc[:,~relevant_rolled.columns.str.endswith('change')].drop(['Cust_ID','Status_Dt_y','Status_Dt_shifted'],axis=1)\n",
        "\n",
        "from tsfresh import extract_features\n",
        "from tsfresh.feature_extraction import MinimalFCParameters\n",
        "settings = MinimalFCParameters()\n",
        "features = extract_features(relevant_rolled, column_id=\"id\", column_sort=\"Status_Dt_x\", default_fc_parameters=settings)\n",
        "\n",
        "\n",
        "features = features.reset_index().rename(columns={'level_0':'Cust_ID','level_1':'Status_Dt'})"
      ],
      "metadata": {
        "id": "mGo6givw9ITa",
        "colab": {
          "base_uri": "https://localhost:8080/"
        },
        "outputId": "2ac787d7-38d5-45e7-fdd3-00f30b176149"
      },
      "execution_count": null,
      "outputs": [
        {
          "output_type": "stream",
          "name": "stderr",
          "text": [
            "Feature Extraction: 100%|██████████| 25110/25110 [00:15<00:00, 1626.17it/s]\n"
          ]
        }
      ]
    },
    {
      "cell_type": "code",
      "source": [
        "# 1. Merge the time-series features with the original features from the basic dataframe\n",
        "# 2. Merge the features with the labels (the products difference vector)\n",
        "# Call the final df `features_labels`\n",
        "# Sanity: The columns axis should be of length 394\n",
        "\n",
        "###### Your Code Here ######\n",
        "client_level_features = df.loc[:,~df.columns.str.startswith(\"Prod_\")]\n",
        "\n",
        "only_features = pd.merge(client_level_features,features,on=['Status_Dt','Cust_ID'])\n",
        "features_labels = pd.merge(only_features,next_data_relevant,on=['Status_Dt','Cust_ID'])"
      ],
      "metadata": {
        "id": "WjrCCB22uXDD"
      },
      "execution_count": null,
      "outputs": []
    },
    {
      "cell_type": "markdown",
      "source": [
        "## Modeling"
      ],
      "metadata": {
        "id": "4LloY2tsoulP"
      }
    },
    {
      "cell_type": "code",
      "source": [
        "# Beware! a random train,test split will not work here, as we will leak data to future occurances.\n",
        "# We will take the last month as our testing data, and the rest as train.\n",
        "\n",
        "last_month_in_db = np.sort([d[1] for d in features_labels.id.values])[-1]\n",
        "features_labels['last_month'] = [d[1] for d in features_labels.id.values]\n",
        "train, test = features_labels[features_labels['last_month'] != last_month_in_db], features_labels[features_labels['last_month'] == last_month_in_db]"
      ],
      "metadata": {
        "id": "AJQQ1yY3TEEi"
      },
      "execution_count": null,
      "outputs": []
    },
    {
      "cell_type": "markdown",
      "source": [
        "## Training"
      ],
      "metadata": {
        "id": "7E0xqNcnpUqp"
      }
    },
    {
      "cell_type": "code",
      "source": [
        "# We provide below a helper to preprocess the training features before entering to the model.\n",
        "def prepare_for_model(df):\n",
        "  features = df.loc[:,~df.columns.str.endswith('_change')].drop(['Cust_ID','Status_Dt'],axis=1)\n",
        "  labels = df.loc[:,df.columns.str.endswith('_change')]\n",
        "  features.loc[:,features.dtypes=='object'] = features.loc[:,features.dtypes=='object'].astype('category')\n",
        "\n",
        "  features['Join_year'] = pd.DatetimeIndex(features['Join_Dt']).year\n",
        "  features['Join_month'] = pd.DatetimeIndex(features['Join_Dt']).month\n",
        "  features['Join_day'] = pd.DatetimeIndex(features['Join_Dt']).day\n",
        "  features = features.drop(['Join_Dt','Status_Dt_shifted','id','Lst_Dt_Primary_Cust','last_month'],axis=1)\n",
        "  features['Cust_Type_Mth_Beg'] = features['Cust_Type_Mth_Beg'].astype(float).astype(int)\n",
        "\n",
        "  from sklearn.preprocessing import LabelEncoder\n",
        "  for column in features.columns[features.dtypes == 'category']:\n",
        "    features[column] = LabelEncoder().fit_transform(features[column])\n",
        "  return features, labels\n",
        "\n",
        "train_features, train_labels = prepare_for_model(train)\n",
        "test_features, test_labels = prepare_for_model(test)"
      ],
      "metadata": {
        "id": "x6UN1nQFzFm0"
      },
      "execution_count": null,
      "outputs": []
    },
    {
      "cell_type": "code",
      "source": [
        "! pip install xgboost"
      ],
      "metadata": {
        "id": "ZasUFGdFoIiJ"
      },
      "execution_count": null,
      "outputs": []
    },
    {
      "cell_type": "markdown",
      "source": [
        "### It's the final countdown 🍒👷"
      ],
      "metadata": {
        "id": "AhjeWgH8p3H3"
      }
    },
    {
      "cell_type": "code",
      "source": [
        "# There are several months where a client changed more than one item.\n",
        "# Thus we are looking at a multioutput classification problem.\n",
        "# Use any algorithm/ platform/ library you desire and train the above `train_features, train_labels`.\n",
        "# Test on test_labels\n",
        "from sklearn.metrics import confusion_matrix\n",
        "from sklearn.metrics import classification_report\n",
        "from sklearn.multioutput import MultiOutputClassifier\n",
        "import xgboost\n",
        "###### Your Code Here ######\n",
        "# fitting \n",
        "multioutput = MultiOutputClassifier(xgboost.XGBClassifier()).fit(train_features, train_labels)  \n",
        "yhat = multioutput.predict(test_features)"
      ],
      "metadata": {
        "id": "RZ6qwuEM4kiO"
      },
      "execution_count": null,
      "outputs": []
    },
    {
      "cell_type": "code",
      "source": [
        "# Evaluation code\n",
        "for idx,col in enumerate(test_labels.columns):\n",
        "  cm = confusion_matrix(test_labels[col].values,yhat[:,idx])\n",
        "  cr = classification_report(test_labels[col].values,yhat[:,idx])\n",
        "  print(f\"Label: {col} \\nconf\\n {cm}, \\nreport\\n {cr}\\n\")\n"
      ],
      "metadata": {
        "id": "qtSTj_iMN2-7"
      },
      "execution_count": null,
      "outputs": []
    },
    {
      "cell_type": "markdown",
      "source": [
        "# This is it!\n",
        "We hope you enjoyed this notebook.\n",
        "Please share your thoughts and impressions, and send us a link to your notebook.\n",
        "Talk to you soon:)"
      ],
      "metadata": {
        "id": "OEgTf8RrNk39"
      }
    },
    {
      "cell_type": "code",
      "source": [
        ""
      ],
      "metadata": {
        "id": "7I35FthS0vys"
      },
      "execution_count": null,
      "outputs": []
    }
  ]
}