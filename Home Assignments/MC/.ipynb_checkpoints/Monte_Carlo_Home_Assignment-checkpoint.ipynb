{
 "cells": [
  {
   "cell_type": "code",
   "execution_count": 1,
   "id": "0360d06e",
   "metadata": {},
   "outputs": [],
   "source": [
    "import pandas as pd\n",
    "from matplotlib import pyplot as plt\n",
    "import datetime"
   ]
  },
  {
   "cell_type": "code",
   "execution_count": 2,
   "id": "60ee332f",
   "metadata": {},
   "outputs": [
    {
     "data": {
      "text/html": [
       "<div>\n",
       "<style scoped>\n",
       "    .dataframe tbody tr th:only-of-type {\n",
       "        vertical-align: middle;\n",
       "    }\n",
       "\n",
       "    .dataframe tbody tr th {\n",
       "        vertical-align: top;\n",
       "    }\n",
       "\n",
       "    .dataframe thead th {\n",
       "        text-align: right;\n",
       "    }\n",
       "</style>\n",
       "<table border=\"1\" class=\"dataframe\">\n",
       "  <thead>\n",
       "    <tr style=\"text-align: right;\">\n",
       "      <th></th>\n",
       "      <th>FULL_TABLE_ID</th>\n",
       "      <th>UPDATE_TIME</th>\n",
       "      <th>FIRST_MEASURED</th>\n",
       "    </tr>\n",
       "  </thead>\n",
       "  <tbody>\n",
       "    <tr>\n",
       "      <th>0</th>\n",
       "      <td>raw:data_collector_events.bi_metadata</td>\n",
       "      <td>2022-03-29 05:48:00.000</td>\n",
       "      <td>2022-03-29 06:16:37.000</td>\n",
       "    </tr>\n",
       "    <tr>\n",
       "      <th>1</th>\n",
       "      <td>raw:monolith_export.notificationsettings</td>\n",
       "      <td>2022-02-22 12:54:00.000</td>\n",
       "      <td>2022-02-22 13:06:16.000</td>\n",
       "    </tr>\n",
       "    <tr>\n",
       "      <th>2</th>\n",
       "      <td>raw:data_collector_events.retry_query_logs</td>\n",
       "      <td>2022-03-29 19:54:00.000</td>\n",
       "      <td>2022-03-29 20:28:25.000</td>\n",
       "    </tr>\n",
       "    <tr>\n",
       "      <th>3</th>\n",
       "      <td>raw:normalized_events.metadata_event_resolution</td>\n",
       "      <td>2022-03-29 19:54:00.000</td>\n",
       "      <td>2022-03-29 20:28:25.000</td>\n",
       "    </tr>\n",
       "    <tr>\n",
       "      <th>4</th>\n",
       "      <td>analytics:prod_lineage.lineage_custom_blocked_...</td>\n",
       "      <td>2022-03-14 00:58:00.000</td>\n",
       "      <td>2022-03-14 01:33:00.000</td>\n",
       "    </tr>\n",
       "  </tbody>\n",
       "</table>\n",
       "</div>"
      ],
      "text/plain": [
       "                                       FULL_TABLE_ID              UPDATE_TIME  \\\n",
       "0              raw:data_collector_events.bi_metadata  2022-03-29 05:48:00.000   \n",
       "1           raw:monolith_export.notificationsettings  2022-02-22 12:54:00.000   \n",
       "2         raw:data_collector_events.retry_query_logs  2022-03-29 19:54:00.000   \n",
       "3    raw:normalized_events.metadata_event_resolution  2022-03-29 19:54:00.000   \n",
       "4  analytics:prod_lineage.lineage_custom_blocked_...  2022-03-14 00:58:00.000   \n",
       "\n",
       "            FIRST_MEASURED  \n",
       "0  2022-03-29 06:16:37.000  \n",
       "1  2022-02-22 13:06:16.000  \n",
       "2  2022-03-29 20:28:25.000  \n",
       "3  2022-03-29 20:28:25.000  \n",
       "4  2022-03-14 01:33:00.000  "
      ]
     },
     "execution_count": 2,
     "metadata": {},
     "output_type": "execute_result"
    }
   ],
   "source": [
    "raw = pd.read_csv(\"MC_freshness_data_new.csv\")\n",
    "raw.head()"
   ]
  },
  {
   "cell_type": "code",
   "execution_count": 3,
   "id": "2e1123db",
   "metadata": {},
   "outputs": [
    {
     "data": {
      "text/html": [
       "<div>\n",
       "<style scoped>\n",
       "    .dataframe tbody tr th:only-of-type {\n",
       "        vertical-align: middle;\n",
       "    }\n",
       "\n",
       "    .dataframe tbody tr th {\n",
       "        vertical-align: top;\n",
       "    }\n",
       "\n",
       "    .dataframe thead th {\n",
       "        text-align: right;\n",
       "    }\n",
       "</style>\n",
       "<table border=\"1\" class=\"dataframe\">\n",
       "  <thead>\n",
       "    <tr style=\"text-align: right;\">\n",
       "      <th></th>\n",
       "      <th>FULL_TABLE_ID</th>\n",
       "      <th>UPDATE_TIME</th>\n",
       "      <th>FIRST_MEASURED</th>\n",
       "    </tr>\n",
       "  </thead>\n",
       "  <tbody>\n",
       "    <tr>\n",
       "      <th>0</th>\n",
       "      <td>raw:data_collector_events.bi_metadata</td>\n",
       "      <td>2022-03-29 05:48:00</td>\n",
       "      <td>2022-03-29 06:16:37</td>\n",
       "    </tr>\n",
       "    <tr>\n",
       "      <th>1</th>\n",
       "      <td>raw:monolith_export.notificationsettings</td>\n",
       "      <td>2022-02-22 12:54:00</td>\n",
       "      <td>2022-02-22 13:06:16</td>\n",
       "    </tr>\n",
       "    <tr>\n",
       "      <th>2</th>\n",
       "      <td>raw:data_collector_events.retry_query_logs</td>\n",
       "      <td>2022-03-29 19:54:00</td>\n",
       "      <td>2022-03-29 20:28:25</td>\n",
       "    </tr>\n",
       "    <tr>\n",
       "      <th>3</th>\n",
       "      <td>raw:normalized_events.metadata_event_resolution</td>\n",
       "      <td>2022-03-29 19:54:00</td>\n",
       "      <td>2022-03-29 20:28:25</td>\n",
       "    </tr>\n",
       "    <tr>\n",
       "      <th>4</th>\n",
       "      <td>analytics:prod_lineage.lineage_custom_blocked_...</td>\n",
       "      <td>2022-03-14 00:58:00</td>\n",
       "      <td>2022-03-14 01:33:00</td>\n",
       "    </tr>\n",
       "  </tbody>\n",
       "</table>\n",
       "</div>"
      ],
      "text/plain": [
       "                                       FULL_TABLE_ID         UPDATE_TIME  \\\n",
       "0              raw:data_collector_events.bi_metadata 2022-03-29 05:48:00   \n",
       "1           raw:monolith_export.notificationsettings 2022-02-22 12:54:00   \n",
       "2         raw:data_collector_events.retry_query_logs 2022-03-29 19:54:00   \n",
       "3    raw:normalized_events.metadata_event_resolution 2022-03-29 19:54:00   \n",
       "4  analytics:prod_lineage.lineage_custom_blocked_... 2022-03-14 00:58:00   \n",
       "\n",
       "       FIRST_MEASURED  \n",
       "0 2022-03-29 06:16:37  \n",
       "1 2022-02-22 13:06:16  \n",
       "2 2022-03-29 20:28:25  \n",
       "3 2022-03-29 20:28:25  \n",
       "4 2022-03-14 01:33:00  "
      ]
     },
     "execution_count": 3,
     "metadata": {},
     "output_type": "execute_result"
    }
   ],
   "source": [
    "raw.UPDATE_TIME = pd.to_datetime(raw.UPDATE_TIME,format=\"%Y-%m-%d %H:%M:%S\")\n",
    "raw.FIRST_MEASURED = pd.to_datetime(raw.FIRST_MEASURED,format=\"%Y-%m-%d %H:%M:%S\")\n",
    "raw.head()"
   ]
  },
  {
   "cell_type": "code",
   "execution_count": 4,
   "id": "0cb66fb1",
   "metadata": {},
   "outputs": [
    {
     "data": {
      "text/plain": [
       "<AxesSubplot:ylabel='Frequency'>"
      ]
     },
     "execution_count": 4,
     "metadata": {},
     "output_type": "execute_result"
    },
    {
     "data": {
      "image/png": "[encoded data removed]",
      "text/plain": [
       "<Figure size 432x288 with 1 Axes>"
      ]
     },
     "metadata": {
      "needs_background": "light"
     },
     "output_type": "display_data"
    }
   ],
   "source": [
    "raw.groupby('FULL_TABLE_ID')['UPDATE_TIME'].count().plot(kind=\"hist\",bins=100)"
   ]
  },
  {
   "cell_type": "code",
   "execution_count": 5,
   "id": "6d51720e",
   "metadata": {},
   "outputs": [
    {
     "data": {
      "text/plain": [
       "0.006259953380980983"
      ]
     },
     "execution_count": 5,
     "metadata": {},
     "output_type": "execute_result"
    }
   ],
   "source": [
    "raw[raw.FIRST_MEASURED < raw.UPDATE_TIME].shape[0] / raw.shape[0]\n",
    "# ok, seems to be a bug, let's drop it"
   ]
  },
  {
   "cell_type": "code",
   "execution_count": 6,
   "id": "3a11aa3d",
   "metadata": {},
   "outputs": [
    {
     "data": {
      "text/html": [
       "<div>\n",
       "<style scoped>\n",
       "    .dataframe tbody tr th:only-of-type {\n",
       "        vertical-align: middle;\n",
       "    }\n",
       "\n",
       "    .dataframe tbody tr th {\n",
       "        vertical-align: top;\n",
       "    }\n",
       "\n",
       "    .dataframe thead th {\n",
       "        text-align: right;\n",
       "    }\n",
       "</style>\n",
       "<table border=\"1\" class=\"dataframe\">\n",
       "  <thead>\n",
       "    <tr style=\"text-align: right;\">\n",
       "      <th></th>\n",
       "      <th>FULL_TABLE_ID</th>\n",
       "      <th>UPDATE_TIME</th>\n",
       "      <th>FIRST_MEASURED</th>\n",
       "    </tr>\n",
       "  </thead>\n",
       "  <tbody>\n",
       "    <tr>\n",
       "      <th>0</th>\n",
       "      <td>raw:data_collector_events.bi_metadata</td>\n",
       "      <td>2022-03-29 05:48:00</td>\n",
       "      <td>2022-03-29 06:16:37</td>\n",
       "    </tr>\n",
       "    <tr>\n",
       "      <th>1</th>\n",
       "      <td>raw:monolith_export.notificationsettings</td>\n",
       "      <td>2022-02-22 12:54:00</td>\n",
       "      <td>2022-02-22 13:06:16</td>\n",
       "    </tr>\n",
       "    <tr>\n",
       "      <th>2</th>\n",
       "      <td>raw:data_collector_events.retry_query_logs</td>\n",
       "      <td>2022-03-29 19:54:00</td>\n",
       "      <td>2022-03-29 20:28:25</td>\n",
       "    </tr>\n",
       "    <tr>\n",
       "      <th>3</th>\n",
       "      <td>raw:normalized_events.metadata_event_resolution</td>\n",
       "      <td>2022-03-29 19:54:00</td>\n",
       "      <td>2022-03-29 20:28:25</td>\n",
       "    </tr>\n",
       "    <tr>\n",
       "      <th>4</th>\n",
       "      <td>analytics:prod_lineage.lineage_custom_blocked_...</td>\n",
       "      <td>2022-03-14 00:58:00</td>\n",
       "      <td>2022-03-14 01:33:00</td>\n",
       "    </tr>\n",
       "  </tbody>\n",
       "</table>\n",
       "</div>"
      ],
      "text/plain": [
       "                                       FULL_TABLE_ID         UPDATE_TIME  \\\n",
       "0              raw:data_collector_events.bi_metadata 2022-03-29 05:48:00   \n",
       "1           raw:monolith_export.notificationsettings 2022-02-22 12:54:00   \n",
       "2         raw:data_collector_events.retry_query_logs 2022-03-29 19:54:00   \n",
       "3    raw:normalized_events.metadata_event_resolution 2022-03-29 19:54:00   \n",
       "4  analytics:prod_lineage.lineage_custom_blocked_... 2022-03-14 00:58:00   \n",
       "\n",
       "       FIRST_MEASURED  \n",
       "0 2022-03-29 06:16:37  \n",
       "1 2022-02-22 13:06:16  \n",
       "2 2022-03-29 20:28:25  \n",
       "3 2022-03-29 20:28:25  \n",
       "4 2022-03-14 01:33:00  "
      ]
     },
     "execution_count": 6,
     "metadata": {},
     "output_type": "execute_result"
    }
   ],
   "source": [
    "raw = raw[raw.FIRST_MEASURED >= raw.UPDATE_TIME]\n",
    "raw.head()"
   ]
  },
  {
   "cell_type": "code",
   "execution_count": 7,
   "id": "a26c58f2",
   "metadata": {},
   "outputs": [
    {
     "data": {
      "text/plain": [
       "<AxesSubplot:ylabel='Frequency'>"
      ]
     },
     "execution_count": 7,
     "metadata": {},
     "output_type": "execute_result"
    },
    {
     "data": {
      "image/png": "[encoded data removed]",
      "text/plain": [
       "<Figure size 432x288 with 1 Axes>"
      ]
     },
     "metadata": {
      "needs_background": "light"
     },
     "output_type": "display_data"
    }
   ],
   "source": [
    "(raw.FIRST_MEASURED - raw.UPDATE_TIME).dt.total_seconds().plot(kind=\"hist\",bins=100)"
   ]
  },
  {
   "cell_type": "code",
   "execution_count": 8,
   "id": "441ea017",
   "metadata": {},
   "outputs": [
    {
     "data": {
      "text/plain": [
       "<AxesSubplot:title={'center':'tail of hours until sampled'}>"
      ]
     },
     "execution_count": 8,
     "metadata": {},
     "output_type": "execute_result"
    },
    {
     "data": {
      "image/png": "[encoded data removed]",
      "text/plain": [
       "<Figure size 432x288 with 1 Axes>"
      ]
     },
     "metadata": {
      "needs_background": "light"
     },
     "output_type": "display_data"
    }
   ],
   "source": [
    "# looking at the long tail\n",
    "raw['seconds_between_sampling'] = (raw.FIRST_MEASURED - raw.UPDATE_TIME).dt.total_seconds()\n",
    "(raw[(raw.seconds_between_sampling > 5000)]['seconds_between_sampling'] / (60*60)).plot(title=\"tail of hours until sampled\")"
   ]
  },
  {
   "cell_type": "code",
   "execution_count": 9,
   "id": "2f15bcff",
   "metadata": {},
   "outputs": [
    {
     "data": {
      "text/html": [
       "<div>\n",
       "<style scoped>\n",
       "    .dataframe tbody tr th:only-of-type {\n",
       "        vertical-align: middle;\n",
       "    }\n",
       "\n",
       "    .dataframe tbody tr th {\n",
       "        vertical-align: top;\n",
       "    }\n",
       "\n",
       "    .dataframe thead th {\n",
       "        text-align: right;\n",
       "    }\n",
       "</style>\n",
       "<table border=\"1\" class=\"dataframe\">\n",
       "  <thead>\n",
       "    <tr style=\"text-align: right;\">\n",
       "      <th></th>\n",
       "      <th>FULL_TABLE_ID</th>\n",
       "      <th>UPDATE_TIME</th>\n",
       "      <th>FIRST_MEASURED</th>\n",
       "      <th>seconds_between_sampling</th>\n",
       "    </tr>\n",
       "  </thead>\n",
       "  <tbody>\n",
       "    <tr>\n",
       "      <th>62195</th>\n",
       "      <td>ingest:spark.query_logs</td>\n",
       "      <td>2022-03-20 03:10:00</td>\n",
       "      <td>2022-03-20 12:59:17</td>\n",
       "      <td>35357.0</td>\n",
       "    </tr>\n",
       "  </tbody>\n",
       "</table>\n",
       "</div>"
      ],
      "text/plain": [
       "                 FULL_TABLE_ID         UPDATE_TIME      FIRST_MEASURED  \\\n",
       "62195  ingest:spark.query_logs 2022-03-20 03:10:00 2022-03-20 12:59:17   \n",
       "\n",
       "       seconds_between_sampling  \n",
       "62195                   35357.0  "
      ]
     },
     "execution_count": 9,
     "metadata": {},
     "output_type": "execute_result"
    }
   ],
   "source": [
    "raw[raw['seconds_between_sampling'] > 3*60*60]\n",
    "# don't know yet what to do with this anomaliy, what this indicate except long time any MC system checked this table? \n",
    "# possible issue with MC systems."
   ]
  },
  {
   "cell_type": "code",
   "execution_count": 10,
   "id": "c991fbdf",
   "metadata": {},
   "outputs": [
    {
     "data": {
      "text/html": [
       "<div>\n",
       "<style scoped>\n",
       "    .dataframe tbody tr th:only-of-type {\n",
       "        vertical-align: middle;\n",
       "    }\n",
       "\n",
       "    .dataframe tbody tr th {\n",
       "        vertical-align: top;\n",
       "    }\n",
       "\n",
       "    .dataframe thead th {\n",
       "        text-align: right;\n",
       "    }\n",
       "</style>\n",
       "<table border=\"1\" class=\"dataframe\">\n",
       "  <thead>\n",
       "    <tr style=\"text-align: right;\">\n",
       "      <th></th>\n",
       "      <th>min</th>\n",
       "      <th>max</th>\n",
       "    </tr>\n",
       "    <tr>\n",
       "      <th>FULL_TABLE_ID</th>\n",
       "      <th></th>\n",
       "      <th></th>\n",
       "    </tr>\n",
       "  </thead>\n",
       "  <tbody>\n",
       "    <tr>\n",
       "      <th>ANALYTICS:DBT_DDABUSH_INTERNAL_BI_STAGE.SALESFORCE_Weighted_Pipeline</th>\n",
       "      <td>2022-03-15 14:07:00</td>\n",
       "      <td>2022-03-29 16:24:01</td>\n",
       "    </tr>\n",
       "    <tr>\n",
       "      <th>ANALYTICS:DBT_DDABUSH_INTERNAL_BI_STAGE.SALESFORCE_Weighted_Pipeline_dates</th>\n",
       "      <td>2022-03-15 15:08:22</td>\n",
       "      <td>2022-03-29 16:24:01</td>\n",
       "    </tr>\n",
       "    <tr>\n",
       "      <th>analytics:dbt_aliu.kargo_bi</th>\n",
       "      <td>2022-03-23 23:17:14</td>\n",
       "      <td>2022-03-23 23:17:14</td>\n",
       "    </tr>\n",
       "    <tr>\n",
       "      <th>analytics:dbt_aliu.table_metadata</th>\n",
       "      <td>2022-02-23 17:34:09</td>\n",
       "      <td>2022-02-23 17:34:09</td>\n",
       "    </tr>\n",
       "    <tr>\n",
       "      <th>analytics:dbt_aliu_lineage.looker_nodes</th>\n",
       "      <td>2022-03-21 18:26:59</td>\n",
       "      <td>2022-03-21 22:31:12</td>\n",
       "    </tr>\n",
       "    <tr>\n",
       "      <th>...</th>\n",
       "      <td>...</td>\n",
       "      <td>...</td>\n",
       "    </tr>\n",
       "    <tr>\n",
       "      <th>raw:normalized_events.size</th>\n",
       "      <td>2022-02-04 16:18:18</td>\n",
       "      <td>2022-04-05 14:43:57</td>\n",
       "    </tr>\n",
       "    <tr>\n",
       "      <th>raw:normalized_events.spark_lineage</th>\n",
       "      <td>2022-02-04 16:18:18</td>\n",
       "      <td>2022-04-05 14:43:57</td>\n",
       "    </tr>\n",
       "    <tr>\n",
       "      <th>raw:spark.query_logs</th>\n",
       "      <td>2022-02-04 16:18:18</td>\n",
       "      <td>2022-04-05 14:43:57</td>\n",
       "    </tr>\n",
       "    <tr>\n",
       "      <th>raw:spark.warehouse_lineage_edges</th>\n",
       "      <td>2022-02-04 16:18:18</td>\n",
       "      <td>2022-04-05 14:43:57</td>\n",
       "    </tr>\n",
       "    <tr>\n",
       "      <th>raw:spark.warehouse_lineage_vertices</th>\n",
       "      <td>2022-02-04 16:18:18</td>\n",
       "      <td>2022-04-05 14:43:57</td>\n",
       "    </tr>\n",
       "  </tbody>\n",
       "</table>\n",
       "<p>1101 rows × 2 columns</p>\n",
       "</div>"
      ],
      "text/plain": [
       "                                                                   min  \\\n",
       "FULL_TABLE_ID                                                            \n",
       "ANALYTICS:DBT_DDABUSH_INTERNAL_BI_STAGE.SALESFO... 2022-03-15 14:07:00   \n",
       "ANALYTICS:DBT_DDABUSH_INTERNAL_BI_STAGE.SALESFO... 2022-03-15 15:08:22   \n",
       "analytics:dbt_aliu.kargo_bi                        2022-03-23 23:17:14   \n",
       "analytics:dbt_aliu.table_metadata                  2022-02-23 17:34:09   \n",
       "analytics:dbt_aliu_lineage.looker_nodes            2022-03-21 18:26:59   \n",
       "...                                                                ...   \n",
       "raw:normalized_events.size                         2022-02-04 16:18:18   \n",
       "raw:normalized_events.spark_lineage                2022-02-04 16:18:18   \n",
       "raw:spark.query_logs                               2022-02-04 16:18:18   \n",
       "raw:spark.warehouse_lineage_edges                  2022-02-04 16:18:18   \n",
       "raw:spark.warehouse_lineage_vertices               2022-02-04 16:18:18   \n",
       "\n",
       "                                                                   max  \n",
       "FULL_TABLE_ID                                                           \n",
       "ANALYTICS:DBT_DDABUSH_INTERNAL_BI_STAGE.SALESFO... 2022-03-29 16:24:01  \n",
       "ANALYTICS:DBT_DDABUSH_INTERNAL_BI_STAGE.SALESFO... 2022-03-29 16:24:01  \n",
       "analytics:dbt_aliu.kargo_bi                        2022-03-23 23:17:14  \n",
       "analytics:dbt_aliu.table_metadata                  2022-02-23 17:34:09  \n",
       "analytics:dbt_aliu_lineage.looker_nodes            2022-03-21 22:31:12  \n",
       "...                                                                ...  \n",
       "raw:normalized_events.size                         2022-04-05 14:43:57  \n",
       "raw:normalized_events.spark_lineage                2022-04-05 14:43:57  \n",
       "raw:spark.query_logs                               2022-04-05 14:43:57  \n",
       "raw:spark.warehouse_lineage_edges                  2022-04-05 14:43:57  \n",
       "raw:spark.warehouse_lineage_vertices               2022-04-05 14:43:57  \n",
       "\n",
       "[1101 rows x 2 columns]"
      ]
     },
     "execution_count": 10,
     "metadata": {},
     "output_type": "execute_result"
    }
   ],
   "source": [
    "raw.groupby(\"FULL_TABLE_ID\")['FIRST_MEASURED'].agg(['min','max'])\n",
    "# ok! it seeme that we are measueing only for about two months."
   ]
  },
  {
   "cell_type": "code",
   "execution_count": 11,
   "id": "95173926",
   "metadata": {},
   "outputs": [
    {
     "data": {
      "image/png": "[encoded data removed]",
      "text/plain": [
       "<Figure size 432x288 with 1 Axes>"
      ]
     },
     "metadata": {
      "needs_background": "light"
     },
     "output_type": "display_data"
    }
   ],
   "source": [
    "number_of_series = raw['FULL_TABLE_ID'].nunique()\n",
    "series_updates = raw.groupby(raw.UPDATE_TIME.dt.date)['FULL_TABLE_ID'].nunique()\n",
    "series_updates = series_updates.reindex(pd.date_range(series_updates.index.min(),series_updates.index.max(),freq='D'),fill_value=0)\n",
    "_=(series_updates/number_of_series).plot(title=\"Number of table updated each day\")"
   ]
  },
  {
   "cell_type": "code",
   "execution_count": 12,
   "id": "b30ea9ab",
   "metadata": {},
   "outputs": [
    {
     "data": {
      "image/png": "[encoded data removed]",
      "text/plain": [
       "<Figure size 432x288 with 1 Axes>"
      ]
     },
     "metadata": {
      "needs_background": "light"
     },
     "output_type": "display_data"
    }
   ],
   "source": [
    "global_updates = raw.UPDATE_TIME.dt.date.value_counts()\n",
    "global_updates = global_updates.reindex(pd.date_range(global_updates.index.min(),global_updates.index.max(),freq='D'),fill_value=0)\n",
    "_=global_updates.plot(title=\"Total updates made\")\n",
    "# assuming this is one customer, there are alot of updates at this spike at the end\n",
    "# also, at the start there is only about 1000 updates, possiblly due to system bootstap "
   ]
  },
  {
   "cell_type": "code",
   "execution_count": 13,
   "id": "0349ca3b",
   "metadata": {},
   "outputs": [
    {
     "data": {
      "image/png": "[encoded data removed]",
      "text/plain": [
       "<Figure size 432x288 with 1 Axes>"
      ]
     },
     "metadata": {
      "needs_background": "light"
     },
     "output_type": "display_data"
    }
   ],
   "source": [
    "# this can be discribed by the following plot (which fit my intuition)\n",
    "mean = global_updates.mean()\n",
    "std = global_updates.std()\n",
    "\n",
    "lower_bound = mean - 2*std\n",
    "upper_bound = mean + 2*std\n",
    "\n",
    "\n",
    "global_updates = global_updates.sort_index()\n",
    "fig, ax = plt.subplots()\n",
    "\n",
    "global_lower_update_anom = global_updates[(global_updates < lower_bound) ]  #anomaly\n",
    "global_upper_update_anom = global_updates[(global_updates > upper_bound)]\n",
    "\n",
    "ax.plot(global_updates.index, global_updates.values,color='blue')\n",
    "ax.scatter(global_lower_update_anom.index,global_lower_update_anom.values, color='red')\n",
    "ax.scatter(global_upper_update_anom.index,global_upper_update_anom.values, color='red')\n",
    "\n",
    "plt.show()\n",
    "\n",
    "# while those are not single update events that are anomolos, we can still use this information to notify the customer \n",
    "# or we can use is to as filter to find the exact anomaly."
   ]
  },
  {
   "cell_type": "code",
   "execution_count": 14,
   "id": "d9cd22f5",
   "metadata": {
    "scrolled": true
   },
   "outputs": [
    {
     "data": {
      "text/plain": [
       "2022-03-21    4438\n",
       "2022-03-23    5247\n",
       "2022-03-24    4431\n",
       "Name: UPDATE_TIME, dtype: int64"
      ]
     },
     "execution_count": 14,
     "metadata": {},
     "output_type": "execute_result"
    }
   ],
   "source": [
    "global_upper_update_anom\n",
    "# those are dates where there was to much updates"
   ]
  },
  {
   "cell_type": "code",
   "execution_count": 15,
   "id": "7f093658",
   "metadata": {},
   "outputs": [
    {
     "data": {
      "text/plain": [
       "2022-02-04    848\n",
       "Freq: D, Name: UPDATE_TIME, dtype: int64"
      ]
     },
     "execution_count": 15,
     "metadata": {},
     "output_type": "execute_result"
    }
   ],
   "source": [
    "global_lower_update_anom\n",
    "# those are dates where there was to little update"
   ]
  },
  {
   "cell_type": "code",
   "execution_count": 16,
   "id": "f9244de6",
   "metadata": {},
   "outputs": [],
   "source": [
    "def find_anomalies_by_standard_daily_updates(df,num_std=2,upper=True,lower=True):\n",
    "    if not df.empty:\n",
    "        df_count = df.UPDATE_TIME.dt.date.value_counts()\n",
    "        df_count = df_count.reindex(pd.date_range(df_count.index.min(),df_count.index.max(),freq='D'),fill_value=0)\n",
    "\n",
    "        mean = df_count.mean()\n",
    "        std = df_count.std()\n",
    "\n",
    "        lower_bound = mean - num_std*std\n",
    "        upper_bound = mean + num_std*std\n",
    "\n",
    "        return df_count[((df_count < lower_bound) & lower) | ((df_count > upper_bound) & upper)]        \n"
   ]
  },
  {
   "cell_type": "code",
   "execution_count": 19,
   "id": "b4133ebc",
   "metadata": {
    "scrolled": true
   },
   "outputs": [
    {
     "data": {
      "text/html": [
       "<div>\n",
       "<style scoped>\n",
       "    .dataframe tbody tr th:only-of-type {\n",
       "        vertical-align: middle;\n",
       "    }\n",
       "\n",
       "    .dataframe tbody tr th {\n",
       "        vertical-align: top;\n",
       "    }\n",
       "\n",
       "    .dataframe thead th {\n",
       "        text-align: right;\n",
       "    }\n",
       "</style>\n",
       "<table border=\"1\" class=\"dataframe\">\n",
       "  <thead>\n",
       "    <tr style=\"text-align: right;\">\n",
       "      <th></th>\n",
       "      <th>FULL_TABLE_ID</th>\n",
       "      <th>date</th>\n",
       "      <th>num_of_update</th>\n",
       "    </tr>\n",
       "  </thead>\n",
       "  <tbody>\n",
       "    <tr>\n",
       "      <th>0</th>\n",
       "      <td>ANALYTICS:DBT_DDABUSH_INTERNAL_BI_STAGE.SALESF...</td>\n",
       "      <td>2022-03-29</td>\n",
       "      <td>2</td>\n",
       "    </tr>\n",
       "    <tr>\n",
       "      <th>1</th>\n",
       "      <td>analytics:dbt_apeltinovich.active_collectors</td>\n",
       "      <td>2022-02-22</td>\n",
       "      <td>1</td>\n",
       "    </tr>\n",
       "    <tr>\n",
       "      <th>2</th>\n",
       "      <td>analytics:dbt_apeltinovich.active_collectors</td>\n",
       "      <td>2022-03-09</td>\n",
       "      <td>1</td>\n",
       "    </tr>\n",
       "    <tr>\n",
       "      <th>3</th>\n",
       "      <td>analytics:dbt_apeltinovich.active_collectors</td>\n",
       "      <td>2022-03-16</td>\n",
       "      <td>1</td>\n",
       "    </tr>\n",
       "    <tr>\n",
       "      <th>4</th>\n",
       "      <td>analytics:dbt_apeltinovich.active_collectors</td>\n",
       "      <td>2022-03-24</td>\n",
       "      <td>1</td>\n",
       "    </tr>\n",
       "  </tbody>\n",
       "</table>\n",
       "</div>"
      ],
      "text/plain": [
       "                                       FULL_TABLE_ID       date  num_of_update\n",
       "0  ANALYTICS:DBT_DDABUSH_INTERNAL_BI_STAGE.SALESF... 2022-03-29              2\n",
       "1       analytics:dbt_apeltinovich.active_collectors 2022-02-22              1\n",
       "2       analytics:dbt_apeltinovich.active_collectors 2022-03-09              1\n",
       "3       analytics:dbt_apeltinovich.active_collectors 2022-03-16              1\n",
       "4       analytics:dbt_apeltinovich.active_collectors 2022-03-24              1"
      ]
     },
     "execution_count": 19,
     "metadata": {},
     "output_type": "execute_result"
    }
   ],
   "source": [
    "upper_all_anom = raw.groupby('FULL_TABLE_ID').apply(find_anomalies_by_standard_daily_updates,lower=False)\n",
    "upper_all_anom = upper_all_anom.reset_index().rename(columns={\"level_1\":\"date\",\"UPDATE_TIME\":\"num_of_update\"})\n",
    "upper_all_anom.head()"
   ]
  },
  {
   "cell_type": "code",
   "execution_count": 21,
   "id": "052e597b",
   "metadata": {
    "scrolled": true
   },
   "outputs": [
    {
     "data": {
      "text/html": [
       "<div>\n",
       "<style scoped>\n",
       "    .dataframe tbody tr th:only-of-type {\n",
       "        vertical-align: middle;\n",
       "    }\n",
       "\n",
       "    .dataframe tbody tr th {\n",
       "        vertical-align: top;\n",
       "    }\n",
       "\n",
       "    .dataframe thead th {\n",
       "        text-align: right;\n",
       "    }\n",
       "</style>\n",
       "<table border=\"1\" class=\"dataframe\">\n",
       "  <thead>\n",
       "    <tr style=\"text-align: right;\">\n",
       "      <th></th>\n",
       "      <th>sum</th>\n",
       "    </tr>\n",
       "    <tr>\n",
       "      <th>date</th>\n",
       "      <th></th>\n",
       "    </tr>\n",
       "  </thead>\n",
       "  <tbody>\n",
       "    <tr>\n",
       "      <th>2022-03-21</th>\n",
       "      <td>1999</td>\n",
       "    </tr>\n",
       "    <tr>\n",
       "      <th>2022-03-23</th>\n",
       "      <td>2999</td>\n",
       "    </tr>\n",
       "    <tr>\n",
       "      <th>2022-03-24</th>\n",
       "      <td>1900</td>\n",
       "    </tr>\n",
       "  </tbody>\n",
       "</table>\n",
       "</div>"
      ],
      "text/plain": [
       "             sum\n",
       "date            \n",
       "2022-03-21  1999\n",
       "2022-03-23  2999\n",
       "2022-03-24  1900"
      ]
     },
     "execution_count": 21,
     "metadata": {},
     "output_type": "execute_result"
    }
   ],
   "source": [
    "upper_all_anom[upper_all_anom.date.isin(global_upper_update_anom.index)].groupby(\"date\")['num_of_update'].agg(['sum'])\n",
    "# this explain the peak in the join series"
   ]
  },
  {
   "cell_type": "code",
   "execution_count": 26,
   "id": "f6066801",
   "metadata": {},
   "outputs": [
    {
     "name": "stderr",
     "output_type": "stream",
     "text": [
      "/Users/serlich/Documents/Notebooks/env/lib/python3.8/site-packages/pandas/core/algorithms.py:521: FutureWarning: Comparison of Timestamp with datetime.date is deprecated in order to match the standard library behavior. In a future version these will be considered non-comparable. Use 'ts == pd.Timestamp(date)' or 'ts.date() == date' instead.\n",
      "  return f(comps, values)\n"
     ]
    },
    {
     "data": {
      "text/plain": [
       "0.6739469578783152"
      ]
     },
     "execution_count": 26,
     "metadata": {},
     "output_type": "execute_result"
    }
   ],
   "source": [
    "upper_all_anom[upper_all_anom.date.isin(global_upper_update_anom.index)]['FULL_TABLE_ID'].nunique()/raw[raw['UPDATE_TIME'].dt.date.isin(global_upper_update_anom.index)]['FULL_TABLE_ID'].nunique()\n",
    "# we see the increase across multiple series which are more then 67% of the series we have\n",
    "# do the anomalies in this day can be considered as false positive.\n"
   ]
  },
  {
   "cell_type": "code",
   "execution_count": 325,
   "id": "56e4e831",
   "metadata": {},
   "outputs": [
    {
     "data": {
      "text/html": [
       "<div>\n",
       "<style scoped>\n",
       "    .dataframe tbody tr th:only-of-type {\n",
       "        vertical-align: middle;\n",
       "    }\n",
       "\n",
       "    .dataframe tbody tr th {\n",
       "        vertical-align: top;\n",
       "    }\n",
       "\n",
       "    .dataframe thead th {\n",
       "        text-align: right;\n",
       "    }\n",
       "</style>\n",
       "<table border=\"1\" class=\"dataframe\">\n",
       "  <thead>\n",
       "    <tr style=\"text-align: right;\">\n",
       "      <th></th>\n",
       "      <th>index</th>\n",
       "      <th>FULL_TABLE_ID</th>\n",
       "      <th>date</th>\n",
       "      <th>UPDATE_TIME</th>\n",
       "    </tr>\n",
       "  </thead>\n",
       "  <tbody>\n",
       "    <tr>\n",
       "      <th>0</th>\n",
       "      <td>0</td>\n",
       "      <td>ANALYTICS:DBT_DDABUSH_INTERNAL_BI_STAGE.SALESF...</td>\n",
       "      <td>2022-03-29</td>\n",
       "      <td>2</td>\n",
       "    </tr>\n",
       "    <tr>\n",
       "      <th>1</th>\n",
       "      <td>1</td>\n",
       "      <td>analytics:dbt_apeltinovich.active_collectors</td>\n",
       "      <td>2022-02-22</td>\n",
       "      <td>1</td>\n",
       "    </tr>\n",
       "    <tr>\n",
       "      <th>2</th>\n",
       "      <td>2</td>\n",
       "      <td>analytics:dbt_apeltinovich.active_collectors</td>\n",
       "      <td>2022-03-09</td>\n",
       "      <td>1</td>\n",
       "    </tr>\n",
       "    <tr>\n",
       "      <th>3</th>\n",
       "      <td>3</td>\n",
       "      <td>analytics:dbt_apeltinovich.active_collectors</td>\n",
       "      <td>2022-03-16</td>\n",
       "      <td>1</td>\n",
       "    </tr>\n",
       "    <tr>\n",
       "      <th>5</th>\n",
       "      <td>5</td>\n",
       "      <td>analytics:dbt_apeltinovich.active_collectors</td>\n",
       "      <td>2022-03-27</td>\n",
       "      <td>1</td>\n",
       "    </tr>\n",
       "    <tr>\n",
       "      <th>...</th>\n",
       "      <td>...</td>\n",
       "      <td>...</td>\n",
       "      <td>...</td>\n",
       "      <td>...</td>\n",
       "    </tr>\n",
       "    <tr>\n",
       "      <th>2314</th>\n",
       "      <td>2314</td>\n",
       "      <td>analytics:prod_stage.rca_jobs</td>\n",
       "      <td>2022-03-05</td>\n",
       "      <td>4</td>\n",
       "    </tr>\n",
       "    <tr>\n",
       "      <th>2316</th>\n",
       "      <td>2316</td>\n",
       "      <td>analytics:prod_stage.tableau_accounts</td>\n",
       "      <td>2022-03-04</td>\n",
       "      <td>3</td>\n",
       "    </tr>\n",
       "    <tr>\n",
       "      <th>2317</th>\n",
       "      <td>2317</td>\n",
       "      <td>analytics:prod_stage.tableau_accounts</td>\n",
       "      <td>2022-03-05</td>\n",
       "      <td>4</td>\n",
       "    </tr>\n",
       "    <tr>\n",
       "      <th>2319</th>\n",
       "      <td>2319</td>\n",
       "      <td>analytics:prod_stage.users_history</td>\n",
       "      <td>2022-03-04</td>\n",
       "      <td>3</td>\n",
       "    </tr>\n",
       "    <tr>\n",
       "      <th>2321</th>\n",
       "      <td>2321</td>\n",
       "      <td>ingest:spark.query_logs</td>\n",
       "      <td>2022-04-01</td>\n",
       "      <td>5</td>\n",
       "    </tr>\n",
       "  </tbody>\n",
       "</table>\n",
       "<p>1493 rows × 4 columns</p>\n",
       "</div>"
      ],
      "text/plain": [
       "      index                                      FULL_TABLE_ID       date  \\\n",
       "0         0  ANALYTICS:DBT_DDABUSH_INTERNAL_BI_STAGE.SALESF... 2022-03-29   \n",
       "1         1       analytics:dbt_apeltinovich.active_collectors 2022-02-22   \n",
       "2         2       analytics:dbt_apeltinovich.active_collectors 2022-03-09   \n",
       "3         3       analytics:dbt_apeltinovich.active_collectors 2022-03-16   \n",
       "5         5       analytics:dbt_apeltinovich.active_collectors 2022-03-27   \n",
       "...     ...                                                ...        ...   \n",
       "2314   2314                      analytics:prod_stage.rca_jobs 2022-03-05   \n",
       "2316   2316              analytics:prod_stage.tableau_accounts 2022-03-04   \n",
       "2317   2317              analytics:prod_stage.tableau_accounts 2022-03-05   \n",
       "2319   2319                 analytics:prod_stage.users_history 2022-03-04   \n",
       "2321   2321                            ingest:spark.query_logs 2022-04-01   \n",
       "\n",
       "      UPDATE_TIME  \n",
       "0               2  \n",
       "1               1  \n",
       "2               1  \n",
       "3               1  \n",
       "5               1  \n",
       "...           ...  \n",
       "2314            4  \n",
       "2316            3  \n",
       "2317            4  \n",
       "2319            3  \n",
       "2321            5  \n",
       "\n",
       "[1493 rows x 4 columns]"
      ]
     },
     "execution_count": 325,
     "metadata": {},
     "output_type": "execute_result"
    }
   ],
   "source": [
    "upper_all_anom[~upper_all_anom.date.isin(global_upper_update_anom.index)]\n",
    "# we still need to check this."
   ]
  },
  {
   "cell_type": "code",
   "execution_count": 30,
   "id": "b7d3192d",
   "metadata": {},
   "outputs": [
    {
     "data": {
      "text/html": [
       "<div>\n",
       "<style scoped>\n",
       "    .dataframe tbody tr th:only-of-type {\n",
       "        vertical-align: middle;\n",
       "    }\n",
       "\n",
       "    .dataframe tbody tr th {\n",
       "        vertical-align: top;\n",
       "    }\n",
       "\n",
       "    .dataframe thead th {\n",
       "        text-align: right;\n",
       "    }\n",
       "</style>\n",
       "<table border=\"1\" class=\"dataframe\">\n",
       "  <thead>\n",
       "    <tr style=\"text-align: right;\">\n",
       "      <th></th>\n",
       "      <th>FULL_TABLE_ID</th>\n",
       "      <th>date</th>\n",
       "      <th>num_of_updates</th>\n",
       "    </tr>\n",
       "  </thead>\n",
       "  <tbody>\n",
       "    <tr>\n",
       "      <th>0</th>\n",
       "      <td>analytics:prod.active_collectors</td>\n",
       "      <td>2022-02-04</td>\n",
       "      <td>1</td>\n",
       "    </tr>\n",
       "    <tr>\n",
       "      <th>1</th>\n",
       "      <td>analytics:prod.active_collectors</td>\n",
       "      <td>2022-03-19</td>\n",
       "      <td>1</td>\n",
       "    </tr>\n",
       "    <tr>\n",
       "      <th>2</th>\n",
       "      <td>analytics:prod.active_collectors</td>\n",
       "      <td>2022-03-22</td>\n",
       "      <td>1</td>\n",
       "    </tr>\n",
       "    <tr>\n",
       "      <th>3</th>\n",
       "      <td>analytics:prod.active_collectors</td>\n",
       "      <td>2022-04-05</td>\n",
       "      <td>1</td>\n",
       "    </tr>\n",
       "    <tr>\n",
       "      <th>4</th>\n",
       "      <td>analytics:prod.active_monitors</td>\n",
       "      <td>2022-02-04</td>\n",
       "      <td>1</td>\n",
       "    </tr>\n",
       "  </tbody>\n",
       "</table>\n",
       "</div>"
      ],
      "text/plain": [
       "                      FULL_TABLE_ID       date  num_of_updates\n",
       "0  analytics:prod.active_collectors 2022-02-04               1\n",
       "1  analytics:prod.active_collectors 2022-03-19               1\n",
       "2  analytics:prod.active_collectors 2022-03-22               1\n",
       "3  analytics:prod.active_collectors 2022-04-05               1\n",
       "4    analytics:prod.active_monitors 2022-02-04               1"
      ]
     },
     "execution_count": 30,
     "metadata": {},
     "output_type": "execute_result"
    }
   ],
   "source": [
    "lower_all_anom = raw.groupby('FULL_TABLE_ID').apply(find_anomalies_by_standard_daily_updates,upper=False)\n",
    "lower_all_anom = lower_all_anom.reset_index().rename(columns={\"level_1\":\"date\",\"UPDATE_TIME\":\"num_of_updates\"})\n",
    "lower_all_anom.head()"
   ]
  },
  {
   "cell_type": "code",
   "execution_count": 32,
   "id": "de1cb942",
   "metadata": {},
   "outputs": [
    {
     "data": {
      "text/html": [
       "<div>\n",
       "<style scoped>\n",
       "    .dataframe tbody tr th:only-of-type {\n",
       "        vertical-align: middle;\n",
       "    }\n",
       "\n",
       "    .dataframe tbody tr th {\n",
       "        vertical-align: top;\n",
       "    }\n",
       "\n",
       "    .dataframe thead th {\n",
       "        text-align: right;\n",
       "    }\n",
       "</style>\n",
       "<table border=\"1\" class=\"dataframe\">\n",
       "  <thead>\n",
       "    <tr style=\"text-align: right;\">\n",
       "      <th></th>\n",
       "      <th>sum</th>\n",
       "    </tr>\n",
       "    <tr>\n",
       "      <th>date</th>\n",
       "      <th></th>\n",
       "    </tr>\n",
       "  </thead>\n",
       "  <tbody>\n",
       "    <tr>\n",
       "      <th>2022-02-04</th>\n",
       "      <td>829</td>\n",
       "    </tr>\n",
       "  </tbody>\n",
       "</table>\n",
       "</div>"
      ],
      "text/plain": [
       "            sum\n",
       "date           \n",
       "2022-02-04  829"
      ]
     },
     "execution_count": 32,
     "metadata": {},
     "output_type": "execute_result"
    }
   ],
   "source": [
    "lower_all_anom[lower_all_anom.date.isin(global_lower_update_anom.index)].groupby(\"date\")['num_of_updates'].agg(['sum'])\n"
   ]
  },
  {
   "cell_type": "code",
   "execution_count": 40,
   "id": "6cd77278",
   "metadata": {},
   "outputs": [
    {
     "data": {
      "text/plain": [
       "0.9411764705882353"
      ]
     },
     "execution_count": 40,
     "metadata": {},
     "output_type": "execute_result"
    }
   ],
   "source": [
    "lower_all_anom[lower_all_anom.date.isin(global_lower_update_anom.index)]['FULL_TABLE_ID'].nunique()/raw[raw['UPDATE_TIME'].dt.date.isin(global_lower_update_anom.index.date)]['FULL_TABLE_ID'].nunique()\n",
    "# we see the decrease in 94% of the series we can say this is system bootstap and assuming this fit the start the customer data,\n",
    "# we can ignore this."
   ]
  },
  {
   "cell_type": "code",
   "execution_count": 48,
   "id": "147217ce",
   "metadata": {
    "scrolled": true
   },
   "outputs": [
    {
     "data": {
      "text/html": [
       "<div>\n",
       "<style scoped>\n",
       "    .dataframe tbody tr th:only-of-type {\n",
       "        vertical-align: middle;\n",
       "    }\n",
       "\n",
       "    .dataframe tbody tr th {\n",
       "        vertical-align: top;\n",
       "    }\n",
       "\n",
       "    .dataframe thead th {\n",
       "        text-align: right;\n",
       "    }\n",
       "</style>\n",
       "<table border=\"1\" class=\"dataframe\">\n",
       "  <thead>\n",
       "    <tr style=\"text-align: right;\">\n",
       "      <th></th>\n",
       "      <th>FULL_TABLE_ID</th>\n",
       "      <th>date</th>\n",
       "      <th>num_of_updates</th>\n",
       "    </tr>\n",
       "  </thead>\n",
       "  <tbody>\n",
       "    <tr>\n",
       "      <th>1</th>\n",
       "      <td>analytics:prod.active_collectors</td>\n",
       "      <td>2022-03-19</td>\n",
       "      <td>1</td>\n",
       "    </tr>\n",
       "    <tr>\n",
       "      <th>2</th>\n",
       "      <td>analytics:prod.active_collectors</td>\n",
       "      <td>2022-03-22</td>\n",
       "      <td>1</td>\n",
       "    </tr>\n",
       "    <tr>\n",
       "      <th>3</th>\n",
       "      <td>analytics:prod.active_collectors</td>\n",
       "      <td>2022-04-05</td>\n",
       "      <td>1</td>\n",
       "    </tr>\n",
       "    <tr>\n",
       "      <th>5</th>\n",
       "      <td>analytics:prod.active_monitors</td>\n",
       "      <td>2022-02-20</td>\n",
       "      <td>1</td>\n",
       "    </tr>\n",
       "    <tr>\n",
       "      <th>6</th>\n",
       "      <td>analytics:prod.active_monitors</td>\n",
       "      <td>2022-03-22</td>\n",
       "      <td>1</td>\n",
       "    </tr>\n",
       "  </tbody>\n",
       "</table>\n",
       "</div>"
      ],
      "text/plain": [
       "                      FULL_TABLE_ID       date  num_of_updates\n",
       "1  analytics:prod.active_collectors 2022-03-19               1\n",
       "2  analytics:prod.active_collectors 2022-03-22               1\n",
       "3  analytics:prod.active_collectors 2022-04-05               1\n",
       "5    analytics:prod.active_monitors 2022-02-20               1\n",
       "6    analytics:prod.active_monitors 2022-03-22               1"
      ]
     },
     "execution_count": 48,
     "metadata": {},
     "output_type": "execute_result"
    }
   ],
   "source": [
    "low_anom = lower_all_anom[~lower_all_anom.date.isin(global_lower_update_anom.index)]\n",
    "low_anom.head()\n",
    "# we still need to check those"
   ]
  },
  {
   "cell_type": "code",
   "execution_count": 125,
   "id": "dad7471d",
   "metadata": {
    "scrolled": true
   },
   "outputs": [
    {
     "data": {
      "text/html": [
       "<div>\n",
       "<style scoped>\n",
       "    .dataframe tbody tr th:only-of-type {\n",
       "        vertical-align: middle;\n",
       "    }\n",
       "\n",
       "    .dataframe tbody tr th {\n",
       "        vertical-align: top;\n",
       "    }\n",
       "\n",
       "    .dataframe thead th {\n",
       "        text-align: right;\n",
       "    }\n",
       "</style>\n",
       "<table border=\"1\" class=\"dataframe\">\n",
       "  <thead>\n",
       "    <tr style=\"text-align: right;\">\n",
       "      <th></th>\n",
       "      <th>FULL_TABLE_ID</th>\n",
       "      <th>UPDATE_TIME</th>\n",
       "      <th>number_of_updates</th>\n",
       "    </tr>\n",
       "  </thead>\n",
       "  <tbody>\n",
       "    <tr>\n",
       "      <th>0</th>\n",
       "      <td>ANALYTICS:DBT_DDABUSH_INTERNAL_BI_STAGE.SALESF...</td>\n",
       "      <td>2022-03-15</td>\n",
       "      <td>2</td>\n",
       "    </tr>\n",
       "    <tr>\n",
       "      <th>1</th>\n",
       "      <td>ANALYTICS:DBT_DDABUSH_INTERNAL_BI_STAGE.SALESF...</td>\n",
       "      <td>2022-03-22</td>\n",
       "      <td>2</td>\n",
       "    </tr>\n",
       "    <tr>\n",
       "      <th>2</th>\n",
       "      <td>ANALYTICS:DBT_DDABUSH_INTERNAL_BI_STAGE.SALESF...</td>\n",
       "      <td>2022-03-29</td>\n",
       "      <td>2</td>\n",
       "    </tr>\n",
       "    <tr>\n",
       "      <th>3</th>\n",
       "      <td>ANALYTICS:DBT_DDABUSH_INTERNAL_BI_STAGE.SALESF...</td>\n",
       "      <td>2022-03-15</td>\n",
       "      <td>1</td>\n",
       "    </tr>\n",
       "    <tr>\n",
       "      <th>4</th>\n",
       "      <td>ANALYTICS:DBT_DDABUSH_INTERNAL_BI_STAGE.SALESF...</td>\n",
       "      <td>2022-03-22</td>\n",
       "      <td>1</td>\n",
       "    </tr>\n",
       "  </tbody>\n",
       "</table>\n",
       "</div>"
      ],
      "text/plain": [
       "                                       FULL_TABLE_ID UPDATE_TIME  \\\n",
       "0  ANALYTICS:DBT_DDABUSH_INTERNAL_BI_STAGE.SALESF...  2022-03-15   \n",
       "1  ANALYTICS:DBT_DDABUSH_INTERNAL_BI_STAGE.SALESF...  2022-03-22   \n",
       "2  ANALYTICS:DBT_DDABUSH_INTERNAL_BI_STAGE.SALESF...  2022-03-29   \n",
       "3  ANALYTICS:DBT_DDABUSH_INTERNAL_BI_STAGE.SALESF...  2022-03-15   \n",
       "4  ANALYTICS:DBT_DDABUSH_INTERNAL_BI_STAGE.SALESF...  2022-03-22   \n",
       "\n",
       "   number_of_updates  \n",
       "0                  2  \n",
       "1                  2  \n",
       "2                  2  \n",
       "3                  1  \n",
       "4                  1  "
      ]
     },
     "execution_count": 125,
     "metadata": {},
     "output_type": "execute_result"
    }
   ],
   "source": [
    "mean_daily_updates = raw.groupby([raw.FULL_TABLE_ID,raw.UPDATE_TIME.dt.date])['UPDATE_TIME'].count().to_frame()\n",
    "mean_daily_updates = mean_daily_updates.rename(columns={\"UPDATE_TIME\":\"number_of_updates\"}).reset_index()\n",
    "mean_daily_updates.head()"
   ]
  },
  {
   "cell_type": "code",
   "execution_count": 126,
   "id": "7b6aa3c8",
   "metadata": {},
   "outputs": [
    {
     "name": "stderr",
     "output_type": "stream",
     "text": [
      "/var/folders/3r/ygns0_h16pl1__pln5g3j8t80000gp/T/ipykernel_50659/1634036407.py:1: FutureWarning: ['UPDATE_TIME'] did not aggregate successfully. If any error is raised this will raise in a future version of pandas. Drop these columns/ops to avoid this warning.\n",
      "  mean_daily_updates = mean_daily_updates.groupby(\"FULL_TABLE_ID\").agg(['mean','std']).reset_index()#.droplevel(axis=1,level=0)\n"
     ]
    },
    {
     "data": {
      "text/html": [
       "<div>\n",
       "<style scoped>\n",
       "    .dataframe tbody tr th:only-of-type {\n",
       "        vertical-align: middle;\n",
       "    }\n",
       "\n",
       "    .dataframe tbody tr th {\n",
       "        vertical-align: top;\n",
       "    }\n",
       "\n",
       "    .dataframe thead tr th {\n",
       "        text-align: left;\n",
       "    }\n",
       "</style>\n",
       "<table border=\"1\" class=\"dataframe\">\n",
       "  <thead>\n",
       "    <tr>\n",
       "      <th></th>\n",
       "      <th>FULL_TABLE_ID</th>\n",
       "      <th colspan=\"2\" halign=\"left\">number_of_updates</th>\n",
       "    </tr>\n",
       "    <tr>\n",
       "      <th></th>\n",
       "      <th></th>\n",
       "      <th>mean</th>\n",
       "      <th>std</th>\n",
       "    </tr>\n",
       "  </thead>\n",
       "  <tbody>\n",
       "    <tr>\n",
       "      <th>0</th>\n",
       "      <td>ANALYTICS:DBT_DDABUSH_INTERNAL_BI_STAGE.SALESF...</td>\n",
       "      <td>2.000000</td>\n",
       "      <td>0.00000</td>\n",
       "    </tr>\n",
       "    <tr>\n",
       "      <th>1</th>\n",
       "      <td>ANALYTICS:DBT_DDABUSH_INTERNAL_BI_STAGE.SALESF...</td>\n",
       "      <td>1.333333</td>\n",
       "      <td>0.57735</td>\n",
       "    </tr>\n",
       "    <tr>\n",
       "      <th>2</th>\n",
       "      <td>analytics:dbt_aliu.kargo_bi</td>\n",
       "      <td>1.000000</td>\n",
       "      <td>NaN</td>\n",
       "    </tr>\n",
       "    <tr>\n",
       "      <th>3</th>\n",
       "      <td>analytics:dbt_aliu.table_metadata</td>\n",
       "      <td>1.000000</td>\n",
       "      <td>NaN</td>\n",
       "    </tr>\n",
       "    <tr>\n",
       "      <th>4</th>\n",
       "      <td>analytics:dbt_aliu_lineage.looker_nodes</td>\n",
       "      <td>2.000000</td>\n",
       "      <td>NaN</td>\n",
       "    </tr>\n",
       "  </tbody>\n",
       "</table>\n",
       "</div>"
      ],
      "text/plain": [
       "                                       FULL_TABLE_ID number_of_updates  \\\n",
       "                                                                  mean   \n",
       "0  ANALYTICS:DBT_DDABUSH_INTERNAL_BI_STAGE.SALESF...          2.000000   \n",
       "1  ANALYTICS:DBT_DDABUSH_INTERNAL_BI_STAGE.SALESF...          1.333333   \n",
       "2                        analytics:dbt_aliu.kargo_bi          1.000000   \n",
       "3                  analytics:dbt_aliu.table_metadata          1.000000   \n",
       "4            analytics:dbt_aliu_lineage.looker_nodes          2.000000   \n",
       "\n",
       "            \n",
       "       std  \n",
       "0  0.00000  \n",
       "1  0.57735  \n",
       "2      NaN  \n",
       "3      NaN  \n",
       "4      NaN  "
      ]
     },
     "execution_count": 126,
     "metadata": {},
     "output_type": "execute_result"
    }
   ],
   "source": [
    "mean_daily_updates = mean_daily_updates.groupby(\"FULL_TABLE_ID\").agg(['mean','std']).reset_index()#.droplevel(axis=1,level=0)\n",
    "mean_daily_updates.head()"
   ]
  },
  {
   "cell_type": "code",
   "execution_count": 76,
   "id": "7f59daa1",
   "metadata": {},
   "outputs": [
    {
     "data": {
      "text/plain": [
       "6.505826328511129"
      ]
     },
     "execution_count": 76,
     "metadata": {},
     "output_type": "execute_result"
    }
   ],
   "source": [
    "mean_daily_updates.mean()"
   ]
  },
  {
   "cell_type": "code",
   "execution_count": null,
   "id": "2b27faed",
   "metadata": {},
   "outputs": [],
   "source": []
  }
 ],
 "metadata": {
  "kernelspec": {
   "display_name": "Python 3 (ipykernel)",
   "language": "python",
   "name": "python3"
  },
  "language_info": {
   "codemirror_mode": {
    "name": "ipython",
    "version": 3
   },
   "file_extension": ".py",
   "mimetype": "text/x-python",
   "name": "python",
   "nbconvert_exporter": "python",
   "pygments_lexer": "ipython3",
   "version": "3.8.1"
  }
 },
 "nbformat": 4,
 "nbformat_minor": 5
}
