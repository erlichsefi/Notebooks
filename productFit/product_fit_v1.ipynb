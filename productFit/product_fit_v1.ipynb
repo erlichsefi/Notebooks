{
  "cells": [
    {
      "cell_type": "code",
      "execution_count": 5,
      "metadata": {},
      "outputs": [
        {
          "name": "stdout",
          "output_type": "stream",
          "text": [
            "Successfully installed annotated-types-0.6.0 anyio-4.2.0 distro-1.9.0 h11-0.14.0 httpcore-1.0.3 httpx-0.26.0 openai-1.12.0 pydantic-2.6.1 pydantic-core-2.16.2 sniffio-1.3.0 tqdm-4.66.2\n"
          ]
        }
      ],
      "source": [
        "! pip install requests\n",
        "! pip install beautifulsoup4\n",
        "! pip install openai\n",
        "! pip install streamlit\n",
        "! pip install scikit-learn"
      ]
    },
    {
      "cell_type": "code",
      "execution_count": 6,
      "metadata": {
        "colab": {
          "base_uri": "https://localhost:8080/"
        },
        "id": "rTcRw2EvNWqQ",
        "outputId": "8647f338-ad62-495a-aa33-e9ad65ae667f"
      },
      "outputs": [
        {
          "name": "stdout",
          "output_type": "stream",
          "text": [
            "MageGee Portable 60% Mechanical Gaming Keyboard, MK-Box LED Backlit Compact 68 Keys Mini Wired Office Keyboard with Red Switch for Windows Laptop PC Mac - Black/Grey\n",
            "Share: \n",
            "Found a lower price? Let us know. Although we can't match every price reported, we'll use your feedback to ensure that our prices remain competitive.\n",
            "\n",
            "\n",
            "\n",
            " \n",
            " · Dimension: 30.8*10.1*3.9cm, 12.1*4*1.5in \n",
            " · Net Weight: 570g,1.26lb \n",
            " · Keys: 68 keys \n",
            " · Switch: red switch \n",
            " · Connection: detachable type-c wired \n",
            " · Keycap: ergonomics ABS double-shot injection \n",
            " · Lighting: LED blue backlit, press Fn+Ins control about 15 kinds light modes \n",
            "\n",
            " \n",
            "\n",
            " \n",
            "\n",
            " \n",
            " To report an issue with this product or seller, click here. \n",
            "Customer Reviews, including Product Star Ratings help customers to learn more about the product and decide whether it is the right product for them.\n",
            "To calculate the overall star rating and percentage breakdown by star, we don’t use a simple average. Instead, our system considers things like how recent a review is and if the reviewer bought the item on Amazon. It also analyzed reviews to verify trustworthiness.\n",
            "Customers like the value of the keyboard. They say it's a great mechanical keyboard for the price. Customers also appreciate the appearance and size. However, some customers have concerns about durability, keyboard quality, sound quality, performance, and brightness.\n",
            "AI-generated from the text of customer reviews\n",
            "Customers appreciate the value of the keyboard. They mention that it's a great mechanical keyboard for the price, with good quality and amazing keys. Some say the size and price are perfect.\n",
            "\"...Really good for it's price. I recommend this product.\" Read more\n",
            "\"...Appearance wise, it looks to be quite nice for the price, the keyboard itself came with black and white keys with the orange keys coming in a...\" Read more\n",
            "\"...Following are my pros and consPROS-Affordable as hell, seriously if you have the money to buy a crappy membrane keyboard then you...\" Read more\n",
            "\"It's a good, almost great keyboard for the price, the only issue I have with it, is the randomness off it not responding and me having to unplug and...\" Read more\n",
            "Customers like the appearance of the keyboard. They mention that the look of it is good, the blue backlit keyboard still looks very good, and there are lighting. They also mention that it fits the bill and they love the color scheme. The quality is good for the price and the clicks and looks great. The lights have a lot of patterns and are easy to switch between them. Overall, customers are satisfied with the appearance and functionality of the product.\n",
            "\"...The keyboard is powered via USB-C, has a nice, single-color LED backlight with multiple settings, comes with some extra key caps, and is weighted...\" Read more\n",
            "\"Good quality , nice keys and color , great for gaming, work or school\" Read more\n",
            "\"...It's also nice and clicky when typing/gaming, the travel time with the keys are great....\" Read more\n",
            "\"...The keycaps it comes with are really nice doubleshots and it came with a bag of extras, even some that don't fit on this board, like number pad big...\" Read more\n",
            "Customers like the size of the keyboard. They mention that it's small enough to fit on their desk and orient the keyboard the way they want it. The size is a great balance between packable for travel and comfortable for typing and gaming. The keyboard is overall great and amazing size.\n",
            "\"Perfect size for a gaming area\" Read more\n",
            "\"...I have bought very high quality sounds very nice and nice for a Blue switch compact leaving plenty of room def buying again\" Read more\n",
            "\"Great space saver. Functions as expected with clacky blue switches....\" Read more\n",
            "\"I like how it sounds and love how small it is\" Read more\n",
            "Customers have mixed opinions about the quality of the keyboard. Some mention it's an amazing keyboard with great clicking noise, while others say that it' clackety and has different keys. Some customers also mention that the E key kept double-keying after a few months. Overall, the opinions are mixed and it'd be best to read the reviews carefully before making a purchase.\n",
            "\"...a nice, single-color LED backlight with multiple settings, comes with some extra key caps, and is weighted nicely....\" Read more\n",
            "\"...optional red key caps were not all compatible, including keys which are the wrong shape for this keyboard and an enter key which is the wrong height....\" Read more\n",
            "\"...This keyboard with the lights mods I did to it is the best keyboard Iv ever used.  Big fan.  I recommend it. All the other keyboards are from China....\" Read more\n",
            "\"it’s good quality. nice noises. only critic was that some keys are jammed and some don’t work ee. other than that pretty good.\" Read more\n",
            "Customers are mixed about the durability of the keyboard. Some mention that the build quality is ok, the board is solid, and the switches are decent. However, others say that it feels a little cheap, gets scratched super easily, and that the box was a bit damaged.\n",
            "\"Great product, sounds really nice and the light modes are fun to play around with. Really good for it's price. I recommend this product.\" Read more\n",
            "\"...felt nice and arrived in like 2 days, when i got it the box was a little damaged but it comes with a keycap puller and more keycaps....\" Read more\n",
            "\"Good quality , nice keys and color , great for gaming, work or school\" Read more\n",
            "\"it’s good quality. nice noises. only critic was that some keys are jammed and some don’t work ee. other than that pretty good.\" Read more\n",
            "Customers are mixed about the sound quality of the keyboard. Some mention that they love the sound of the keys clicking, while others say that it is a little loud, the switches sound a bit twangy, and the keyboard sounds hollow and cheap out of the box.\n",
            "\"exactly what i was hoping for, a nice clicky and responsive keyboard for cheap....\" Read more\n",
            "\"Great product, sounds really nice and the light modes are fun to play around with. Really good for it's price. I recommend this product.\" Read more\n",
            "\"Keyboard sounds hollow and cheap out of the box....\" Read more\n",
            "\"it’s good quality. nice noises. only critic was that some keys are jammed and some don’t work ee. other than that pretty good.\" Read more\n",
            "Customers are mixed about the performance of the keyboard. Some mention that it works as expected, has no issues whatsoever, and has clacky blue switches. Others, however, say that it doesn't work and is unusable. Some customers also mention that the keyboard has started to fail intermittently by not detecting keystrokes.\n",
            "\"...It's satisfying to type on and has an impressive set of modern features for the price....\" Read more\n",
            "\"...nice noises. only critic was that some keys are jammed and some don’t work ee. other than that pretty good.\" Read more\n",
            "\"...This keyboard can connect to PlayStation and Xbox and works perfectly fine. There is no RGB but that’s OK because of the cool light patterns....\" Read more\n",
            "\"...for the price, the only issue I have with it, is the randomness off it not responding and me having to unplug and plug it back in....\" Read more\n",
            "Customers are mixed about the brightness of the keyboard. Some mention that the clicks, adjust-ability and lighting features are great, while others say that the backlight isn't really bright and the keys don't even light up. Some complain that the yellow keys are dimmer than the rest of the keys and that the Q button light died.\n",
            "\"...The keyboard is powered via USB-C, has a nice, single-color LED backlight with multiple settings, comes with some extra key caps, and is weighted...\" Read more\n",
            "\"...Now.. onto brightness.. the brightness isn’t the best, even with full brightness, the light don’t really show up their the keycaps, only around it....\" Read more\n",
            "\"Great product, sounds really nice and the light modes are fun to play around with. Really good for it's price. I recommend this product.\" Read more\n",
            "\"...There is no RGB but that’s OK because of the cool light patterns. It also comes with additional key caps for the price....\" Read more\n"
          ]
        }
      ],
      "source": [
        "# prompt: code that will pull a html page from the web and phase is\n",
        "\n",
        "import requests\n",
        "from bs4 import BeautifulSoup\n",
        "\n",
        "# Define the URL of the web page you want to scrape\n",
        "url = \"https://a.co/d/7Z6Ne4i\"\n",
        "\n",
        "# Send a GET request to the URL and get the response\n",
        "response = requests.get(url)\n",
        "\n",
        "# Check for successful response\n",
        "if response.status_code == 200:\n",
        "    # Parse the HTML content using BeautifulSoup\n",
        "    soup = BeautifulSoup(response.content, 'html.parser')\n",
        "\n",
        "    # Find all the paragraph elements on the page\n",
        "    paragraphs = soup.find_all('p')\n",
        "\n",
        "    # Print the text of each paragraph\n",
        "    for paragraph in paragraphs:\n",
        "        print(paragraph.text)\n",
        "else:\n",
        "    # Handle error\n",
        "    print(f\"Error fetching the web page: {response.status_code}\")\n"
      ]
    },
    {
      "cell_type": "code",
      "execution_count": 8,
      "metadata": {
        "colab": {
          "base_uri": "https://localhost:8080/"
        },
        "id": "pa5bhkI4Nttc",
        "outputId": "bc9a053c-cad8-4ca5-b3b1-162d8cced39a"
      },
      "outputs": [
        {
          "name": "stdout",
          "output_type": "stream",
          "text": [
            "```json\n",
            "[\n",
            "    {\n",
            "        \"feature\": \"Dimension 30.8*10.1*3.9cm\",\n",
            "        \"personas\": [\n",
            "            \"Users who prefer a compact keyboard\"\n",
            "        ]\n",
            "    },\n",
            "    {\n",
            "        \"feature\": \"Net Weight: 570g,1.26lb\",\n",
            "        \"personas\": [\n",
            "            \"Users looking for a lightweight keyboard\"\n",
            "        ]\n",
            "    },\n",
            "    {\n",
            "        \"feature\": \"Keys: 68 keys\",\n",
            "        \"personas\": [\n",
            "            \"Gamers who prefer a minimalist keyboard setup\"\n",
            "        ]\n",
            "    },\n",
            "    {\n",
            "        \"feature\": \"Switch: red switch\",\n",
            "        \"personas\": [\n",
            "            \"Gamers looking for a responsive switch\"\n",
            "        ]\n",
            "    },\n",
            "    {\n",
            "        \"feature\": \"Connection: detachable type-c wired\",\n",
            "        \"personas\": [\n",
            "            \"Users who value convenience and portability\"\n",
            "        ]\n",
            "    },\n",
            "    {\n",
            "        \"feature\": \"Keycap: ergonomics ABS double-shot injection\",\n",
            "        \"personas\": [\n",
            "            \"Users looking for durable keycaps\"\n",
            "        ]\n",
            "    },\n",
            "    {\n",
            "        \"feature\": \"Lighting: LED blue backlit, press Fn+Ins control about 15 kinds light modes\",\n",
            "        \"personas\": [\n",
            "            \"Users who want customizable lighting options\"\n",
            "        ]\n",
            "    }\n",
            "]\n",
            "```\n"
          ]
        }
      ],
      "source": [
        "\n",
        "# Create a prompt that contains the paragraphs\n",
        "prompt = \"\"\"\n",
        "extract list of features of this product for each features, categorized the persona that will use it.\n",
        "response in json\n",
        "\n",
        "[{\n",
        "  \"feature\": <one of the features of the product>\n",
        "  \"personns\": [\n",
        "    <one of the persona that will need this feauture>,\n",
        "    // add more here\n",
        "  ]\n",
        "\n",
        "}]\n",
        "          \"\"\"\n",
        "for paragraph in paragraphs:\n",
        "    prompt += paragraph.text + \"\\n\"\n",
        "\n",
        "# Call OpenAI with the prompt\n",
        "from openai import OpenAI\n",
        "\n",
        "client = OpenAI()\n",
        "\n",
        "stream = client.chat.completions.create(\n",
        "    model=\"gpt-3.5-turbo\",\n",
        "    messages=[{\"role\": \"user\", \"content\": prompt}],\n",
        "    stream=False,\n",
        ")\n",
        "print(stream.choices[0].message.content)"
      ]
    },
    {
      "cell_type": "code",
      "execution_count": 9,
      "metadata": {
        "colab": {
          "base_uri": "https://localhost:8080/"
        },
        "id": "yo_IyklXON_m",
        "outputId": "90fae316-45a8-4dcf-f290-83f0e4bb8457"
      },
      "outputs": [
        {
          "name": "stdout",
          "output_type": "stream",
          "text": [
            "['Users who prefer a compact keyboard', 'Users looking for a lightweight keyboard', 'Gamers who prefer a minimalist keyboard setup', 'Gamers looking for a responsive switch', 'Users who value convenience and portability', 'Users looking for durable keycaps', 'Users who want customizable lighting options']\n"
          ]
        }
      ],
      "source": [
        "import json\n",
        "\n",
        "product_persons = json.loads(stream.choices[0].message.content.replace(\"json\",\"\").replace(\"```\",\"\"))\n",
        "\n",
        "persons_list = []\n",
        "for feature in product_persons:\n",
        "  for person in feature[\"personas\"]:\n",
        "    persons_list.append(person)\n",
        "\n",
        "print(persons_list)"
      ]
    },
    {
      "cell_type": "code",
      "execution_count": 12,
      "metadata": {},
      "outputs": [],
      "source": [
        "from openai import OpenAI\n",
        "import pandas as pd\n",
        "client = OpenAI()\n",
        "\n",
        "df = pd.DataFrame(data={\"persona\":persons_list})\n",
        "def get_embedding(text, model=\"text-embedding-3-small\"):\n",
        "   text = text.replace(\"\\n\", \" \")\n",
        "   return client.embeddings.create(input = [text], model=model).data[0].embedding\n",
        "\n",
        "df['ada_embedding'] = df.persona.apply(lambda x: get_embedding(x, model='text-embedding-3-small'))\n",
        "df.to_csv('basic_persona_v1.csv', index=False)"
      ]
    },
    {
      "cell_type": "code",
      "execution_count": 120,
      "metadata": {},
      "outputs": [],
      "source": [
        "def search_by_persona(input_text):\n",
        "    import pandas as pd\n",
        "    from sklearn.metrics.pairwise import cosine_similarity\n",
        "    import numpy as np\n",
        "    import ast\n",
        "    from numpy import dot\n",
        "    from numpy.linalg import norm\n",
        "\n",
        "\n",
        "    data = pd.read_csv('basic_persona_v1.csv')\n",
        "    data[\"ada_embedding\"] = data[\"ada_embedding\"].apply(lambda x: ast.literal_eval(x))\n",
        "\n",
        "    # Calculate cosine similarity\n",
        "    input_embedding = get_embedding(input_text)\n",
        "\n",
        "\n",
        "    # Calculate cosine similarity\n",
        "    similarities = data['ada_embedding'].apply(lambda x:dot(x, input_embedding)/(norm(x)*norm(input_embedding)))\n",
        "\n",
        "    return data.iloc[similarities.sort_values().index,:]['persona']\n"
      ]
    },
    {
      "cell_type": "code",
      "execution_count": 122,
      "metadata": {
        "colab": {
          "base_uri": "https://localhost:8080/"
        },
        "id": "OSCGVZvWT81a",
        "outputId": "b458cf4f-08b3-4f5f-c2b0-dc650652938f"
      },
      "outputs": [
        {
          "name": "stdout",
          "output_type": "stream",
          "text": [
            "User input is: I love taveling\n",
            "3           Gamers looking for a responsive switch\n",
            "5                Users looking for durable keycaps\n",
            "1         Users looking for a lightweight keyboard\n",
            "2    Gamers who prefer a minimalist keyboard setup\n",
            "6     Users who want customizable lighting options\n",
            "0              Users who prefer a compact keyboard\n",
            "4      Users who value convenience and portability\n",
            "Name: persona, dtype: object\n"
          ]
        }
      ],
      "source": [
        "# prompt: get user input\n",
        "name = input(\"Tell me about you self?\")\n",
        "print(f\"User input is: {name}\")\n",
        "ordered_res = search_by_persona(name)\n",
        "print(ordered_res)"
      ]
    },
    {
      "cell_type": "code",
      "execution_count": null,
      "metadata": {
        "id": "y1C8-V46UHKE"
      },
      "outputs": [],
      "source": []
    }
  ],
  "metadata": {
    "colab": {
      "provenance": []
    },
    "kernelspec": {
      "display_name": "Python 3",
      "name": "python3"
    },
    "language_info": {
      "codemirror_mode": {
        "name": "ipython",
        "version": 3
      },
      "file_extension": ".py",
      "mimetype": "text/x-python",
      "name": "python",
      "nbconvert_exporter": "python",
      "pygments_lexer": "ipython3",
      "version": "3.9.6"
    }
  },
  "nbformat": 4,
  "nbformat_minor": 0
}
